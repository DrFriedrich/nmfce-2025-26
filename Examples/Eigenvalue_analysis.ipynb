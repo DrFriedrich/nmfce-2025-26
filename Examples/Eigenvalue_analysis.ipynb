{
 "cells": [
  {
   "cell_type": "markdown",
   "id": "12543b5d-1232-43b6-b5a4-91566054a2eb",
   "metadata": {},
   "source": [
    "# Eigenvalue analysis"
   ]
  },
  {
   "cell_type": "code",
   "execution_count": null,
   "id": "d4ac1f35-5162-4942-82c6-9f3f375d141a",
   "metadata": {},
   "outputs": [],
   "source": [
    "import numpy as np"
   ]
  },
  {
   "cell_type": "markdown",
   "id": "95561f6c-5d82-4946-96f5-75a8c29c6e77",
   "metadata": {},
   "source": [
    "## Calculate eigenvalues and eigenvectors\n",
    "\n",
    "### Use numpy methods to find all eigenvalues"
   ]
  },
  {
   "cell_type": "code",
   "execution_count": null,
   "id": "5e54ba15-0bc0-4238-b865-5135fd594d0e",
   "metadata": {},
   "outputs": [],
   "source": [
    "A = np.array([[1, 2, -1], \n",
    "              [3, 0, -2],\n",
    "              [-1, 1, 4]])\n",
    "w, v = np.linalg.eig(A)\n",
    "print('Eigenvalue:', w)\n",
    "print('Eigenvector', v)"
   ]
  },
  {
   "cell_type": "markdown",
   "id": "51b78545-9621-449d-9381-322766d5059b",
   "metadata": {},
   "source": [
    "### Find extreme eigenvalues\n",
    "\n",
    "- Demonstrate for a positive-definite matrix A which is obtained by discretising a diffusion equation in one dimension\n",
    "- The matrix is defined as a sparse matrix"
   ]
  },
  {
   "cell_type": "code",
   "execution_count": null,
   "id": "8b95133a-103e-4220-8aad-6bd2fd48f2a5",
   "metadata": {},
   "outputs": [],
   "source": [
    "from scipy.sparse import spdiags\n",
    "N = 25\n",
    "v = np.ones(N)\n",
    "A = spdiags([-v, 2*v, -v], np.array([-1, 0, 1]), N, N).toarray()"
   ]
  },
  {
   "cell_type": "markdown",
   "id": "f157fb22-d0e6-42ce-9183-e09838b295ba",
   "metadata": {},
   "source": [
    "Find the largest eigenvalues and corresponding eigenvectors"
   ]
  },
  {
   "cell_type": "code",
   "execution_count": null,
   "id": "157fe07a-eae9-4fce-9f9b-f26e468e235e",
   "metadata": {},
   "outputs": [],
   "source": [
    "from scipy.sparse import linalg\n",
    "# Find largest eigenvalues\n",
    "e_large = linalg.eigs(A, k=3, which='LM')\n",
    "e_large"
   ]
  },
  {
   "cell_type": "markdown",
   "id": "0dd0eee1-e21a-40ca-868d-aefe55966b86",
   "metadata": {},
   "source": [
    "Find smallest eigenvalues and corresponding eigenvectors"
   ]
  },
  {
   "cell_type": "code",
   "execution_count": null,
   "id": "ba6c299d-d864-47a6-af06-3587f6d3dd3e",
   "metadata": {},
   "outputs": [],
   "source": [
    "e_small = linalg.eigs(A, k=3, which='SM')\n",
    "print(e_small[1][:,0])"
   ]
  },
  {
   "cell_type": "markdown",
   "id": "f3c85413-be18-421e-87b5-51301e905834",
   "metadata": {},
   "source": [
    "Plot the eigenvectors"
   ]
  },
  {
   "cell_type": "code",
   "execution_count": null,
   "id": "e50de229-f704-4fbe-ad42-3fe01c9f6d96",
   "metadata": {},
   "outputs": [],
   "source": [
    "import matplotlib.pyplot as plt\n",
    "\n",
    "plt.plot(-e_small[1][:,0], '--', label=r\"$\\lambda=0.0146$\")\n",
    "plt.plot(e_large[1][:,0], label=r\"$\\lambda=3.9854$\")\n",
    "plt.xlabel(\"Component\")\n",
    "plt.ylabel(\"Eigenvector component\")\n",
    "plt.title(\"Eigenvector components for the smallest and largest eigenvalues for a 1D diffusion matrix\")\n",
    "plt.legend()\n",
    "plt.show()"
   ]
  },
  {
   "cell_type": "markdown",
   "id": "15e5928d-b420-4094-b5f2-5a8e1fe6d902",
   "metadata": {},
   "source": [
    "## Power method\n",
    "\n",
    "Missing at the moment"
   ]
  },
  {
   "cell_type": "code",
   "execution_count": null,
   "id": "bba8f8ce-ceee-4350-ac3b-ea793e4cee47",
   "metadata": {},
   "outputs": [],
   "source": []
  }
 ],
 "metadata": {
  "kernelspec": {
   "display_name": "Python 3 (ipykernel)",
   "language": "python",
   "name": "python3"
  },
  "language_info": {
   "codemirror_mode": {
    "name": "ipython",
    "version": 3
   },
   "file_extension": ".py",
   "mimetype": "text/x-python",
   "name": "python",
   "nbconvert_exporter": "python",
   "pygments_lexer": "ipython3",
   "version": "3.12.6"
  }
 },
 "nbformat": 4,
 "nbformat_minor": 5
}
