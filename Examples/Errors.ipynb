{
 "cells": [
  {
   "cell_type": "markdown",
   "id": "ddeaf403",
   "metadata": {},
   "source": [
    "# Errors"
   ]
  },
  {
   "cell_type": "markdown",
   "id": "ddbc1288",
   "metadata": {},
   "source": [
    "Calculate the first order approximation of the first derivative given by\n",
    "\\[\n",
    "\\frac{df}{dx} \\approx \\frac{f(x + h) - f(x)}{h}\n",
    "\\]\n",
    "of the function\n",
    "\\[\n",
    "f(x) = \\exp(x)\n",
    "\\]\n",
    "at $x=0$ and for step sizes $h=10^{-i}$ for $i=1,\\dots,16$. \n",
    "\n",
    "Calculate the relative error against the true derivative. Comment on the relative error for different values of $h$."
   ]
  },
  {
   "cell_type": "code",
   "execution_count": null,
   "id": "38d179b5",
   "metadata": {},
   "outputs": [],
   "source": [
    "import numpy as np\n",
    "def f(x):\n",
    "    return np.exp(x)\n",
    "\n",
    "h = 0.1        # Initial step size\n",
    "x = 0.1        # Value at which the derivative is calculated\n",
    "for i in range(16):\n",
    "    df = (f(x+h) - f(x)) / h   # Numerical derivative\n",
    "    print(\"For step of {:.1e} the absolute and relative error are: {:1.8f} and {:1.8f}\".format(h, df-f(x), (df-f(x))/f(x)))\n",
    "    h = h * 0.1\n"
   ]
  },
  {
   "cell_type": "markdown",
   "id": "ce16831b",
   "metadata": {},
   "source": [
    "From the results it is clear that the relative error decreases for values of $h$ from $0.1$ to $10^{-8}$ and increases for smaller values of $h$. For $h=10^{-16}$ the relative error is $100\\%$. This shows that there is an optimal value of $h$ for which the combination of round-off and truncation error is minimal."
   ]
  },
  {
   "cell_type": "code",
   "execution_count": null,
   "id": "789b298d",
   "metadata": {},
   "outputs": [],
   "source": []
  }
 ],
 "metadata": {
  "kernelspec": {
   "display_name": "Python 3 (ipykernel)",
   "language": "python",
   "name": "python3"
  },
  "language_info": {
   "codemirror_mode": {
    "name": "ipython",
    "version": 3
   },
   "file_extension": ".py",
   "mimetype": "text/x-python",
   "name": "python",
   "nbconvert_exporter": "python",
   "pygments_lexer": "ipython3",
   "version": "3.9.7"
  }
 },
 "nbformat": 4,
 "nbformat_minor": 5
}
