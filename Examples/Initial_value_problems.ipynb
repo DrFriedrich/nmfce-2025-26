{
 "cells": [
  {
   "cell_type": "markdown",
   "id": "d09d8967-d669-41fa-94fd-c208b0de9eb4",
   "metadata": {},
   "source": [
    "# Initial value problems\n",
    "---\n",
    "\n",
    "This notebook shows how to use explicit single-step methods to solve initial value problems (IVP). We start with a simple implementation of the forward Euler's method before we show how to use an ODE solver from the SciPy module *integrate*.\n",
    "\n",
    "## Explicit single-step methods\n",
    "\n",
    "We consider the differential equation\n",
    "$$\n",
    "\\dot{\\textbf{x}}(t) = \\textbf{f}(t, \\textbf{x}; \\Theta), \\quad \\textbf{x}(t_0) = \\textbf{x}_0\n",
    "$$\n",
    "\n",
    "- We start at $t_0$ with the initial value $\\textbf{x}_0$\n",
    "- Step by step we calculate further points $\\textbf{x}_k\\approx\\textbf{x}(t_k)$ at discrete time steps $t_k = t_0 + k h$\n",
    "$$\n",
    "\\textbf{x}_{k+1} = \\textbf{x}_{k} + h F(t, \\textbf{x}_{k};\\Theta), \\quad k=1,2,\\dots\n",
    "$$"
   ]
  },
  {
   "cell_type": "markdown",
   "id": "e93e358a-ea8f-4ac4-abe3-d8978965f2c8",
   "metadata": {},
   "source": [
    "## Euler's method\n",
    "\n",
    "- From the initial value $x(t_0)$ take a step of size $h$ along the tangent, i.e. derivative at $t_0$\n",
    "- This gives us the update formula\n",
    "$$\n",
    "x_{k+1} = x_{k} + h f(t_k, x_k)\n",
    "$$\n",
    "\n",
    "<img src=\"figures/ODE_Euler_single_step.png\" alt=\"One step of the explicit Euler's method\" width=\"400\"/>"
   ]
  },
  {
   "cell_type": "code",
   "execution_count": null,
   "id": "93ba4bfe-03f0-4b00-abf8-95be670ed384",
   "metadata": {},
   "outputs": [],
   "source": [
    "import numpy as np\n",
    "def Eulers_method(dxdt, x0, t0, tmax, N):\n",
    "    '''Simple implementation of the forward Euler's method\n",
    "    \n",
    "    This implementation takes the initial and final time as well as the number of time steps.\n",
    "    It calculate a uniform step size and returns a numpy array with the solution at each time step.\n",
    "    \n",
    "    Parameters\n",
    "    ----------\n",
    "    dxdt : function\n",
    "        Derivative function\n",
    "    x0 : float\n",
    "        Initial value\n",
    "    t0 : float\n",
    "        Initial time\n",
    "    tmax : float\n",
    "        Final time\n",
    "    N : int\n",
    "        Number of time steps\n",
    "    \n",
    "    Returns\n",
    "    -------\n",
    "    t : numpy array\n",
    "        Time steps\n",
    "    x : numpy array\n",
    "        Solution at the time steps    \n",
    "    '''\n",
    "    t = np.linspace(t0, tmax, N)\n",
    "    x = x0 * np.ones(N)\n",
    "\n",
    "    for i in range(1, N):\n",
    "        x[i] = x[i-1] + (t[i] - t[i-1]) * dxdt(t[i-1], x[i-1])\n",
    "    \n",
    "    return t, x"
   ]
  },
  {
   "cell_type": "markdown",
   "id": "6d7a3a00-9d85-4191-b743-e03a071c5e76",
   "metadata": {},
   "source": [
    "### Exponential growth example\n",
    "\n",
    "We consider exponential growth with an inhibiting term which can be modelled by\n",
    "$$\n",
    "x'(t) = 4 \\exp(0.8t) - 0.5 x = f(t, x)\n",
    "$$\n",
    "from $t=0$ to $t=4$ and with $x(t=0) = 2$\n",
    "\n",
    "The true solution can be found analytically as\n",
    "$$\n",
    "x(t) = \\frac{4}{1.3}\\left(\\exp(0.8t) - \\exp(-0.5t)\\right) + 2\\exp(-0.5t)\n",
    "$$\n",
    "\n",
    "**Remark:**\n",
    "We are using *lambda* functions but you could also implement it with the standard function definition *def*"
   ]
  },
  {
   "cell_type": "code",
   "execution_count": null,
   "id": "354032b6-d468-4aa7-a726-3e09276163b4",
   "metadata": {},
   "outputs": [],
   "source": [
    "tmin = 0\n",
    "tmax = 4\n",
    "# Exact solution\n",
    "xexact = lambda t: 4/1.3 * (np.exp(0.8*t) - np.exp(-0.5*t)) + 2*np.exp(-0.5*t)\n",
    "\n",
    "# Update function\n",
    "dx = lambda t, x : (4*np.exp(0.8*t) - 0.5 * x)\n",
    "\n",
    "t, x = Eulers_method(dx, 2, tmin, tmax, 9)\n",
    "\n",
    "import matplotlib.pyplot as plt\n",
    "plt.plot(t, x, 'k-o')\n",
    "\n",
    "tt = np.linspace(tmin, tmax, 100)\n",
    "plt.plot(tt, xexact(tt), 'b')\n",
    "plt.show()"
   ]
  },
  {
   "cell_type": "markdown",
   "id": "1033c7b0-a6bf-4d5a-bc68-1e6d44040344",
   "metadata": {},
   "source": [
    "### Bacterial population density dynamics\n",
    "\n",
    "- Consider the bacterial population density $x(t)$ which has the growth rate $\\alpha - \\beta x$\n",
    "- This leads to the first order differential equation\n",
    "$$\n",
    "\\dot{x}(t) = (\\alpha - \\beta x(t)) x(t)\n",
    "$$\n",
    "where $\\alpha>0$ with units s$^{-1}$ and $\\beta>0$ with units m$^2\\,$s$^{-1}$\n",
    "- Evaluate the system for the initial condition $x(0) = 1$ and with the parameters $\\alpha=2$ and $\\beta=0.2$\n",
    "\n",
    "#### Part a) \n",
    "\n",
    "Calculate a few steps of the forward Euler's method for this problem with step size $\\Delta t = 1$.\n",
    "\n",
    "Define the function and apply Euler's method defined above."
   ]
  },
  {
   "cell_type": "code",
   "execution_count": null,
   "id": "281cff83-d8f1-4121-90e8-f036a043aabc",
   "metadata": {},
   "outputs": [],
   "source": [
    "tmin = 0\n",
    "tmax = 10\n",
    "N = 11\n",
    "alpha = 2\n",
    "beta = 0.2\n",
    "\n",
    "# Update function\n",
    "dx = lambda t, x: (alpha - beta*x) * x\n",
    "\n",
    "t, x = Eulers_method(dx, 1, tmin, tmax, N)\n",
    "\n",
    "import matplotlib.pyplot as plt\n",
    "plt.plot(t, x, 'k-o')\n",
    "plt.xlabel(\"Time\")\n",
    "plt.ylabel(\"x(t)\")\n",
    "plt.title(\"Solution for a time step of {}\".format((tmax-tmin)/(N-1)))\n",
    "plt.show()"
   ]
  },
  {
   "cell_type": "markdown",
   "id": "c51d5a2d-3a6f-4331-9c6c-4b89cca2621e",
   "metadata": {},
   "source": [
    "We can see that the solution oscillates around the value of 10 and that the amplitude of the oscillations seems to decrease.\n",
    "\n",
    "#### Part b) \n",
    "\n",
    "Apply Euler's method with a time steps of 0.25, 0.5 and 1.25. Explain the results."
   ]
  },
  {
   "cell_type": "code",
   "execution_count": null,
   "id": "70bb8ffa-6a44-4faf-b1ce-963345979ecc",
   "metadata": {},
   "outputs": [],
   "source": [
    "Nlist = [9, 21, 41]\n",
    "\n",
    "for N in Nlist:\n",
    "    t, x = Eulers_method(dx, 1, tmin, tmax, N)\n",
    "\n",
    "    import matplotlib.pyplot as plt\n",
    "    plt.plot(t, x, 'k-o')\n",
    "    plt.xlabel(\"Time\")\n",
    "    plt.ylabel(\"x(t)\")\n",
    "    plt.title(\"Solution for a time step of {}\".format((tmax-tmin)/(N-1)))\n",
    "    plt.show()"
   ]
  },
  {
   "cell_type": "markdown",
   "id": "624f98c9-1754-4024-a09c-d2c59d8beb14",
   "metadata": {},
   "source": [
    "The method converges to the correct solution for $h\\le1$ but shows oscillations for values of $0.5<h\\le1$. For values of $h>1$ the method diverges.\n"
   ]
  },
  {
   "cell_type": "markdown",
   "id": "31bd9b50-5a27-4827-9ad7-71496e2a588c",
   "metadata": {},
   "source": [
    "## Python ODE solvers\n",
    "\n",
    "### Stiff problem from the lecture slides"
   ]
  },
  {
   "cell_type": "code",
   "execution_count": null,
   "id": "95ae7562-eca4-480d-badc-5425039a2bee",
   "metadata": {
    "tags": []
   },
   "outputs": [],
   "source": [
    "def stiff_ODE(t, x, k1, k2, cm):\n",
    "# Stiff reaction ODE system\n",
    "    dxdt = np.zeros(2)\n",
    "    dxdt[0] = -k1 * cm * x[0]\n",
    "    dxdt[1] = k1 * cm * x[0] - k2 * x[1]\n",
    "\n",
    "    return dxdt"
   ]
  },
  {
   "cell_type": "markdown",
   "id": "86ceff3d-5c58-490c-86db-09b1e732351d",
   "metadata": {},
   "source": [
    "Solve the stiff ODE system with different ODE solver from `scipy.integrate`. Test the standard explicit Runge-Kutta method of order 5(4) and the implicit Runge-Kutta method of the Radau IIA family of order 5."
   ]
  },
  {
   "cell_type": "code",
   "execution_count": null,
   "id": "93bd24fe-3832-4d24-bc0e-126018e9e0d9",
   "metadata": {
    "tags": []
   },
   "outputs": [],
   "source": [
    "# ODE_stiff_solve.m - solve stiff ODE system with different ODE solvers\n",
    "# Compare ode45 and ode15s for systems with increasing stiffness\n",
    "import numpy as np\n",
    "from scipy.integrate import solve_ivp\n",
    "import time\n",
    "\n",
    "k1 = 1\n",
    "k2 = 1\n",
    "cm = 1\n",
    "# Initial values\n",
    "c0 = [1, 0]\n",
    "\n",
    "time_Radau = []\n",
    "time_RK45 = []\n",
    "k2s = []\n",
    "sols = []\n",
    "# Solve the ODE with different solvers and reaction rates\n",
    "for i in range(6):\n",
    "    k2s.append(k2)\n",
    "    start = time.time()\n",
    "    print(\"Start time for k2={} is {:0.6f} seconds\".format(k2, start))\n",
    "    sol = solve_ivp(stiff_ODE, [0, 10], c0, method='Radau', rtol=1e-3, args=(k1, k2, cm))\n",
    "    time_Radau.append(time.time()-start)\n",
    "    \n",
    "    # Add the solution with the Radau method to the list\n",
    "    sols.append(sol)\n",
    "    \n",
    "    start = time.time()\n",
    "    sol = solve_ivp(stiff_ODE, [0, 10], c0, method='RK45', rtol=1e-3, args=(k1, k2, cm))\n",
    "    time_RK45.append(time.time()-start)\n",
    "    \n",
    "    k2 = k2 * 10"
   ]
  },
  {
   "cell_type": "code",
   "execution_count": null,
   "id": "9ab1d8c4-94a7-446a-8e9a-a5ad4ea8866a",
   "metadata": {
    "tags": []
   },
   "outputs": [],
   "source": [
    "import matplotlib.pyplot as plt\n",
    "plt.semilogy(np.log(k2s), time_Radau, 'rx--', label=\"Radau\")\n",
    "plt.semilogy(np.log(k2s), time_RK45, 'g*--', label=\"RK45\")\n",
    "plt.xlabel(\"log(k2s)\")\n",
    "plt.ylabel(\"Solution time [s]\")\n",
    "plt.legend()\n",
    "plt.show()"
   ]
  },
  {
   "cell_type": "code",
   "execution_count": null,
   "id": "b2824314-fc70-4b63-857a-44778188d294",
   "metadata": {
    "tags": []
   },
   "outputs": [],
   "source": [
    "# Generate the output for the LaTeX table for the lecture slides\n",
    "sRK45 = str()\n",
    "sRadau = str()\n",
    "for i, j in zip(time_RK45, time_Radau):\n",
    "    sRK45 = sRK45 + \"{:4.4f} & \".format(i)\n",
    "    sRadau = sRadau + \"{:4.4f} & \".format(j)\n",
    "\n",
    "print(\"RK45:\", sRK45)\n",
    "print(\"Radau:\", sRadau)"
   ]
  },
  {
   "cell_type": "markdown",
   "id": "0d90f4b0-be60-44e4-9a73-009e0e154170",
   "metadata": {},
   "source": [
    "#### Plot the solution for different values of k$_2$"
   ]
  },
  {
   "cell_type": "code",
   "execution_count": null,
   "id": "1e19fa48-a959-42cb-8a62-562d9a19fa7c",
   "metadata": {
    "tags": []
   },
   "outputs": [],
   "source": [
    "import matplotlib.pyplot as plt\n",
    "\n",
    "# Define the plot\n",
    "fig, ax = plt.subplots(1, 1, figsize=(15, 6))\n",
    "\n",
    "i = 2\n",
    "sol = sols[i]\n",
    "ax.plot(sol.t, sol.y[0], 'k-', label=\"A\")\n",
    "ax.plot(sol.t, sol.y[1], 'r-.', label=\"A*\")\n",
    "ax.plot(sol.t, 1 - sol.y[0] - sol.y[1], 'g:', label=\"B\")\n",
    "ax.set_xlabel(\"Nondimensional time [-]\", fontsize=14)\n",
    "ax.set_ylabel(\"Nondimensional concentration [-]\", fontsize=14)\n",
    "ax.set_title(r\"Concentrations in the reactor for k$_2$={}\".format(k2s[i]))\n",
    "ax.set_yscale('log')\n",
    "plt.xlim([0.00001, np.max(sol.t)])\n",
    "ax.legend()\n",
    "plt.show()"
   ]
  },
  {
   "cell_type": "code",
   "execution_count": null,
   "id": "b6628fd2-1389-49c6-bf8c-ca7c3bb6deb9",
   "metadata": {},
   "outputs": [],
   "source": []
  }
 ],
 "metadata": {
  "kernelspec": {
   "display_name": "Python 3 (ipykernel)",
   "language": "python",
   "name": "python3"
  },
  "language_info": {
   "codemirror_mode": {
    "name": "ipython",
    "version": 3
   },
   "file_extension": ".py",
   "mimetype": "text/x-python",
   "name": "python",
   "nbconvert_exporter": "python",
   "pygments_lexer": "ipython3",
   "version": "3.12.6"
  }
 },
 "nbformat": 4,
 "nbformat_minor": 5
}
