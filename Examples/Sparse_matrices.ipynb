{
 "cells": [
  {
   "cell_type": "markdown",
   "id": "af3dda9f",
   "metadata": {},
   "source": [
    "# Sparse matrices\n",
    "\n",
    "---\n",
    "\n",
    "Provide some examples for the handling of sparse matrices in Python."
   ]
  },
  {
   "cell_type": "code",
   "execution_count": null,
   "id": "1c281e20",
   "metadata": {},
   "outputs": [],
   "source": [
    "import numpy as np\n",
    "from scipy.sparse import csr_matrix\n",
    "A = csr_matrix([[1, 2, 0], [0, 0, 3], [4, 0, 5]])\n",
    "v = np.array([1, 0, -1])\n",
    "A.dot(v)\n",
    "\n",
    "import matplotlib.pyplot as plt\n",
    "plt.spy(A)"
   ]
  },
  {
   "cell_type": "code",
   "execution_count": null,
   "id": "236808f3-1ce7-4f63-b132-46fbeedb8e0b",
   "metadata": {},
   "outputs": [],
   "source": [
    "import numpy as np\n",
    "import scipy.sparse as sp\n",
    "import scipy.sparse.linalg as linalg\n",
    "import time\n",
    "\n",
    "N = 500\n",
    "\n",
    "# Inefficient initialization of the sparse matrix\n",
    "start_time = time.time()\n",
    "A = sp.dok_matrix((N, N))\n",
    "A[0, 0] = 2\n",
    "A[0, 1] = -1\n",
    "for k in range(1, N-1):\n",
    "    A[k, k-1] = -1\n",
    "    A[k, k] = 2\n",
    "    A[k, k+1] = -1\n",
    "A[N-1, N-2] = -1\n",
    "A[N-1, N-1] = 2\n",
    "A = A.tocsr()\n",
    "print(\"Inefficient sparse init time:\", time.time() - start_time)"
   ]
  },
  {
   "cell_type": "code",
   "execution_count": null,
   "id": "44b3b265-e5b6-4690-8e67-c462aaf698d8",
   "metadata": {},
   "outputs": [],
   "source": [
    "# More efficient initialization\n",
    "start_time = time.time()\n",
    "v = np.ones(N)\n",
    "A2 = sp.diags([-v, 2*v, -v], [-1, 0, 1], shape=(N, N), format=\"csr\")\n",
    "print(\"Efficient sparse init time:\", time.time() - start_time)"
   ]
  },
  {
   "cell_type": "code",
   "execution_count": null,
   "id": "c2755d80-3487-4c95-b9d5-d268632e23b9",
   "metadata": {},
   "outputs": [],
   "source": [
    "# Non-sparse matrix\n",
    "A3 = np.zeros((N, N))\n",
    "A3[0, 0] = 2\n",
    "A3[0, 1] = -1\n",
    "for k in range(1, N-1):\n",
    "    A3[k, k-1] = -1\n",
    "    A3[k, k] = 2\n",
    "    A3[k, k+1] = -1\n",
    "A3[N-1, N-2] = -1\n",
    "A3[N-1, N-1] = 2\n",
    "\n",
    "# Time solution of linear algebraic equation system\n",
    "b = np.ones(N)\n",
    "\n",
    "t_sparse = float('inf')\n",
    "t_dense = float('inf')\n",
    "for i in range(3):\n",
    "    start_time = time.time()\n",
    "    x = linalg.spsolve(A2, b)\n",
    "    t_sparse = min(t_sparse, time.time() - start_time)\n",
    "\n",
    "    start_time = time.time()\n",
    "    x_dense = np.linalg.solve(A3, b)\n",
    "    t_dense = min(t_dense, time.time() - start_time)\n",
    "\n",
    "print(\"Sparse solve time:\", t_sparse)\n",
    "print(\"Dense solve time:\", t_dense)\n",
    "print(\"Max difference in the solution:\", np.max(np.abs(x - x_dense)))"
   ]
  },
  {
   "cell_type": "code",
   "execution_count": null,
   "id": "420a5897-89c9-42b5-bce0-c7b3b45a9a0b",
   "metadata": {},
   "outputs": [],
   "source": []
  }
 ],
 "metadata": {
  "kernelspec": {
   "display_name": "Python 3 (ipykernel)",
   "language": "python",
   "name": "python3"
  },
  "language_info": {
   "codemirror_mode": {
    "name": "ipython",
    "version": 3
   },
   "file_extension": ".py",
   "mimetype": "text/x-python",
   "name": "python",
   "nbconvert_exporter": "python",
   "pygments_lexer": "ipython3",
   "version": "3.12.6"
  }
 },
 "nbformat": 4,
 "nbformat_minor": 5
}
