{
 "cells": [
  {
   "cell_type": "markdown",
   "id": "9985c96c-a1a1-4c1b-9312-9922605667cf",
   "metadata": {},
   "source": [
    "# Numerical quadrature\n",
    "\n",
    "## Newton-Cotes formulas"
   ]
  },
  {
   "cell_type": "markdown",
   "id": "a0d3c92f-551f-4a99-bcee-1c6501fd1af7",
   "metadata": {},
   "source": [
    "### Part a) Composite Simpson's rule\n",
    "\n",
    "Write a function to calculate the composite Simpson's rule."
   ]
  },
  {
   "cell_type": "code",
   "execution_count": null,
   "id": "1b78b1c1-3f08-4dc3-a6b8-de6fbabf3161",
   "metadata": {},
   "outputs": [],
   "source": [
    "def composite_Simpson(f, a, b, n):\n",
    "    \"\"\"\n",
    "    Calculate the area under the function f between a and b with the composite Simpson's rule with n elements\n",
    "    \"\"\"\n",
    "    integral = 0\n",
    "    for i in range(n):\n",
    "        xleft = a + i*(b-a)/n\n",
    "        xright = xleft + (b-a)/n\n",
    "        integral = integral + (xright - xleft)/6. * (f(xleft) + 4. * f((xleft+xright)/2) + f(xright))\n",
    "\n",
    "    return integral"
   ]
  },
  {
   "cell_type": "markdown",
   "id": "efd85582-74e5-4398-afe8-1131330f6013",
   "metadata": {},
   "source": [
    "### Part b)\n",
    "\n",
    "Test the accuracy for the integral\n",
    "$$\n",
    "\\int_{-3}^5 \\left(x^5 + 2x^4 - 9x^2 +13x\\right) dx\n",
    "$$ \n",
    "\n",
    "First define a function for the polynomial and a function for its derivative."
   ]
  },
  {
   "cell_type": "code",
   "execution_count": null,
   "id": "ce1cd3a6-9083-456f-b60c-fb566d3dda8b",
   "metadata": {},
   "outputs": [],
   "source": [
    "def polynomial(x):\n",
    "    f = x**5 + 2* x**4 - 9 * x**2 + 13*x\n",
    "    return f\n",
    "\n",
    "def polynomial_derivative(x):\n",
    "    return 1/6 * x**6 + 2/5*x**5 - 9/3*x**3 + 13/2*x**2"
   ]
  },
  {
   "cell_type": "markdown",
   "id": "51319bce-4d24-4796-a886-30630010a5a1",
   "metadata": {},
   "source": [
    "Calculate the integral analytically and with the composite Simpson's rule for different numbers of intervals."
   ]
  },
  {
   "cell_type": "code",
   "execution_count": null,
   "id": "684a2fb4-bdfa-4d0e-a685-043a68cbbc37",
   "metadata": {},
   "outputs": [],
   "source": [
    "# Exact integral\n",
    "If_l = polynomial_derivative(-3)\n",
    "If_u = polynomial_derivative(5)\n",
    "I_analytical = (If_u - If_l)\n",
    "print(\"The exact integral is:\", I_analytical)"
   ]
  },
  {
   "cell_type": "markdown",
   "id": "c27cde4f-2f1e-4f86-8d9c-5f5badd1c6d5",
   "metadata": {},
   "source": [
    "We calculate the analytical integral as\n",
    "\\begin{align*}\n",
    "I_{ana} = \\int_{-3}^5 \\left(x^5 + 2x^4 - 9x^2 +13x\\right) dx = \\left[\\frac{x^6}{6} + \\frac{2x^5}{5} - 3x^3 + \\frac{13x^2}{2}\\right]_{-3}^5 = 3477.8\\bar{6}\n",
    "\\end{align*}\n",
    "which agrees with the value from the previous cell.\n",
    "\n",
    "Now calculate the integral with the composite Simpson's rule and the numpy.trapz function for different numbers of intervals. Compare the results against the exact integral."
   ]
  },
  {
   "cell_type": "code",
   "execution_count": null,
   "id": "ef0d646a-a173-499e-8b3f-781f93b92a40",
   "metadata": {},
   "outputs": [],
   "source": [
    "# Calculate numerical integral for different numbers of intervals\n",
    "import numpy as np\n",
    "from IPython.display import display, Math\n",
    "\n",
    "print(\"{:3s}, {:9s}, {:10s}, {:12s}, {:s}\".format(\"N\", \"Simpson\", \"np.trapz\", \"e_Simpson\", \"e_trapz\"))\n",
    "\n",
    "I_Simpson = []\n",
    "I_trapz = []\n",
    "for i in range(8):\n",
    "    N = 2**(i+1)\n",
    "    I_Simpson.append(composite_Simpson(polynomial, -3, 5, N))\n",
    "    x = np.linspace(-3, 5, N, endpoint=True)\n",
    "    I_trapz.append(np.trapz(polynomial(x), x))\n",
    "    print(\"{:3d}, {:9.4f}, {:10.4f}, {:e}, {:e}\".format(N, I_Simpson[i], I_trapz[i], np.abs(I_Simpson[i] - I_analytical), np.abs(I_trapz[i] - I_analytical)))"
   ]
  },
  {
   "cell_type": "markdown",
   "id": "b89f51a2-94a6-45a2-af94-34f4cddf1c37",
   "metadata": {},
   "source": [
    "The absolute error for the composite Simpson's rule reduces much quicker than for the composite trapezoidal rule, as is expected from their convergence orders."
   ]
  },
  {
   "cell_type": "markdown",
   "id": "a095f2a2-b364-4f2a-a4a7-802462cec139",
   "metadata": {},
   "source": [
    "### Part c) Double integrals\n",
    "\n",
    "Now consider the double integral\n",
    "$$\n",
    "\\int_{-2}^2\\int_{0}^4 \\left(x^2 - 3y^2 + xy^3\\right) dxdy\n",
    "$$\n",
    "\n",
    "Calculate the analytical integral and compare this to the solution with your composite Simpson's rule function for different numbers of intervals."
   ]
  },
  {
   "cell_type": "markdown",
   "id": "14687ff0-6e20-4b59-90ad-9fde7341af34",
   "metadata": {},
   "source": [
    "Let us first calculate the analytical integral which is given by\n",
    "\\begin{align*}\n",
    "I_{ana} &= \\int_{-2}^2\\int_{0}^4 \\left(x^2 - 3y^2 + xy^3\\right) dxdy \n",
    " = \\int_{-2}^2 \\left[\\frac{x^3}{3} - 3xy^2 + \\frac{x^2y^3}{2}\\right]_{0}^4 dy \\\\\n",
    " &=  \\int_{-2}^2 \\left(\\frac{64}{3} - 12y^2 + 8 y^3\\right)dy \n",
    " = \\left[\\frac{64y}{3} - 4y^3 + 2y^4 \\right]_{-2}^2 \\\\\n",
    " &= \\frac{128}{3} - 32 + 32 - \\left(\\frac{-128}{3} + 32 + 32\\right) = \\frac{256}{3} - 64 \\\\\n",
    " &= \\frac{64}{3} \\approx 21.33\n",
    "\\end{align*}\n",
    "\n",
    "First, we define the 2D function."
   ]
  },
  {
   "cell_type": "code",
   "execution_count": null,
   "id": "e0728925-a305-4693-87a9-34b9c03164fe",
   "metadata": {},
   "outputs": [],
   "source": [
    "def poly2(x, y):\n",
    "    return x**2 - 3 * y**2 + x*y**3"
   ]
  },
  {
   "cell_type": "markdown",
   "id": "242c2dee-f619-4510-af41-7735c1dd4cb5",
   "metadata": {},
   "source": [
    "Then we use the composite Simpson's rule twice to calculate the double integral. To do this we define a new function which calculates the inner integral for a fixed value of y."
   ]
  },
  {
   "cell_type": "code",
   "execution_count": null,
   "id": "b2e9611e-1bd3-49cf-9486-df1e1de32f0d",
   "metadata": {},
   "outputs": [],
   "source": [
    "# Define a new function which fixes the second argument of poly2\n",
    "def make_h(c):\n",
    "   def h(x):\n",
    "       return poly2(x, c)\n",
    "   return h\n",
    "\n",
    "# Integrate along the x direction for fixed y\n",
    "def integrate_x(y):\n",
    "    x_func = make_h(y) \n",
    "    return composite_Simpson(x_func, 0, 4, 5)"
   ]
  },
  {
   "cell_type": "code",
   "execution_count": null,
   "id": "d4e1af54-7480-457b-9137-58a8ea27dbac",
   "metadata": {},
   "outputs": [],
   "source": [
    "I_2D = composite_Simpson(integrate_x, -2, 2, 5)\n",
    "print(I_2D)"
   ]
  },
  {
   "cell_type": "markdown",
   "id": "1609b430-95cb-4fc1-9974-5947dea317eb",
   "metadata": {},
   "source": [
    "Running the script for different numbers of intervals shows that the Simpson's rule gives the exact result in this case (within the numerical accuracy of the computer). The Simpson's rule is accurate for polynomials of degree 3 or less which explains the exact result in this case."
   ]
  },
  {
   "cell_type": "markdown",
   "id": "de5f6800-424d-4e4b-943d-8dfb067cd611",
   "metadata": {},
   "source": [
    "## Gaussian quadrature\n",
    "\n",
    "### Part a)\n",
    "\n",
    "Consider the integral of\n",
    "$$\n",
    "f(x) = 3 - 12x + 3x^2 + 13x^3\n",
    "$$\n",
    "between the limits $a=1$ and $b=3$.\n",
    "\n",
    "Approximate the integral \n",
    "$$\n",
    "I_w = \\int_a^b f(x) dx = \\int_{-1}^1 f(\\xi) d\\xi \\approx \\sum_{j=0}^N w_j f(\\xi_j)\n",
    "$$\n",
    "by Gaussian quadrature with two support points, i.e. $N=2$. For the two-point Gaussian quadrature the support points are $\\xi_0=-\\frac{1}{\\sqrt{3}}\\approx-0.5773503$ and $\\xi_1=\\frac{1}{\\sqrt{3}}\\approx0.5773503$ and the weights are $w_{1,2}=1$.\n",
    "\n",
    "First we need to change the limits of integration to the limits $-1$ and $1$ so that you can use Gaussian quadrature."
   ]
  },
  {
   "cell_type": "markdown",
   "id": "d0612b8c-3fe9-4b24-8614-8862132e397c",
   "metadata": {},
   "source": [
    "A change of variable can be used to translate any definite integral onto the limits $-1$ and $1$. Define a new variable $\\xi$ which is related to the original variable $x$ in the following way\n",
    "$$\n",
    "x = a_1 + a_2 \\xi\n",
    "$$\n",
    "The lower limit $x=a$ should correspond to $\\xi=-1$ and the upper limit $x=b$ should correspond to $\\xi=1$ thus\n",
    "\\begin{align*}\n",
    "a &= a_1 + a_2(-1) \\\\\n",
    "b &= a_1 + a_2(1)\n",
    "\\end{align*}\n",
    "This gives two equations for $a_1$ and $a_2$ which are\n",
    "\\begin{align*}\n",
    "a_1 &= \\frac{b+a}{2} \\\\\n",
    "a_2 &= \\frac{b-a}{2}\n",
    "\\end{align*}\n",
    "With $a=1$ and $b=3$ we get\n",
    "\\begin{align*}\n",
    "a_1 &= 2 \\\\\n",
    "a_2 &= 1\n",
    "\\end{align*}\n",
    "Now we can replace $x=2+\\xi$ and $dx=d\\xi$ to get\n",
    "$$\n",
    "I_w = \\int_1^3 f(x) dx = \\int_{-1}^1 f(2+\\xi) d\\xi \n",
    "$$"
   ]
  },
  {
   "cell_type": "markdown",
   "id": "74b8d075-96b2-471e-9448-32f17fb03abe",
   "metadata": {},
   "source": [
    "### Part b)\n",
    "\n",
    "Calculate the integral and compare the value to the exact integral value."
   ]
  },
  {
   "cell_type": "code",
   "execution_count": null,
   "id": "54856189-ed3f-4787-b49d-789465f294ae",
   "metadata": {},
   "outputs": [],
   "source": [
    "# Use lambda functions for the polynomial and its derivative\n",
    "f = lambda x: 3 - 12*x + 3*x**2 + 13*x**3\n",
    "If = lambda x: 3*x - 6*x**2 + x**3 + 13/4*x**4\n",
    "\n",
    "# Quadrature weights\n",
    "w = np.array([1, 1])\n",
    "\n",
    "# Quadrature support points\n",
    "xi = np.array([-1/np.sqrt(3), 1/np.sqrt(3)])\n",
    "\n",
    "# Gaussian quadrature and exact integral\n",
    "I_Gaussian = np.sum(w @ f(2+xi))\n",
    "I_analytical = If(3) - If(1)\n",
    "print(\"The exact integral value is {} and the Gaussian quadrature give us {}.\".format(I_analytical, I_Gaussian))"
   ]
  },
  {
   "cell_type": "markdown",
   "id": "b547dee6-c146-4440-958f-b78d62dc2225",
   "metadata": {},
   "source": [
    "The integral with the translated limits \n",
    "$$\n",
    "I_w = \\int_1^3 f(x) dx = \\int_{-1}^1 f(2+\\xi) d\\xi \n",
    "$$\n",
    "can be calculated with Gaussian quadrature as\n",
    "$$\n",
    "I_w = \\int_{-1}^1 f(2+\\xi) d\\xi = \\sum_{i=0}^1 w_i f(2+\\xi_i)=244\n",
    "$$\n",
    "where we have used the weights and support points given above.\n",
    "\n",
    "In this case we can check the result by integrating the function analytically.\n",
    "$$\n",
    "\\int_1^3 f(x) dx = \\left[3x - 6x^2 + x^3 + \\frac{13}{4}x^4\\right]_{x=1}^{x=3} = 244\n",
    "$$\n",
    "Here the Gaussian quadrature gives the correct result. This was expected because Gaussian quadrature with 2 support points is accurate for polynomials of order up to and including 3 (2 times 2 minus 1)."
   ]
  },
  {
   "cell_type": "code",
   "execution_count": null,
   "id": "f9ff48f8-1ceb-4f76-a41b-2b8333fd4445",
   "metadata": {},
   "outputs": [],
   "source": []
  }
 ],
 "metadata": {
  "kernelspec": {
   "display_name": "Python 3",
   "language": "python",
   "name": "python3"
  },
  "language_info": {
   "codemirror_mode": {
    "name": "ipython",
    "version": 3
   },
   "file_extension": ".py",
   "mimetype": "text/x-python",
   "name": "python",
   "nbconvert_exporter": "python",
   "pygments_lexer": "ipython3",
   "version": "3.9.6"
  }
 },
 "nbformat": 4,
 "nbformat_minor": 5
}
