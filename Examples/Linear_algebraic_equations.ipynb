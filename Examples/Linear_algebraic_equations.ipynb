{
 "cells": [
  {
   "cell_type": "markdown",
   "id": "6729f4a7",
   "metadata": {},
   "source": [
    "# Solution of linear algebraic equation systems"
   ]
  },
  {
   "cell_type": "code",
   "execution_count": null,
   "id": "c9bc2a20",
   "metadata": {},
   "outputs": [],
   "source": [
    "import numpy as np"
   ]
  },
  {
   "cell_type": "markdown",
   "id": "1699075e",
   "metadata": {},
   "source": [
    "### Separation system from W02-L2\n",
    "\n",
    "Example from page 45 in Beers: Numerical methods for chemical engineering: applications in Matlab \n",
    "\n",
    "<img src=\"figures/beers_1_9.png\" alt=\"Separation system\"/>\n",
    "\n",
    "First solve it with the standard linear algebra solver from numpy."
   ]
  },
  {
   "cell_type": "code",
   "execution_count": null,
   "id": "68fcc6da",
   "metadata": {},
   "outputs": [],
   "source": [
    "A = np.array([[1., 1., 1.], [0.04, 0.54, 0.26], [0.93, 0.24, 0.0]])\n",
    "b = np.array([10., 2., 6.])\n",
    "x = np.linalg.solve(A, b)"
   ]
  },
  {
   "cell_type": "code",
   "execution_count": null,
   "id": "6aefc12f",
   "metadata": {},
   "outputs": [],
   "source": [
    "x"
   ]
  },
  {
   "cell_type": "markdown",
   "id": "1e85f482",
   "metadata": {},
   "source": [
    "### LU decomposition\n",
    "\n",
    "Use LU decomposition on the same example."
   ]
  },
  {
   "cell_type": "code",
   "execution_count": null,
   "id": "4aabdbb0",
   "metadata": {},
   "outputs": [],
   "source": [
    "from scipy.linalg import lu\n",
    "P, L, U = lu(A)"
   ]
  },
  {
   "cell_type": "markdown",
   "id": "deea93c9",
   "metadata": {},
   "source": [
    "Print the resulting matrices to the screen."
   ]
  },
  {
   "cell_type": "code",
   "execution_count": null,
   "id": "8ef5ee5c",
   "metadata": {},
   "outputs": [],
   "source": [
    "print(\"P = \", P)\n",
    "print(\"L = \", L)\n",
    "print(\"U = \", U)"
   ]
  },
  {
   "cell_type": "markdown",
   "id": "bffca8ff",
   "metadata": {},
   "source": [
    "Calculate the solution by performing first the forward substitution followed by the backward substitution.\n",
    "\n",
    "*Remark:* This implementation doesn't use the structure of the matrix. Look at the workshop tasks for a custom implementation of the forward and backward substitutions."
   ]
  },
  {
   "cell_type": "code",
   "execution_count": null,
   "id": "39ec5276",
   "metadata": {},
   "outputs": [],
   "source": [
    "z = np.linalg.solve(L, P.dot(b))"
   ]
  },
  {
   "cell_type": "code",
   "execution_count": null,
   "id": "6f892df1",
   "metadata": {},
   "outputs": [],
   "source": [
    "x = np.linalg.solve(U, z)"
   ]
  },
  {
   "cell_type": "code",
   "execution_count": null,
   "id": "07625587",
   "metadata": {},
   "outputs": [],
   "source": [
    "x"
   ]
  },
  {
   "cell_type": "markdown",
   "id": "fe02b6a6",
   "metadata": {},
   "source": [
    "### Naive Gaussian elimination"
   ]
  },
  {
   "cell_type": "code",
   "execution_count": null,
   "id": "1784e9dc",
   "metadata": {},
   "outputs": [],
   "source": [
    "def Gaussian_elimination(A, b):\n",
    "    N = np.shape(A)[0]      # System size\n",
    "    \n",
    "    for i in range(N-1):    # Iterate over columns from left to right\n",
    "        if A[i,i] == 0:     # Avoid division by zero in the pivot\n",
    "            print(\"Stopped: Division by zero!\")\n",
    "        \n",
    "        for j in range(i+1, N):   # Iterate over rows below the diagonal\n",
    "            c = A[j,i]/A[i,i]     # Calculate the multiplier\n",
    "            for k in range(i, N): # Iterate in row j from column i to N\n",
    "                A[j,k] = A[j,k] - c * A[i,k] # Update matrix \n",
    "\n",
    "            b[j] = b[j] - c * b[i] # Update right-hand side\n",
    "    \n",
    "    return A, b"
   ]
  },
  {
   "cell_type": "code",
   "execution_count": null,
   "id": "a028d614",
   "metadata": {},
   "outputs": [],
   "source": [
    "def back_substitution(A, b):\n",
    "    # Input: upper triangular A and right-hand side b\n",
    "    N = np.shape(A)[0] # System size\n",
    "    x = np.zeros(N)\n",
    "    \n",
    "    for i in range(N-1, -1, -1):   # Iterate over rows from bottom to top\n",
    "        sum = 0\n",
    "        for j in range(i+1, N): # Iterate over columns\n",
    "            sum = sum + A[i,j] * x[j]  \n",
    "        \n",
    "        x[i] = (b[i] - sum)/A[i,i] # Calculate next unknown\n",
    "\n",
    "    return x"
   ]
  },
  {
   "cell_type": "code",
   "execution_count": null,
   "id": "810fd782",
   "metadata": {},
   "outputs": [],
   "source": [
    "(A2, b2) = Gaussian_elimination(A, b)\n",
    "x = back_substitution(A2, b2)\n",
    "print(\"Solution with naive Gaussian elimination: \", x)"
   ]
  },
  {
   "cell_type": "markdown",
   "id": "54d9d539",
   "metadata": {},
   "source": [
    "### Problems with naive Gaussian elimination\n",
    "\n",
    "Diagonal elements with vastly different absolute values"
   ]
  },
  {
   "cell_type": "code",
   "execution_count": null,
   "id": "65a5b1c7",
   "metadata": {},
   "outputs": [],
   "source": [
    "A = np.array([[1e-18, 1.], [1.0, 1.0]])\n",
    "b = np.array([1., 2.])\n",
    "x_numpy = np.linalg.solve(A, b)\n",
    "print(\"Solution with numpy solver: \", x_numpy)\n",
    "\n",
    "(A2, b2) = Gaussian_elimination(A, b)\n",
    "x = back_substitution(A2, b2)\n",
    "print(\"Solution with naive Gaussian elimination: \", x)"
   ]
  },
  {
   "cell_type": "markdown",
   "id": "dc50602f",
   "metadata": {},
   "source": [
    "Sensitivity of the solution"
   ]
  },
  {
   "cell_type": "code",
   "execution_count": null,
   "id": "2d422501",
   "metadata": {},
   "outputs": [],
   "source": [
    "c = [1.001, 1.002]\n",
    "for i in c:\n",
    "    A = np.array([[3, 1.], [3.0, i]])\n",
    "    b = np.array([4., 0.])\n",
    "\n",
    "    (A2, b2) = Gaussian_elimination(A, b)\n",
    "    x = back_substitution(A2, b2)\n",
    "    print(\"Solution for c =\", i, \"is:\", x)"
   ]
  },
  {
   "cell_type": "code",
   "execution_count": null,
   "id": "23aa7d24",
   "metadata": {},
   "outputs": [],
   "source": []
  }
 ],
 "metadata": {
  "jupytext": {
   "formats": "ipynb,py:percent"
  },
  "kernelspec": {
   "display_name": "Python 3",
   "language": "python",
   "name": "python3"
  },
  "language_info": {
   "codemirror_mode": {
    "name": "ipython",
    "version": 3
   },
   "file_extension": ".py",
   "mimetype": "text/x-python",
   "name": "python",
   "nbconvert_exporter": "python",
   "pygments_lexer": "ipython3",
   "version": "3.9.6"
  }
 },
 "nbformat": 4,
 "nbformat_minor": 5
}
