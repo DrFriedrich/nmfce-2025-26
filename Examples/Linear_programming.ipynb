{
 "cells": [
  {
   "cell_type": "markdown",
   "id": "c1332f0d",
   "metadata": {},
   "source": [
    "# Linear programming\n",
    "\n",
    "---\n"
   ]
  },
  {
   "cell_type": "markdown",
   "id": "db11dfc9",
   "metadata": {},
   "source": [
    "## Albatrosses and bears\n",
    "\n",
    "A toy factory produces two types of soft toys: albatrosses, for the adventurous children, and for more traditional customers, bears. If we imagine the factory creates A hundred albatrosses and B hundred bears per day, the company must find the A and B values for maximum profit.\n",
    "\n",
    "<img src=\"figures/Albatrosses_and_bears.png\" alt=\"Image of an albatross and a bear\" width=\"400\"/>\n",
    "\n",
    "**Albatrosses and bears -- how many should the factory produce daily?**"
   ]
  },
  {
   "cell_type": "markdown",
   "id": "8de2fe63-f579-4bf6-8214-f36eb0e9b220",
   "metadata": {},
   "source": [
    "## Description of the production and data\n",
    "\n",
    "### Objective function\n",
    "\n",
    "The first important thing to consider, for optimisation purposes, is how much the two toys are\n",
    "worth. If they sell for the same price, the factory should aim to maximise the number (A+B),\n",
    "the total number of toys created per day (in hundreds). This is called the objective function.\n",
    "However, if e.g. an albatros sells for double the price of a bear, the appropriate objective\n",
    "function is:\n",
    "\n",
    "$$\\max(2A+B)$$\n",
    "\n",
    "### Constraints\n",
    "\n",
    "The resources needed to construct each of the toys are important. We assume for simplicity\n",
    "that each toy is constructed in two steps: first, it is stitched on the sewing machine, and then it\n",
    "is filled on the stuffing machine. Because the toys are different shapes, these tasks require\n",
    "different lengths of time. Let's assume that 100 albatrosses require 1 hour for stitching and 2\n",
    "hours for stuffing, while 100 bears require 3 hours for stitching and 1 hour for stuffing. The\n",
    "availability of the machinery may also be limited. We assume here that the stitching machine\n",
    "is available 9 hours per day, and that the mechanical stuffer is only available for 8 hours per\n",
    "day (e.g. because it takes longer to set up and refill). The total stitching time needed for A\n",
    "hundred albatrosses and B hundred bears then is: A+3B. There are at most 9 hours available,\n",
    "so the total daily stitching time cannot exceed: \n",
    "\n",
    "$$A + 3B \\le 9$$\n",
    "\n",
    "A similar expression is derived from the stuffing machine constraint, giving: \n",
    "$$2A + B \\le 8$$\n",
    "\n",
    "Beyond these, there are two fairly obvious physical constraints: $A \\ge 0$ and $B \\ge 0$.\n",
    "\n",
    "### Visualise the problem\n",
    "\n",
    "At this point we can answer a basic question: what are the possible values of A and B, subject\n",
    "to these constraints? This prompts the observation which gives the whole subject of\n",
    "optimisation its flavour, because the answer is best given geometrically. The possible values\n",
    "of A can be positioned along a horizontal axis, and those of B along the vertical axis, giving\n",
    "us a graph on which the coordinates of every point on the plane represent the pair of values\n",
    "(A, B). But of course, not all pairs will be compatible with the constraints we have identified,\n",
    "so the question is: which value combinations will be acceptable, i.e. which correspond to\n",
    "feasible (attainable by the machines) combinations of A and B?"
   ]
  },
  {
   "cell_type": "markdown",
   "id": "aafcaddc",
   "metadata": {},
   "source": [
    "## Extracted data\n",
    "\n",
    "- The price for an albatros is double the price of a bear.\n",
    "- The resources needed to construct each of the toys are important: We assume for simplicity that each toy is constructed in two steps: first, it is stitched on the sewing machine, and then it is filled on the stuffing machine. \n",
    "- Because the toys are different shapes, these tasks require different lengths of time:\n",
    "    - 100 albatrosses require 1 hour for stitching and 2 hours for stuffing\n",
    "    - 100 bears require 3 hours for stitching and 1 hour for stuffing. \n",
    "- The availability of machines is limited:\n",
    "    - The stitching machine is available 9 hours per day\n",
    "    - The mechanical stuffer is only available for 8 hours per day (e.g. because it takes longer to set up and refill). "
   ]
  },
  {
   "cell_type": "markdown",
   "id": "10891279",
   "metadata": {},
   "source": [
    "## Part a) \n",
    "\n",
    "Discuss the setup of the optimisation problem. Write down the equations and inequality constraints required for the optimisation."
   ]
  },
  {
   "cell_type": "markdown",
   "id": "25aede8b",
   "metadata": {},
   "source": [
    "The optimisation problem can be written as\n",
    "\\begin{align*}\n",
    "\\max_{x} c^T x & \\\\\n",
    "\\text{such that} & \\\\\n",
    "A_{ub} x &\\le b_{ub} \\\\\n",
    "l \\le x & \\le u\n",
    "\\end{align*}\n",
    "where $x=[A, B]$ is the vector of the quantities of albatrosses and bears, $A_{ub}$ is the inequality constraint matrix, $b_{ub}$ is the right hand side of the inequality constraints, and $l$ and $u$ are the lower and upper boundaries of $x$, respectively.\n",
    "\n",
    "The vector $c$ is given by\n",
    "$$c = \\begin{bmatrix}\n",
    "-2 \\\\\n",
    "-1\n",
    "\\end{bmatrix},\n",
    "$$\n",
    "the inequality constraint matrix is given by\n",
    "$$A_{ub} = \n",
    "\\begin{bmatrix}\n",
    "1 & 3 \\\\\n",
    "2 & 1\n",
    "\\end{bmatrix}, \n",
    "$$\n",
    "the right hand side is given by\n",
    "$$b_{ub} = \\begin{bmatrix}\n",
    "9 \\\\\n",
    "8\n",
    "\\end{bmatrix},\n",
    "$$\n",
    "and the lower bounds are both 0 while the upper bounds aren't defined."
   ]
  },
  {
   "cell_type": "code",
   "execution_count": null,
   "id": "c87ac8c4",
   "metadata": {},
   "outputs": [],
   "source": [
    "import numpy as np\n",
    "import matplotlib.pyplot as plt\n",
    "\n",
    "xx = np.linspace(0, 4.5)\n",
    "y_stitch = 3 - 1/3 * xx\n",
    "y_stuff = 8 - 2*xx\n",
    "\n",
    "# Corners of the feasible region\n",
    "x = [0, 0, 3, 4]\n",
    "y = [0, 3, 2, 0]\n",
    "plt.fill(x, y, \"c\")\n",
    "plt.text(0.75, 1, \"Feasible region\", color='black',fontsize=18)\n",
    "\n",
    "plt.plot(xx, y_stitch, \"b\")\n",
    "plt.text(0.5, 3, \"Stitching constraint\", color='black',fontsize=14, rotation=-18, rotation_mode='anchor',\n",
    "              transform_rotates_text=True)\n",
    "\n",
    "plt.plot(xx, y_stuff, \"r\")\n",
    "plt.text(2.05, 4.2, \"Stuffing constraint\", color='black',fontsize=14, rotation=-63, rotation_mode='anchor',\n",
    "              transform_rotates_text=True)\n",
    "\n",
    "plt.xlabel(\"Albatrosses\", fontsize=\"16\")\n",
    "plt.ylabel(\"Bears\", fontsize=\"16\")\n",
    "plt.xlim([0, 4.5])\n",
    "plt.ylim([0, 4.5])\n",
    "plt.show()"
   ]
  },
  {
   "cell_type": "markdown",
   "id": "a7d14535-634f-4e02-98a6-aa3d527cc725",
   "metadata": {},
   "source": [
    "## Part b) Analyse the plotted region\n",
    "\n",
    "To begin with, the trivial constraints of A ≥ 0 and B ≥ 0 mean we only need to worry about\n",
    "the top-right (positive) quadrant of the graph. The other constraints are a little subtler.\n",
    "The threshold for the stitching machine is when A + 3B = 9. The crucial geometrical fact\n",
    "is that this equation represents a straight line. Points to the left and below the line (e.g.\n",
    "A=3, B=1) satisfy the constraint; those above and right of it fail it (e.g. A=1, B=3). It is the\n",
    "same with the stuffing machine constraint, where the relevant straight line is 2A + B = 8.\n",
    "\n",
    "Drawing in the lines corresponding to these constraints carves out a shape called the Feasible\n",
    "Region (FR), also known as the Feasible Set: it is the region where all constraints are\n",
    "satisfied. Every point within this region corresponds to a pair of values of A and B that the\n",
    "factory could produce within the day. This addresses feasibility, but not optimality - after all,\n",
    "the point (A=0, B=0) lies within the set (so it is feasible), but is obviously not optimal as not\n",
    "profitable (it corresponds to the factory being dormant and not producing)."
   ]
  },
  {
   "cell_type": "markdown",
   "id": "e448a236",
   "metadata": {},
   "source": [
    "## Part c) Linear programming\n",
    "\n",
    "Linear programming (LP) is the field of Optimisation theory which addresses the solution of linear programs, i.e. problems with linear objective functions and linear constraints. For Linear Programming (LP) problems, the Feasible Region (FR) will always be convex (without any holes or protrusions, i.e. any line connecting points of the FR is entirely contained inside the FR). Also, the Fundamental Theorem of Linear Programming states that the optimal solution (optimal point) of any LP problem can only be one of the corners (vertices) of the Feasible Region. Great news, because we only need to check a few points!\n",
    "\n",
    "For the example of albatrosses and bears, the FR vertices are only four, at coordinates (A, B):\n",
    "(0,0), (0,3), (4,0), (3,2). These corners can be found graphically, or by solving the respective\n",
    "linear systems for the intersection of the respective lines (whose expressions we already\n",
    "know). To solve the problem, all we need to do is check which of the FR vertices\n",
    "produces the maximum objective function value (for equal prices, the objective is: A+B).\n",
    "\n",
    "### Equal Prices: Objective is (A+B)\n",
    "The four vertices produce objective function values of: 0, 3, 4 and 5, respectively, so the\n",
    "solution to the problem (optimal point) is the last (A=3, B=2), because at that point the\n",
    "objective function reaches its highest value (5). Therefore, the allocation of these resources\n",
    "ensures that the factory will maximise its revenue, manufacturing a total of 500 toys per day.\n",
    "\n",
    "### Different Prices: Objective is e.g. (2A+B)\n",
    "The vertices don't change (note: they depend on constraints, not on the objective!)\n",
    "and they produce objective function values of: 0, 3, 8 and 8, respectively, so the solution to\n",
    "the problem (optimal point) is the entire line segment (special case: identical line slopes).\n"
   ]
  },
  {
   "cell_type": "markdown",
   "id": "3f4e4142",
   "metadata": {},
   "source": [
    "## Part d) Solve with a Linear Programming solver\n",
    "\n",
    "Learn how to translate the optimisation problem into a Python programme with [scipy.optimize.linprog](https://docs.scipy.org/doc/scipy/reference/generated/scipy.optimize.linprog.html)\n",
    "\n",
    "Find the daily quantities of toys that must be produced every day, to maximise profit."
   ]
  },
  {
   "cell_type": "code",
   "execution_count": null,
   "id": "46d93ab9",
   "metadata": {},
   "outputs": [],
   "source": [
    "# We need to use negative values because we want to maximise the profit\n",
    "c = [-2, -1]\n",
    "\n",
    "# Array with the parameters for inequality constraint matrix\n",
    "A = [[1, 3], [2, 1]]\n",
    "\n",
    "# Right hand side of the inequality constraints\n",
    "b = [9, 8]\n",
    "\n",
    "# Bounds for the number of toys\n",
    "x0_bounds = (0, None)\n",
    "x1_bounds = (0, None)\n",
    "\n",
    "# Use scipy.optimize.linprog to solve the optimisation\n",
    "from scipy.optimize import linprog\n",
    "res = linprog(c, A_ub=A, b_ub=b, bounds=[x0_bounds, x1_bounds])\n",
    "print(res)"
   ]
  },
  {
   "cell_type": "markdown",
   "id": "93b3ba6d",
   "metadata": {},
   "source": [
    "## Part e)\n",
    "\n",
    "Investigate how relative price changes for the toys affect the optimal production; change the ratio between the prices in $c$."
   ]
  },
  {
   "cell_type": "code",
   "execution_count": null,
   "id": "d3514960",
   "metadata": {},
   "outputs": [],
   "source": [
    "c = [-0.3, -1]\n",
    "res = linprog(c, A_ub=A, b_ub=b, bounds=[x0_bounds, x1_bounds])\n",
    "print(res)"
   ]
  },
  {
   "cell_type": "code",
   "execution_count": null,
   "id": "d9ff5c6f",
   "metadata": {},
   "outputs": [],
   "source": []
  }
 ],
 "metadata": {
  "kernelspec": {
   "display_name": "Python 3 (ipykernel)",
   "language": "python",
   "name": "python3"
  },
  "language_info": {
   "codemirror_mode": {
    "name": "ipython",
    "version": 3
   },
   "file_extension": ".py",
   "mimetype": "text/x-python",
   "name": "python",
   "nbconvert_exporter": "python",
   "pygments_lexer": "ipython3",
   "version": "3.12.6"
  }
 },
 "nbformat": 4,
 "nbformat_minor": 5
}
