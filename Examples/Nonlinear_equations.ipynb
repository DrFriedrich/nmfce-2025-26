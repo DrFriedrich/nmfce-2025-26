{
 "cells": [
  {
   "cell_type": "markdown",
   "id": "9ea1ce8c",
   "metadata": {},
   "source": [
    "# Solution of nonlinear equation systems"
   ]
  },
  {
   "cell_type": "markdown",
   "id": "32fca44c",
   "metadata": {},
   "source": [
    "## Bisection method"
   ]
  },
  {
   "cell_type": "code",
   "execution_count": null,
   "id": "587fed44",
   "metadata": {},
   "outputs": [],
   "source": [
    "import numpy as np\n",
    "def bisection(F, a, b, tol=1e-3):\n",
    "    \"\"\"Bisection method to find the root of the function F between a and b with tolerance tol\"\"\"\n",
    "    while (b-a) > tol:\n",
    "        c = 0.5 * (a + b)\n",
    "        if np.sign(F(c)) == np.sign(F(a)):\n",
    "            a = c\n",
    "        else:\n",
    "            b = c\n",
    "    return a"
   ]
  },
  {
   "cell_type": "markdown",
   "id": "9c2203ca",
   "metadata": {},
   "source": [
    "Define a test function with known roots at $x=1$, $x=2$ and $x=3$.\n",
    "\n",
    "<img src=\"figures/bisection_1D_example_solutions.png\" alt=\"Test function\" width=\"500\"/>"
   ]
  },
  {
   "cell_type": "code",
   "execution_count": null,
   "id": "76078450",
   "metadata": {},
   "outputs": [],
   "source": [
    "def f(x):\n",
    "    return (x - 3) * (x - 2) * (x - 1) "
   ]
  },
  {
   "cell_type": "markdown",
   "id": "38cf333e",
   "metadata": {},
   "source": [
    "You can use the testing module from the numpy package to check that the found root is almost equal to the actual root with a given tolerance.\n",
    "\n",
    "*Remember:* No output from the assert functions indicates that the test passed."
   ]
  },
  {
   "cell_type": "code",
   "execution_count": null,
   "id": "e90fc4cc",
   "metadata": {},
   "outputs": [],
   "source": [
    "np.testing.assert_almost_equal(bisection(f, 1.6, 2.3, 1e-5), 2, decimal=3, err_msg='', verbose=True)"
   ]
  },
  {
   "cell_type": "markdown",
   "id": "e7caf244",
   "metadata": {},
   "source": [
    "Check if the following starting values give the corrct answer:\n",
    "1. $a=2.5$ and $b=1.5$\n",
    "1. $a=2.7$ and $b=3.3$\n",
    "1. $a=0.5$ and $b=0.9$"
   ]
  },
  {
   "cell_type": "markdown",
   "id": "c5673a46",
   "metadata": {},
   "source": [
    "Check $a=2.5$ and $b=1.5$"
   ]
  },
  {
   "cell_type": "code",
   "execution_count": null,
   "id": "41ce6bcc",
   "metadata": {},
   "outputs": [],
   "source": [
    "# The first starting values return 2.5 because the tolerance check in line 4 is False\n",
    "np.testing.assert_almost_equal(bisection(f, 2.5, 1.5, 1e-3), 2, decimal=3, err_msg='', verbose=True)"
   ]
  },
  {
   "cell_type": "markdown",
   "id": "0c6310b2",
   "metadata": {},
   "source": [
    "Check $a=2.7$ and $b=3.3$"
   ]
  },
  {
   "cell_type": "code",
   "execution_count": null,
   "id": "273fe5a6",
   "metadata": {},
   "outputs": [],
   "source": [
    "# This finds a zero\n",
    "np.testing.assert_almost_equal(bisection(f, 2.7, 3.3, 1e-3), 3, decimal=3, err_msg='', verbose=True)"
   ]
  },
  {
   "cell_type": "markdown",
   "id": "233b911b",
   "metadata": {},
   "source": [
    "Check $a=0.5$ and $b=0.9$"
   ]
  },
  {
   "cell_type": "code",
   "execution_count": null,
   "id": "3f8eaba1",
   "metadata": {},
   "outputs": [],
   "source": [
    "# This doesn't find a zero because there is none between 0.5 and 0.9\n",
    "np.testing.assert_almost_equal(bisection(f, 0.5, 0.9, 1e-3), 1, decimal=3, err_msg='', verbose=True)"
   ]
  },
  {
   "cell_type": "markdown",
   "id": "cd6e19cf",
   "metadata": {},
   "source": []
  },
  {
   "cell_type": "markdown",
   "id": "7a92fe6e",
   "metadata": {},
   "source": [
    "## Fixed point iterator\n",
    "\n",
    "Function to plot the cobweb representation for fixed point iterators."
   ]
  },
  {
   "cell_type": "code",
   "execution_count": null,
   "id": "4b244c75",
   "metadata": {},
   "outputs": [],
   "source": [
    "%matplotlib notebook\n",
    "import matplotlib.pyplot as plt\n",
    "import numpy as np\n",
    "import time\n",
    "\n",
    "def plot_cobweb(G, x0, pause_time=0.1, show_labels=False, tol=1e-1):\n",
    "    # The really important command for interactive plot updating\n",
    "    plt.ion()\n",
    "\n",
    "    # Starting index\n",
    "    k = 0\n",
    "\n",
    "    # Plot y=x and y=G(x)\n",
    "    fig, ax = plt.subplots(figsize=(10, 6))\n",
    "\n",
    "    xmin, xmax = -1, 2\n",
    "    x = np.linspace(xmin, xmax, 500)\n",
    "    ax.plot(x, x, 'b-', label=r'$y = x$')\n",
    "    ax.plot(x, G(x), 'r-', label=r'$y = G(x)$')\n",
    "    # ax.set(xlim=[xmin, xmax], ylim=[xmin, xmax])\n",
    "    ax.set(xlim=[xmin, xmax], ylim=[-1, 3])\n",
    "    ax.legend()\n",
    "\n",
    "    text_box = {'facecolor': [1, 1, 1], 'alpha': 0.8}\n",
    "    pos = 1.05\n",
    "\n",
    "    fig.canvas.draw()\n",
    "\n",
    "    while True:\n",
    "        lab_k = ax.text((xmax + xmin)/2, 0.95*xmax, f'Iteration k = {k}',\n",
    "                        horizontalalignment='center')\n",
    "\n",
    "        if show_labels:\n",
    "            ax.plot(x0, x0, 'g', marker='.')\n",
    "            lab0 = ax.text(x0, pos*x0, f'x{k}',\n",
    "                        bbox=text_box,\n",
    "                        horizontalalignment='center')\n",
    "            plt.pause(pause_time)\n",
    "\n",
    "        # Fixed point iteration\n",
    "        x_new = G(x0)\n",
    "\n",
    "        ax.plot([x0, x0], [x0, x_new], 'g', marker='.')\n",
    "        if show_labels:\n",
    "            lab1 = ax.text(x0, pos*x_new, f'G(x{k})',\n",
    "                        bbox=text_box,\n",
    "                        horizontalalignment='center')\n",
    "        plt.pause(pause_time)\n",
    "\n",
    "        ax.plot([x0, x_new], [x_new, x_new], 'g', marker='.')\n",
    "        if show_labels:\n",
    "            lab2 = ax.text(x_new, pos*x_new, f'x{k+1} = G(x{k})',\n",
    "                        bbox=text_box,\n",
    "                        horizontalalignment='center')\n",
    "\n",
    "        # redraw fig\n",
    "        fig.canvas.draw()\n",
    "        plt.pause(pause_time)\n",
    "\n",
    "        lab_k.remove()\n",
    "        if show_labels:\n",
    "            lab0.remove()\n",
    "            lab1.remove()\n",
    "            lab2.remove()\n",
    "\n",
    "        if abs(x_new - x0) <= tol:\n",
    "            break\n",
    "\n",
    "        k += 1\n",
    "        x0 = x_new\n",
    "\n",
    "        # redraw fig\n",
    "        fig.canvas.draw()\n",
    "    \n",
    "    return x0, k"
   ]
  },
  {
   "cell_type": "markdown",
   "id": "ac8fc3a1",
   "metadata": {},
   "source": [
    "### Example 1\n",
    "\n",
    "Find the root of $f(x) = x - \\cos(x) - 1$\n",
    "\n",
    "The following function defines a fixed point iterator for $f(x)$."
   ]
  },
  {
   "cell_type": "code",
   "execution_count": null,
   "id": "d7267f59",
   "metadata": {},
   "outputs": [],
   "source": [
    "import numpy as np\n",
    "# Fixed point iterator\n",
    "def G(x):\n",
    "    return np.cos(x) + 1"
   ]
  },
  {
   "cell_type": "code",
   "execution_count": null,
   "id": "fe6c5787",
   "metadata": {},
   "outputs": [],
   "source": [
    "# Call the cobweb plotting function\n",
    "x0, k = plot_cobweb(G, 0.65, pause_time=0.1, show_labels=False, tol=1e-1)"
   ]
  },
  {
   "cell_type": "code",
   "execution_count": null,
   "id": "1875f339",
   "metadata": {},
   "outputs": [],
   "source": [
    "print(f'Root = {x_new}, found in {k} iterations')"
   ]
  },
  {
   "cell_type": "markdown",
   "id": "947dae16",
   "metadata": {},
   "source": [
    "### Example 2\n",
    "\n",
    "Find the root of $f(x) = x^3 - x^2 + 0.1$\n",
    "\n",
    "The following function defines a fixed point iterator for $f(x)$."
   ]
  },
  {
   "cell_type": "code",
   "execution_count": null,
   "id": "fbf5093f",
   "metadata": {},
   "outputs": [],
   "source": [
    "# Newton's method which is a fixed point iterator\n",
    "def G(x):\n",
    "    def F(x):\n",
    "        return x ** 3 - x ** 2 + 0.1\n",
    "\n",
    "    def Fp(x):\n",
    "        return 3.0 * (x ** 2) - 2.0 * x\n",
    "    \n",
    "    return x - F(x) / Fp(x)"
   ]
  },
  {
   "cell_type": "code",
   "execution_count": null,
   "id": "f957bd97",
   "metadata": {},
   "outputs": [],
   "source": [
    "# Call the cobweb plotting function\n",
    "x0, k = plot_cobweb(G, 0.65, pause_time=0.1, show_labels=False, tol=1e-6)"
   ]
  },
  {
   "cell_type": "code",
   "execution_count": null,
   "id": "42f1d74a",
   "metadata": {},
   "outputs": [],
   "source": [
    "print(f'Root = {x_new}, found in {k} iterations')"
   ]
  },
  {
   "cell_type": "code",
   "execution_count": null,
   "id": "8e16a75f",
   "metadata": {},
   "outputs": [],
   "source": []
  }
 ],
 "metadata": {
  "kernelspec": {
   "display_name": "Python 3",
   "language": "python",
   "name": "python3"
  },
  "language_info": {
   "codemirror_mode": {
    "name": "ipython",
    "version": 3
   },
   "file_extension": ".py",
   "mimetype": "text/x-python",
   "name": "python",
   "nbconvert_exporter": "python",
   "pygments_lexer": "ipython3",
   "version": "3.9.6"
  }
 },
 "nbformat": 4,
 "nbformat_minor": 5
}
