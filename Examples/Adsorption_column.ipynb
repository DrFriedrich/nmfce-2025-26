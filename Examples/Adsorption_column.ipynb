{
 "cells": [
  {
   "cell_type": "markdown",
   "id": "04c45e7e",
   "metadata": {},
   "source": [
    "# Adsorption column breakthrough curve\n",
    "\n",
    "Notebook to simulate the breakthrough curve and to fit the adsorbent parameters based on an experimental breakthrough curve.\n",
    "\n",
    "## Governing equations for the adsorption column\n",
    "\n",
    "- Axial dispersed plug flow with constant velocity\n",
    "- Linear driving force mass transfer\n",
    "- Langmuir adsorption isotherm\n",
    "\n",
    "\\begin{align}\n",
    "\\frac{\\partial c(t,z)}{\\partial t} &= D \\frac{\\partial^2 c(t,z)}{\\partial z^2}  - v\\frac{\\partial c(t,z)}{\\partial z} - \\frac{1-\\epsilon}{\\epsilon} \\frac{\\partial q(t,z)}{\\partial t} \\\\\n",
    "\\frac{\\partial q(t,z)}{\\partial t} &= k \\left(q^*(t,z) - q(t,z)\\right) \\\\\n",
    "q^*(t,z) &= \\frac{q_s b c(t,z)}{1 + b c(t,z)}\n",
    "\\end{align}\n",
    "where $c$, $q$ and $q^*$ are the gas phase, adsorbed phase and equilibrium concentration, respectively. $D$ is the axial diffusion coefficient, $v$ is the interstitial velocity and $\\epsilon$ is the void fraction. $k$ is the linear driving force mass transfer coefficient, $q_s$ the saturation concentration and $b$ the equilibrium parameter.\n"
   ]
  },
  {
   "cell_type": "markdown",
   "id": "04746f59-ea90-4ba0-8446-768dc9a787fd",
   "metadata": {},
   "source": [
    "## Discretised equations\n",
    "\n",
    "\\begin{align*}\n",
    "\\frac{\\partial c_i(t)}{\\partial t} &= D \\frac{c_{i+1} - 2 c_i + c_{i-1}}{(\\Delta z)^2}  - v\\frac{c_i - c_{i-1}}{\\Delta z} - \\frac{1-\\epsilon}{\\epsilon} \\frac{\\partial q_i(t)}{\\partial t}, \\quad i=0,\\dots, n-1 \\\\\n",
    "\\frac{\\partial q_i(t)}{\\partial t} &= k \\left(q_i^*(t, c) - q_i(t)\\right), \\quad i=0,\\dots,n-1 \n",
    "\\end{align*}\n",
    "with ghost grid points\n",
    "\\begin{align*}\n",
    "c_{-1} &= \\Delta z \\frac{v}{D} (c_{in} - c_0) + c_1 \\\\\n",
    "c_{n} &= c_{n-2}\n",
    "\\end{align*}"
   ]
  },
  {
   "cell_type": "code",
   "execution_count": null,
   "id": "2febc642",
   "metadata": {},
   "outputs": [],
   "source": [
    "import numpy as np"
   ]
  },
  {
   "cell_type": "code",
   "execution_count": null,
   "id": "4da96592",
   "metadata": {},
   "outputs": [],
   "source": [
    "# Function to calculate the ODE\n",
    "def BT_ODE(x, t, n, D, v, dz, eps, k, qs, b, cin):\n",
    "    # Temporary arrays to make the derivatives simpler\n",
    "    gas_conc = np.zeros(n + 2)\n",
    "    gas_conc[1:-1] = x[0::2]\n",
    "    solid_conc = np.zeros(n + 2)\n",
    "    solid_conc[1:-1] = x[1::2]\n",
    "    \n",
    "    # Ghost points\n",
    "    gas_conc[0] = v *dz/D * (cin - x[0]) + x[2]\n",
    "    gas_conc[n+1] = x[2 * n - 2]\n",
    "    \n",
    "    # Empty vector for the derivatives\n",
    "    dxdt = np.zeros(2 * n)\n",
    "\n",
    "    # Define derivatives\n",
    "    for i in range(1, n+1):  \n",
    "        dxdt[2*i-1] = k*(qs*b*gas_conc[i]/(1 + b*gas_conc[i]) - solid_conc[i])   # Adsorbed concentration\n",
    "        diff = D * (gas_conc[i+1] - 2*gas_conc[i] + gas_conc[i-1])/(dz * dz)     # Diffusion term\n",
    "        conv = v * (gas_conc[i] - gas_conc[i-1])/dz                              # Convection\n",
    "        adso = (1-eps)/eps * dxdt[2*i-1]                                         # Adsorption\n",
    "        dxdt[2*(i-1)] = diff - conv - adso                                       # Fluid conc\n",
    "        \n",
    "    return dxdt"
   ]
  },
  {
   "cell_type": "markdown",
   "id": "9dbbab3e-9213-4610-afba-4ff5ad9f730f",
   "metadata": {},
   "source": [
    "## Solve the discretised equations with an initial value problem solver from _scipy_\n",
    "\n",
    "The solution is wrapped into a function that takes the linear driving force mass transfer coefficient $k$, the saturation concentration $q_s$ and the equilibrium parameter $b$ as input. The function returns the least squares difference between the simulation and the experimental data."
   ]
  },
  {
   "cell_type": "code",
   "execution_count": null,
   "id": "018747e9",
   "metadata": {},
   "outputs": [],
   "source": [
    "from scipy.integrate import odeint\n",
    "import matplotlib.pyplot as plt\n",
    "\n",
    "# Simulate the breakthrough curve\n",
    "def BT_solve(x=[1.0, 15.0, 1.0], plot_flag=False):\n",
    "\n",
    "    # Assign adsorbent parameters\n",
    "    k = x[0]\n",
    "    qs = x[1]\n",
    "    b = x[2]\n",
    "\n",
    "    # Read experimental data\n",
    "    exp_data = np.loadtxt(\"./data/BREAKLDF25050.dat\", skiprows=1)\n",
    "\n",
    "    # Parameters\n",
    "    n = 10      # Number of grid points\n",
    "    D = 0.00001 # Diffusion coefficient [m^2/s]\n",
    "    v = 0.5     # Intersticial velocity [m/s]\n",
    "    eps = 0.3   # Bed void fraction\n",
    "    cin = 1     # Input concentration [mol/m^3]\n",
    "    dz = 1/(n-1.0) # Grid spacing\n",
    "\n",
    "    # Find the first time past 100s\n",
    "    result = np.where(exp_data[:,0] >= 100)\n",
    "    idx = result[0][0] + 1\n",
    "    c_0 = np.zeros(2*n)       # Initial fluid and solid concentration [mol/m^3]\n",
    "    t = exp_data[0:idx, 0]          # Set the time spacing for the integration\n",
    "\n",
    "    sol = odeint(BT_ODE, c_0, t, args=(n, D, v, dz, eps, k, qs, b, cin))\n",
    "\n",
    "    if plot_flag:\n",
    "        plt.plot(t, sol[:, 2*n-2], 'b', label='Simulation')\n",
    "        plt.plot(t, exp_data[0:idx, 1], 'g--', label='Experiment')\n",
    "        plt.legend(loc='best')\n",
    "        plt.xlabel('Time')\n",
    "        plt.ylabel(\"Fluid concentration\")\n",
    "        plt.grid()\n",
    "        plt.show()\n",
    "        \n",
    "    # Calculate the squared error between the experiment and simulation\n",
    "    error = np.sum((sol[:, 2*n-2] - exp_data[0:idx, 1])**2)\n",
    "    \n",
    "    return error"
   ]
  },
  {
   "cell_type": "markdown",
   "id": "1c4b8665-33b9-4393-8b71-98d88702104b",
   "metadata": {},
   "source": [
    "## Minimise the difference between the experimental data and the simulation"
   ]
  },
  {
   "cell_type": "code",
   "execution_count": null,
   "id": "b8d3e656",
   "metadata": {},
   "outputs": [],
   "source": [
    "# Optimise the material properties\n",
    "from scipy.optimize import minimize\n",
    "\n",
    "x0 = np.array([1.0, 15.0, 1.0])\n",
    "res = minimize(BT_solve, x0, method='nelder-mead', args=(False),\n",
    "               options={'xatol': 1e-8, 'maxiter': 20, 'disp': True});\n",
    "\n",
    "# Plot the result\n",
    "BT_solve(res.x, plot_flag=True)"
   ]
  },
  {
   "cell_type": "code",
   "execution_count": null,
   "id": "5291deaf-cbbd-4468-86e1-cc049e7ed31b",
   "metadata": {},
   "outputs": [],
   "source": []
  }
 ],
 "metadata": {
  "jupytext": {
   "formats": "ipynb,py:percent"
  },
  "kernelspec": {
   "display_name": "Python 3 (ipykernel)",
   "language": "python",
   "name": "python3"
  },
  "language_info": {
   "codemirror_mode": {
    "name": "ipython",
    "version": 3
   },
   "file_extension": ".py",
   "mimetype": "text/x-python",
   "name": "python",
   "nbconvert_exporter": "python",
   "pygments_lexer": "ipython3",
   "version": "3.12.6"
  }
 },
 "nbformat": 4,
 "nbformat_minor": 5
}
