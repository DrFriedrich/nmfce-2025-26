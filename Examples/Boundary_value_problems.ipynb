{
 "cells": [
  {
   "cell_type": "markdown",
   "metadata": {},
   "source": [
    "# Boundary value problems\n",
    "\n",
    "---\n",
    "\n",
    "## Poisson boundary value problem\n",
    "\n",
    "Consider the Poisson equation\n",
    "$$\n",
    "-\\nabla^2\\varphi = -\\frac{\\partial^2 \\varphi}{\\partial x^2} - \\frac{\\partial^2 \\varphi}{\\partial y^2} = f(\\varphi,x,y)\n",
    "$$\n",
    "\n",
    "With Dirichlet boundary conditions\n",
    "\\begin{align*}\n",
    "\\varphi(0, y) &= 0, \\quad 0\\le y\\le H \\\\\n",
    "\\varphi(L, y) &= 0, \\quad 0\\le y\\le H \\\\\n",
    "\\varphi(x, 0) &= 0, \\quad 0\\le x\\le L \\\\\n",
    "\\varphi(x, H) &= 0, \\quad 0\\le x\\le L\n",
    "\\end{align*}\n",
    "\n",
    "**Applications:**\n",
    "- Model for laminar flow of Newtonian fluid through a rectangular duct\n",
    "- Steady state diffusion or heat conduction"
   ]
  },
  {
   "cell_type": "markdown",
   "metadata": {},
   "source": [
    "### Solution domain\n",
    "\n",
    "- 2D grid with boundary points in green and interior points in blue\n",
    "- The grid has $N_x$ and $N_y$ points in the $x$ and $y$ direction, respectively\n",
    "- The 2D grid is internally stored in one long array\n",
    "- The point $\\phi(x_i, y_j) =\\phi_{i,j}$ has the position $n=iN_y + j$\n",
    "\n",
    "<img src=\"figures/PDE_2D_discretisation_Python.png\" alt=\"Discretisation for a 2D rectangular domain\" width=\"400\"/>"
   ]
  },
  {
   "cell_type": "markdown",
   "metadata": {},
   "source": [
    "### Method of finite differences\n",
    "\n",
    "The value on the grid boundaries are given by the Dirichlet boundary conditions $\\phi_{i,j} = 0$ for\n",
    "\\begin{align*}\n",
    "i=0 & \\quad & 0\\le j\\le N_y-1 \\\\\n",
    "i=N_x-1v& \\quad & 0\\le j\\le N_y-1 \\\\\n",
    "0\\le i\\le N_x-1 & \\quad & j=0 \\\\\n",
    "0\\le i\\le N_x-1 & \\quad & j=N_y-1\n",
    "\\end{align*}\n",
    "\n",
    "In the interior we are using the approximation of the 2nd partial derivatives\n",
    "\\begin{align*}\n",
    "\\left.\\frac{d^2\\phi}{dx^2}\\right|_{x_i, y_j} &= \\frac{\\phi(x_i+\\Delta x, y_j) - 2 \\phi(x_i,y_j) + \\phi(x_i-\\Delta x,y_j)}{(\\Delta x)^2} = \\frac{\\phi(x_{i+1}, y_j) - 2 \\phi(x_i,y_j) + \\phi(x_{i-1},y_j)}{(\\Delta x)^2} \\\\\n",
    "\\left.\\frac{d^2\\phi}{dy^2}\\right|_{x_i, y_j} &= \\frac{\\phi(x_i, y_j+\\Delta y) - 2 \\phi(x_i,y_j) + \\phi(x_i,y_j-\\Delta y)}{(\\Delta y)^2} = \\frac{\\phi(x_i, y_{j+1}) - 2 \\phi(x_i,y_j) + \\phi(x_i,y_{j-1})}{(\\Delta y)^2} \n",
    "\\end{align*}\n",
    "\n",
    "So the discretisation is given by\n",
    "\\begin{align*}\n",
    "-\\frac{\\phi(x_{i+1}, y_j) + 2 \\phi(x_i,y_j) - \\phi(x_{i-1},y_j)}{(\\Delta x)^2} \n",
    "- \\frac{\\phi(x_i, y_{j+1}) + 2 \\phi(x_i,y_j) - \\phi(x_i,y_{j-1})}{(\\Delta y)^2} &= f(x_i, y_j)\n",
    "\\end{align*}\n",
    "for $1\\le i \\le N_x-2$ and $1\\le j \\le N_y-2$\n",
    "\n",
    "With the mapping $n=iN_y + j$ we get\n",
    "\\begin{align*}\n",
    "A_{n,n-N_y} \\phi_{n-N_y} &+ A_{n,n-1} \\phi_{n-1} + A_{n,n} \\phi_{n} \\\\\n",
    " & + A_{n,n+1} \\phi_{n+1} + A_{n,n+N_y} \\phi_{n+N_y} = b_n\n",
    "\\end{align*}\n",
    "for $1\\le i \\le N_x-2$ and $1\\le j \\le N_y-2$\n",
    "\n",
    "The parameters $A$ are given by\n",
    "\\begin{align*}\n",
    "A_{n,n-N_y} = A_{n,n+N_y} &= \\left[\\frac{-1}{(\\Delta x)^2}\\right] \\\\\n",
    "A_{n,n-1} = A_{n,n+1} &= \\left[\\frac{-1}{(\\Delta y)^2}\\right] \\\\\n",
    "A_{n,n} &= \\left[\\frac{2}{(\\Delta x)^2} + \\frac{2}{(\\Delta y)^2}\\right] \\\\\n",
    "b_n &= f(x_i, y_j)\n",
    "\\end{align*}"
   ]
  },
  {
   "cell_type": "markdown",
   "metadata": {},
   "source": [
    "### Numerical solution\n",
    "\n",
    "First, we define the grid spacing in the $x$ and $y$ directions. Then we use the [`numpy.meshgrid`](https://numpy.org/doc/stable/reference/generated/numpy.meshgrid.html) function to generate 2D arrays for the $x$ and $y$ coordinates of the entire 2D grid. By default, `meshgrid` uses Cartesian indexing so that inputs of length $N_x$ and $N_y$ give outputs of shape ($N_y$, $N_x$). Finally, we plot the grid points."
   ]
  },
  {
   "cell_type": "code",
   "execution_count": null,
   "metadata": {
    "tags": []
   },
   "outputs": [],
   "source": [
    "import numpy as np\n",
    "\n",
    "# x and y length and number of grid points\n",
    "x_length = 2\n",
    "Nx = 45\n",
    "y_length = 1\n",
    "Ny = 30\n",
    "\n",
    "# Define the meshgrid\n",
    "x = np.linspace(0, x_length, Nx)\n",
    "dx = x[1] - x[0]\n",
    "y = np.linspace(0, y_length, Ny)\n",
    "dy = y[1] - y[0]\n",
    "\n",
    "X, Y = np.meshgrid(x, y)\n",
    "print(\"The X and Y arrays are of shape {}\".format(np.shape(X)))\n",
    "\n",
    "# Plot the grid points\n",
    "import matplotlib.pyplot as plt\n",
    "plt.scatter(X, Y)\n",
    "plt.xlabel(\"x axis\")\n",
    "plt.ylabel(\"y axis\")\n",
    "plt.title(\"Plot of the grid points\")\n",
    "plt.show()"
   ]
  },
  {
   "cell_type": "markdown",
   "metadata": {},
   "source": [
    "Next we allocate storage for the large array $A$ and the right hand side $b$. We will also define the boundary conditions."
   ]
  },
  {
   "cell_type": "code",
   "execution_count": null,
   "metadata": {
    "tags": []
   },
   "outputs": [],
   "source": [
    "# Total size\n",
    "Ntot = Nx * Ny\n",
    "\n",
    "# Allocate space for the arrays\n",
    "A = np.zeros([Ntot, Ntot])\n",
    "b = np.zeros(Ntot)\n",
    "\n",
    "# Define function for the position\n",
    "def get_position(i, j, Nx, Ny):\n",
    "    return i * Ny + j\n",
    "\n",
    "# Define boundary conditions\n",
    "# Left boundary: x = 0\n",
    "i = 0\n",
    "for j in range(Ny):\n",
    "    n = get_position(i, j, Nx, Ny)\n",
    "    A[n, n] = 1\n",
    "    b[n] = 0\n",
    "\n",
    "# Right boundary: x = x_length\n",
    "i = Nx-1\n",
    "for j in range(Ny):\n",
    "    n = get_position(i, j, Nx, Ny)\n",
    "    A[n, n] = 1\n",
    "    b[n] = 0\n",
    "\n",
    "# Bottom boundary: y = 0\n",
    "j = 0\n",
    "for i in range(1, Nx-1):\n",
    "    n = get_position(i, j, Nx, Ny)\n",
    "    A[n, n] = 1\n",
    "    b[n] = 0\n",
    "\n",
    "# Top boundary: y = y_length\n",
    "j = Ny-1\n",
    "for i in range(1, Nx-1):\n",
    "    n = get_position(i, j, Nx, Ny)\n",
    "    A[n, n] = 1\n",
    "    b[n] = 0"
   ]
  },
  {
   "cell_type": "markdown",
   "metadata": {},
   "source": [
    "Before we can solve the resulting equation system, we need to define the equations for the interior points."
   ]
  },
  {
   "cell_type": "code",
   "execution_count": null,
   "metadata": {
    "tags": []
   },
   "outputs": [],
   "source": [
    "# Define the factors\n",
    "factor_x = 1/(dx**2)\n",
    "factor_y = 1/(dy**2)\n",
    "factor_cent = 2 * (factor_x + factor_y)\n",
    "\n",
    "# Loop over the interior points to define A and b\n",
    "for i in range(1,Nx-1):\n",
    "    for j in range(1, Ny-1):\n",
    "        n = get_position(i,j,Nx,Ny)\n",
    "        A[n,n-Ny] = -factor_x\n",
    "        A[n,n+Ny] = -factor_x\n",
    "        A[n,n-1] = -factor_y\n",
    "        A[n,n+1] = -factor_y\n",
    "        A[n,n] = factor_cent\n",
    "        b[n] = 1"
   ]
  },
  {
   "cell_type": "markdown",
   "metadata": {},
   "source": [
    "We can finally solve the system with the `numpy.linalg.solve` function."
   ]
  },
  {
   "cell_type": "code",
   "execution_count": null,
   "metadata": {
    "tags": []
   },
   "outputs": [],
   "source": [
    "# Solve with Gaussian elimination\n",
    "phi = np.linalg.solve(A, b)"
   ]
  },
  {
   "cell_type": "markdown",
   "metadata": {},
   "source": [
    "Plot the resulting solution."
   ]
  },
  {
   "cell_type": "code",
   "execution_count": null,
   "metadata": {
    "tags": []
   },
   "outputs": [],
   "source": [
    "# Contour plot of the solution\n",
    "import matplotlib.pyplot as plt\n",
    "\n",
    "Z = np.zeros(np.shape(X))\n",
    "for i in range(Nx):\n",
    "    for j in range(Ny):\n",
    "        n = get_position(i, j, Nx, Ny)\n",
    "        # We need so swap the x and y indices due to the default meshgrid ordering\n",
    "        Z[j, i] = phi[n]\n",
    "        \n",
    "h = plt.contourf(X, Y, Z)\n",
    "plt.colorbar(h)\n",
    "plt.xlabel(\"x axis\")\n",
    "plt.ylabel(\"y axis\")\n",
    "plt.show()"
   ]
  },
  {
   "cell_type": "code",
   "execution_count": null,
   "metadata": {},
   "outputs": [],
   "source": []
  }
 ],
 "metadata": {
  "@webio": {
   "lastCommId": null,
   "lastKernelId": null
  },
  "kernelspec": {
   "display_name": "Python 3 (ipykernel)",
   "language": "python",
   "name": "python3"
  },
  "language_info": {
   "codemirror_mode": {
    "name": "ipython",
    "version": 3
   },
   "file_extension": ".py",
   "mimetype": "text/x-python",
   "name": "python",
   "nbconvert_exporter": "python",
   "pygments_lexer": "ipython3",
   "version": "3.10.13"
  }
 },
 "nbformat": 4,
 "nbformat_minor": 4
}
