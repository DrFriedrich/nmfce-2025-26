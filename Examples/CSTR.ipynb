{
 "cells": [
  {
   "cell_type": "markdown",
   "id": "5949fae7",
   "metadata": {},
   "source": [
    "# CSTR \n",
    "---\n",
    "\n",
    "This notebook considers a CSTR (Continuously stirred tank reactor); a common operation in Chemical Engineering. The notebook covers two aspects:\n",
    "1. Steady-state operation which is represented by a system of nonlinear equations\n",
    "2. Transient operation which is represented by a system of ordinary differential equations\n",
    "\n",
    "## System description\n",
    "\n",
    "---\n",
    "\n",
    "<img src=\"figures/CSTR_empty.png\" alt=\"Schematic of a CSTR\" width=\"200\"/>\n",
    "\n",
    "In the CSTR shown above the following reactions are taking place\n",
    "\\begin{align*}\n",
    " A+B\\to C & \\quad\\text{with } r_{AB} = k_1 c_A c_B \\\\\n",
    " C+B\\to D & \\quad\\text{with } r_{CB} = k_2 c_C c_B \\\\\n",
    " A \\to E & \\quad\\text{with } r_{A} = k_3 c_A\n",
    "\\end{align*}\n",
    "\n",
    "The kinetic data is known at two temperatures\n",
    "$$\n",
    "\\begin{aligned}\n",
    "& \\text {Table with kinetic data at two temperatures}\\\\\n",
    "&\\begin{array}{c|c|c|c}\n",
    "  & T=298\\,K & T=315\\,K & Units \\\\ \n",
    "\\hline\n",
    "k_1 & 2.1\\times 10^{-2} & 3.6\\times 10^{-2} & m^3\\,mol^{-1}\\,s^{-1} \\\\\n",
    "k_2 & 1.5\\times 10^{-2} & 4.5\\times 10^{-2} & m^3\\,mol^{-1}\\,s^{-1} \\\\\n",
    "k_3 & 1.2\\times 10^{-4} & 2.6\\times 10^{-4} & s^{-1}  \n",
    "\\end{array}\n",
    "\\end{aligned}\n",
    "$$\n",
    "\n",
    "The volume of the CSTR is $1\\,$m$^3$ and the inlet and outlet flow rate are $0.001\\,$m$^3\\,$s$^{-1}$. The inlet contains the components A and B, with $c_{A,i}=0.5\\,$M and a varying $\\gamma=c_{B,i}/c_{A,i}$. "
   ]
  },
  {
   "cell_type": "markdown",
   "id": "78ee1909",
   "metadata": {},
   "source": [
    "## Part 1) Steady-state operation\n",
    "\n",
    "### Task a) Derive the system of governing equations\n",
    "\n",
    "---"
   ]
  },
  {
   "cell_type": "markdown",
   "id": "9f1bc2d3",
   "metadata": {},
   "source": [
    "The mass balance equations are derived in the same manner as in the lectures with the addition of an additional equation for the concentration of component E\n",
    "\\begin{align*}\n",
    "0 &= F\\left(c_{A,i} - c_A\\right) - V (k_1 c_A c_B + k_3 c_A) \\\\\n",
    " 0 &= F\\left(c_{B,i} - c_B\\right) - V (k_1 c_A c_B + k_2 c_C c_B)  \\\\\n",
    " 0 &= -F c_C + V(k_1 c_A c_B - k_2 c_C c_B) \\\\\n",
    " 0 &= -F c_D + V k_2 c_C c_B \\\\\n",
    " 0 &= -F c_E + V k_3 c_A\n",
    "\\end{align*}\n",
    "Each of the five nonlinear equations is written so that at a solution it equates to zero."
   ]
  },
  {
   "cell_type": "markdown",
   "id": "efdff2e1",
   "metadata": {},
   "source": [
    "### Task b) Solve the nonlinear equation system\n",
    "\n",
    "Assuming isothermal operation and no volume change, solve the nonlinear equation system and plot the conversion of A as a function of temperature and $\\gamma$.\n",
    "\n",
    "---\n",
    "\n",
    "First, define a function that calculates and returns the left-hand side of the nonlinear algebraic equation system, i.e. $\\mathbf{y}=[y[0], y[1], y[2], y[3], y[4]]$. At the solution $\\mathbf{x}^*$ of the nonlinear algebraic equation system the array $\\mathbf{y}$ is zero."
   ]
  },
  {
   "cell_type": "code",
   "execution_count": null,
   "id": "e3e2e817",
   "metadata": {},
   "outputs": [],
   "source": [
    "import numpy as np\n",
    "# CSTR right hand side function\n",
    "def CSTR_rhs(x, parameters):\n",
    "    y = np.zeros(5)\n",
    "    # Assign parameterseters to local variables\n",
    "    F = parameters[0]\n",
    "    V = parameters[1]\n",
    "    c_Ai = parameters[2]\n",
    "    c_Bi = parameters[3]\n",
    "    c_Ci = parameters[4] \n",
    "    c_Di = parameters[5]\n",
    "    c_Ei = parameters[6]\n",
    "    k1 = parameters[7]\n",
    "    k2 = parameters[8]\n",
    "    k3 = parameters[9]\n",
    "    \n",
    "    # Define the nonlinear equation system\n",
    "    y[0] = F*(c_Ai - x[0]) - V * (k1*x[0]*x[1] + k3*x[0])\n",
    "    y[1] = F*(c_Bi - x[1]) - V * (k1*x[0]*x[1] + k2*x[2]*x[1])\n",
    "    y[2] = F*(c_Ci - x[2]) + V * (k1*x[0]*x[1] - k2*x[2]*x[1])\n",
    "    y[3] = F*(c_Di - x[3]) + V * k2*x[2]*x[1]\n",
    "    y[4] = F*(c_Ei - x[4]) + V * k3*x[0]\n",
    "    \n",
    "    return y"
   ]
  },
  {
   "cell_type": "markdown",
   "id": "39f3cc35",
   "metadata": {},
   "source": [
    "The following cell loops over two temperatures and values of $\\gamma$ from $0$ to $4$. For each value of $\\gamma$ the parameter array and the initial guess is set before solving the nonlinear algebraic equation system defined by the `CSTR_rhs` function. It then stores the value of $\\gamma$ and the concentration of A in an array for later plotting. "
   ]
  },
  {
   "cell_type": "code",
   "execution_count": null,
   "id": "f1c9ee0a",
   "metadata": {},
   "outputs": [],
   "source": [
    "# Solve CSTR 2nd order reactions\n",
    "from scipy.optimize import fsolve\n",
    "\n",
    "# Lists to store the concentration and gamma values\n",
    "cA_all = []\n",
    "Ts = [298, 315]\n",
    "\n",
    "for T in Ts:\n",
    "    cA = []\n",
    "    gamma = []\n",
    "    for ga in np.linspace(0, 4, 10):   # Loop over different gamma values\n",
    "        # Parameter array: F, V, c_Ai, c_Bi, c_Ci, c_Di, c_Ei, k1, k2, k3\n",
    "\n",
    "        ## Comment out one of the two parameter arrays\n",
    "        if T == 298:\n",
    "            parameters = [0.001, 1, 0.5, ga*0.5, 0, 0, 0, 2.1e-2, 1.5e-2, 1.2e-4]\n",
    "        elif T == 315:\n",
    "            parameters = [0.001, 1, 0.5, ga*0.5, 0, 0, 0, 3.6e-2, 4.5e-2, 2.6e-4]\n",
    "        else:\n",
    "            print(\"T needs to be either 298K or 315K\")\n",
    "            break\n",
    "\n",
    "        # Initial guess\n",
    "        x0 = [0.5/(1+2*ga), ga*0.5/(1+2*ga), 0, 0, 0]\n",
    "\n",
    "        # Solve\n",
    "        x = fsolve(CSTR_rhs, x0, args=(parameters))\n",
    "\n",
    "        # Store gamma and c_A\n",
    "        gamma.append(ga)\n",
    "        cA.append(x[0])\n",
    "    \n",
    "    cA_all.append(cA)"
   ]
  },
  {
   "cell_type": "markdown",
   "id": "6414a4b1",
   "metadata": {},
   "source": [
    "The following cell plots the output for both temperatures against the values of $\\gamma$."
   ]
  },
  {
   "cell_type": "code",
   "execution_count": null,
   "id": "d09dc8b2",
   "metadata": {},
   "outputs": [],
   "source": [
    "import matplotlib.pyplot as plt\n",
    "\n",
    "for cA, T in zip(cA_all, Ts):\n",
    "    cA = np.array(cA)\n",
    "\n",
    "    plt.plot(gamma, 1 - cA/0.5)\n",
    "    plt.xlabel(r'$\\gamma$')\n",
    "    plt.ylabel('Conversion of A')\n",
    "    plt.title('Conversion of A for various concentrations at T={}K'.format(T))\n",
    "    plt.show()"
   ]
  },
  {
   "cell_type": "markdown",
   "id": "daec037c",
   "metadata": {},
   "source": [
    "The figures show that the conversion of A is increased at the higher temperature due to the increase in reaction rates. "
   ]
  },
  {
   "cell_type": "markdown",
   "id": "2995e675",
   "metadata": {},
   "source": [
    "### Task c)\n",
    "\n",
    "What influence does the flow rate have on the conversion of A? Nondimensionalise the equation system to help in your analysis.\n",
    "\n",
    "---\n",
    "\n",
    "As the characteristic value for the concentrations we pick the input concentration of component $A$ which is $c_{A,i}$. Using the nondimensionalisations $c_A = c_{A,i}\\tilde{c}_A$, $c_B = c_{A,i}\\tilde{c}_B$, $c_C = c_{A,i}\\tilde{c}_C$, $c_D = c_{A,i}\\tilde{c}_D$ and $c_E = c_{A,i}\\tilde{c}_E$ we get\n",
    "\\begin{align*}\n",
    "0 &= \\left(1 - \\tilde{c}_A\\right) - \\frac{V}{F} (k_1 c_{A,i}\\tilde{c}_A \\tilde{c}_B + k_3 \\tilde{c}_A) \\\\\n",
    " 0 &= \\left(\\gamma - \\tilde{c}_B\\right) - \\frac{V c_{A,i}}{F} (k_1 \\tilde{c}_A \\tilde{c}_B + k_2 \\tilde{c}_C \\tilde{c}_B)  \\\\\n",
    " 0 &= - \\tilde{c}_C + \\frac{V c_{A,i}}{F}(k_1 \\tilde{c}_A \\tilde{c}_B - k_2 \\tilde{c}_C \\tilde{c}_B) \\\\\n",
    " 0 &= - \\tilde{c}_D + \\frac{V k_2 c_{A,i}}{F} \\tilde{c}_C \\tilde{c}_B \\\\\n",
    " 0 &= - \\tilde{c}_E + \\frac{V k_3}{F} \\tilde{c}_A\n",
    "\\end{align*}\n"
   ]
  },
  {
   "cell_type": "markdown",
   "id": "f5edf47e",
   "metadata": {},
   "source": [
    "All the remaining parameters and in particular the two parameters influencing the conversion of A are inverse proportional to the flow rate $F$. Thus when we increase the flow rate the conversion of A is reduced while for a decrease of the flow rate the conversion is increased. The following plot shows the conversion for $F=0.0001\\,$m$^3\\,$s$^{-1}$. For values of $\\gamma>2$ the conversion is almost complete."
   ]
  },
  {
   "cell_type": "markdown",
   "id": "e092000b",
   "metadata": {},
   "source": [
    "*Remark:* You can test this by changing the flow rate and re-plotting the conversion of component $A$."
   ]
  },
  {
   "cell_type": "markdown",
   "id": "e2749e69-e9c0-4faf-96f6-0421a05fcf3d",
   "metadata": {},
   "source": [
    "## Part 2) Analysis of transient CSTR operation\n",
    "\n",
    "### Task a) Derive the transient system of equations\n",
    "\n",
    "---\n",
    "\n"
   ]
  },
  {
   "cell_type": "markdown",
   "id": "553259df-4264-4e6d-b8a2-8ab26df343d7",
   "metadata": {},
   "source": [
    "Following from Part 1a), the difference between the steady-state and transient CSTR operation is the time derivative of the number of moles of each component on the left-hand side so that the five differential equations are given by\n",
    "\\begin{align*}\n",
    " \\frac{d}{dt} \\left(V c_A\\right) &= F\\left(c_{A,i} - c_A\\right) - V (k_1 c_A c_B + k_3 c_A) \\\\\n",
    " \\frac{d}{dt} \\left(V c_B\\right) &= F\\left(c_{B,i} - c_B\\right) - V (k_1 c_A c_B + k_2 c_C c_B)  \\\\\n",
    " \\frac{d}{dt} \\left(V c_C\\right) &= -F c_C + V(k_1 c_A c_B - k_2 c_C c_B) \\\\\n",
    " \\frac{d}{dt} \\left(V c_D\\right) &= -F c_D + V k_2 c_C c_B \\\\\n",
    " \\frac{d}{dt} \\left(V c_E\\right) &= -F c_E + V k_3 c_A\n",
    "\\end{align*}"
   ]
  },
  {
   "cell_type": "markdown",
   "id": "b3d6129e-a04b-4151-a6c0-df8f325ac2e9",
   "metadata": {},
   "source": [
    "### Task b) Solve and plot the differential equation system\n",
    "\n",
    "---\n",
    "\n",
    "Solve the system for the two temperatures and for $\\gamma=2$.\n",
    "\n",
    "You can reuse the right-hand side function from Part 1. You have to add the time parameter but no other modifications are needed for this system because none of the parameters are time-dependent."
   ]
  },
  {
   "cell_type": "code",
   "execution_count": null,
   "id": "f206531f-668c-4d2b-85fd-44f4ea58c8c5",
   "metadata": {},
   "outputs": [],
   "source": [
    "# Define the CSTR ODE system right-hand side\n",
    "def CSTR_ODE_rhs(t, x, parameters):\n",
    "    return CSTR_rhs(x, parameters)"
   ]
  },
  {
   "cell_type": "code",
   "execution_count": null,
   "id": "04e328ed-b9b6-4d46-801b-859b1f75bc76",
   "metadata": {},
   "outputs": [],
   "source": [
    "# Solve ODE system with the RK45 ODE solver\n",
    "import numpy as np\n",
    "from scipy.integrate import solve_ivp\n",
    "\n",
    "# Temperature and gamma lists\n",
    "Ts = [298, 315]\n",
    "gamma = [2]\n",
    "\n",
    "# Lists to store the concentration and gamma values\n",
    "T_gamma = []\n",
    "sols = []\n",
    "\n",
    "for T in Ts:           # Loop over different temperature values\n",
    "    for ga in gamma:   # Loop over different gamma values\n",
    "        # Parameter array: F, V, c_Ai, c_Bi, c_Ci, c_Di, c_Ei, k1, k2, k3\n",
    "\n",
    "        ## Comment out one of the two parameter arrays\n",
    "        if T == 298:\n",
    "            parameters = [0.001, 1, 0.5, ga*0.5, 0, 0, 0, 2.1e-2, 1.5e-2, 1.2e-4]\n",
    "        elif T == 315:\n",
    "            parameters = [0.001, 1, 0.5, ga*0.5, 0, 0, 0, 3.6e-2, 4.5e-2, 2.6e-4]\n",
    "        else:\n",
    "            print(\"T needs to be either 298K or 315K\")\n",
    "            break\n",
    "\n",
    "        # Initial guess\n",
    "        x0 = [0.5, ga*0.5, 0, 0, 0]\n",
    "\n",
    "        # Solve\n",
    "        sol = solve_ivp(CSTR_ODE_rhs, [0, 1000], x0, method='RK45', rtol=1e-3, args=[parameters])\n",
    "        \n",
    "        # Store T and gamma as well as the solution\n",
    "        T_gamma.append({\"T\": T, \"gamma\": ga})\n",
    "        sols.append(sol)"
   ]
  },
  {
   "cell_type": "markdown",
   "id": "6a82beca-6bd3-4973-a06c-6007766506af",
   "metadata": {},
   "source": [
    "Plot the concentrations for the two temperatures."
   ]
  },
  {
   "cell_type": "code",
   "execution_count": null,
   "id": "24d40198-372b-445f-be3d-a66aab8a8027",
   "metadata": {},
   "outputs": [],
   "source": [
    "import matplotlib.pyplot as plt\n",
    "\n",
    "# Define the plot\n",
    "fig, ax = plt.subplots(1, 2, figsize=(15, 6))\n",
    "\n",
    "for i in range(2):\n",
    "    sol = sols[i]\n",
    "    ax[i].plot(sol.t, sol.y[0], 'k-', label=\"A\")\n",
    "    ax[i].plot(sol.t, sol.y[1], 'r-.', label=\"B\")\n",
    "    ax[i].plot(sol.t, sol.y[2], 'g--', label=\"C\")\n",
    "    ax[i].plot(sol.t, sol.y[3], 'b:', label=\"D\")\n",
    "    ax[i].plot(sol.t, sol.y[4], 'c-.x', label=\"E\")\n",
    "    \n",
    "    ax[i].set_xlabel(\"Nondimensional time [-]\", fontsize=14)\n",
    "    ax[i].set_ylabel(\"Nondimensional concentration [-]\", fontsize=14)\n",
    "    ax[i].set_title(r\"Concentrations in the reactor for $\\gamma$={} and T={}K\".format(T_gamma[i][\"gamma\"], T_gamma[i][\"T\"]))\n",
    "    \n",
    "    # Setting the values for all axes.\n",
    "    plt.setp(ax, xlim=(0, np.max(sol.t)))\n",
    "    ax[i].legend()\n",
    "plt.show()"
   ]
  },
  {
   "cell_type": "markdown",
   "id": "90ec6ac3-6c35-4a20-bbb6-ec98f01e849f",
   "metadata": {},
   "source": [
    "### Task c) Investigate the solution time dependency on the stiffness of the system\n",
    "\n",
    "---\n",
    "\n",
    "For $T=315\\,$K and $\\gamma=2$, evaluate the time required to solve the system with different solvers for different reaction rates $k_2$: start with the given reaction rate and increase it by a factor of 10 after each simulation."
   ]
  },
  {
   "cell_type": "code",
   "execution_count": null,
   "id": "e6ff4c1a-3149-4cfd-9153-5b0b07c1945f",
   "metadata": {},
   "outputs": [],
   "source": [
    "# Solve ODE system with different ODE solvers\n",
    "# Compare RK45 and Radau for systems with increasing stiffness\n",
    "import numpy as np\n",
    "from scipy.integrate import solve_ivp\n",
    "import time\n",
    "\n",
    "# Temperature and gamma lists\n",
    "Ts = [315]\n",
    "gamma = [2]\n",
    "\n",
    "# Lists to store the parameter values and solutions\n",
    "T_gamma = []\n",
    "sols = []\n",
    "\n",
    "for T in Ts:           # Loop over different temperature values\n",
    "    for ga in gamma:   # Loop over different gamma values\n",
    "        # Parameter array: F, V, c_Ai, c_Bi, c_Ci, c_Di, c_Ei, k1, k2, k3\n",
    "\n",
    "        ## Comment out one of the two parameter arrays\n",
    "        if T == 298:\n",
    "            parameters = [0.001, 1, 0.5, ga*0.5, 0, 0, 0, 2.1e-2, 1.5e-2, 1.2e-4]\n",
    "        elif T == 315:\n",
    "            parameters = [0.001, 1, 0.5, ga*0.5, 0, 0, 0, 3.6e-2, 4.5e-2, 2.6e-4]\n",
    "        else:\n",
    "            print(\"T needs to be either 298K or 315K\")\n",
    "            break\n",
    "\n",
    "        for i in range(6):      \n",
    "            # Initial guess\n",
    "            x0 = [0.5, ga*0.5, 0, 0, 0]\n",
    "    \n",
    "            # Solve\n",
    "            start = time.time()\n",
    "            print(\"Start time for ga={} is {:0.6f} seconds\".format(ga, start))\n",
    "            sol = solve_ivp(CSTR_ODE_rhs, [0, 1000], x0, method='Radau', rtol=1e-3, args=[parameters])\n",
    "            time_Radau = time.time()-start\n",
    "            \n",
    "            # Add the solution with the Radau method to the list\n",
    "            sols.append(sol)\n",
    "            \n",
    "            start = time.time()\n",
    "            sol = solve_ivp(CSTR_ODE_rhs, [0, 1000], x0, method='RK45', rtol=1e-3, args=[parameters])\n",
    "            time_RK45 = time.time()-start\n",
    "    \n",
    "            # Store parameters\n",
    "            T_gamma.append({\"T\": T, \"gamma\": ga, \"time_Radau\": time_Radau, \"time_RK45\": time_RK45, \"k2\": parameters[8]})\n",
    "\n",
    "            # Increase the reaction rate k2 for the next simulation\n",
    "            parameters[8] = parameters[8] * 10"
   ]
  },
  {
   "cell_type": "code",
   "execution_count": null,
   "id": "29b4c4e3-5346-4d3f-899d-ea628c89b926",
   "metadata": {},
   "outputs": [],
   "source": [
    "# Define the plot\n",
    "fig, ax = plt.subplots(1, 1, figsize=(15, 6))\n",
    "\n",
    "k2s = []\n",
    "tRadau = []\n",
    "tRK45 = []\n",
    "\n",
    "# Extract the data from the list of dictionaries\n",
    "for par in T_gamma:\n",
    "    k2s.append(par[\"k2\"])\n",
    "    tRadau.append(par[\"time_Radau\"])\n",
    "    tRK45.append(par[\"time_RK45\"])\n",
    "    \n",
    "ax.plot(k2s, tRadau, 'k-x', label=\"Radau\")\n",
    "ax.plot(k2s, tRK45, 'g--+', label=\"RK45\")\n",
    "ax.set_xlabel(r\"Reaction rate $k_2$ [m$^3\\,$mol$^{-1}\\,$s$^{-1}$]\", fontsize=14)\n",
    "ax.set_ylabel(\"Simulation time [s]\", fontsize=14)\n",
    "ax.set_yscale('log')\n",
    "plt.xlim([0.0, np.max(k2s)])\n",
    "ax.legend()\n",
    "plt.show()"
   ]
  },
  {
   "cell_type": "code",
   "execution_count": null,
   "id": "ab6fa786-b14d-42c8-9859-8efe4f785f26",
   "metadata": {},
   "outputs": [],
   "source": []
  }
 ],
 "metadata": {
  "kernelspec": {
   "display_name": "Python 3 (ipykernel)",
   "language": "python",
   "name": "python3"
  },
  "language_info": {
   "codemirror_mode": {
    "name": "ipython",
    "version": 3
   },
   "file_extension": ".py",
   "mimetype": "text/x-python",
   "name": "python",
   "nbconvert_exporter": "python",
   "pygments_lexer": "ipython3",
   "version": "3.12.6"
  }
 },
 "nbformat": 4,
 "nbformat_minor": 5
}
