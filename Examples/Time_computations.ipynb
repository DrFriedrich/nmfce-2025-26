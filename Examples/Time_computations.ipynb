{
 "cells": [
  {
   "cell_type": "markdown",
   "id": "93aca46a",
   "metadata": {},
   "source": [
    "# Timing computations"
   ]
  },
  {
   "cell_type": "markdown",
   "id": "26ce3406",
   "metadata": {},
   "source": [
    "## Time matrix multiplication"
   ]
  },
  {
   "cell_type": "code",
   "execution_count": null,
   "id": "5ac96f39",
   "metadata": {},
   "outputs": [],
   "source": [
    "import time\n",
    "import numpy as np\n",
    "\n",
    "N = 10\n",
    "times = []\n",
    "\n",
    "for i in range(4, N):\n",
    "    size = 10 * 2**i\n",
    "    A = np.random.rand(size, size)\n",
    "    B = np.random.rand(size, size)\n",
    "    \n",
    "    start = time.time()\n",
    "    C = A @ B\n",
    "    end = time.time()-start\n",
    "    times.append(end)\n",
    "    print(\"Time for {}x{} matrix is {:0.6f} seconds\".format(size, size, end))"
   ]
  },
  {
   "cell_type": "code",
   "execution_count": null,
   "id": "59d1c200",
   "metadata": {},
   "outputs": [],
   "source": [
    "# Ratio for doubling of matrix size\n",
    "times = np.array(times)\n",
    "times[1:]/times[0:-1]"
   ]
  },
  {
   "cell_type": "code",
   "execution_count": null,
   "id": "9af47978",
   "metadata": {},
   "outputs": [],
   "source": []
  }
 ],
 "metadata": {
  "kernelspec": {
   "display_name": "Python 3",
   "language": "python",
   "name": "python3"
  },
  "language_info": {
   "codemirror_mode": {
    "name": "ipython",
    "version": 3
   },
   "file_extension": ".py",
   "mimetype": "text/x-python",
   "name": "python",
   "nbconvert_exporter": "python",
   "pygments_lexer": "ipython3",
   "version": "3.9.6"
  }
 },
 "nbformat": 4,
 "nbformat_minor": 5
}
