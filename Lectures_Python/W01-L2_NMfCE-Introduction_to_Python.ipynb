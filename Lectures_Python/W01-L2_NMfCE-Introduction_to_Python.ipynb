{
 "cells": [
  {
   "cell_type": "markdown",
   "id": "5889a82c",
   "metadata": {
    "cell_style": "center",
    "slideshow": {
     "slide_type": "slide"
    }
   },
   "source": [
    "# Lecture W01-L2: Introduction to Python\n",
    "***\n",
    "\n",
    "Numerical Methods for Chemical Engineers (PGEE11169)  \n",
    "Semester 1\n",
    "\n",
    "Daniel Friedrich  \n",
    "School of Engineering  \n",
    "University of Edinburgh\n",
    "\n",
    "***\n",
    "<img src=\"figures/UoE_Stacked_Logo.png\" alt=\"Logo of the University of Edinburgh\"/>"
   ]
  },
  {
   "cell_type": "markdown",
   "id": "b1417f21",
   "metadata": {
    "slideshow": {
     "slide_type": "slide"
    }
   },
   "source": [
    "## Lecture overview\n",
    "***\n",
    "\n",
    "1. What is programming?\n",
    "2. Basic maths operations\n",
    "3. Printing \n",
    "4. Importing modules to extend Pythons capabilities\n",
    "5. Variables\n",
    "6. Data types\n",
    "7. Order of execution\n",
    "8. Functions\n",
    "9. A simple Python programme"
   ]
  },
  {
   "cell_type": "markdown",
   "id": "be40c075",
   "metadata": {
    "slideshow": {
     "slide_type": "slide"
    }
   },
   "source": [
    "## What is programming?\n",
    "***\n",
    "\n",
    "**Computer programming enables you to tell the computer what you want it to do!**\n",
    "- Break a problem into small manageable pieces\n",
    "- Find a solution for each piece\n",
    "- Fit them together to solve the problem\n",
    "- Tell the computer how to follow these steps\n",
    "\n",
    "**When is it useful?**\n",
    "- Existing programmes can't handle the data format you are given by an experiment\n",
    "- Existing programmes like Excel require many manual steps which you would like to automate\n",
    "- There is no ready-made programme that does what you need"
   ]
  },
  {
   "cell_type": "markdown",
   "id": "d040e536",
   "metadata": {
    "slideshow": {
     "slide_type": "slide"
    }
   },
   "source": [
    "## Ada Lovelace - The first programmer\n",
    "***\n",
    "\n",
    "Augusta Ada King, Countess of Lovelace (1815-1852)\n",
    "\n",
    "- English mathematician chiefly known for her work on Charles Babbage's proposed mechanical general-purpose computer, the Analytical Engine\n",
    "- She created theoretical foundations for most concepts we will use during this course\n",
    "- She devised the idea of instructions that we can use to talk to computers and make them perform complex tasks (aka. algorithms)\n",
    "\n",
    "<img src=\"figures/752px-Ada_Lovelace_portrait.jpg\" alt=\"Watercolour portrait of Ada King, Countess of Lovelace, circa 1840, possibly by Alfred Edward Chalon\" title=\"Ada Lovelace\" width=\"30%\"/>"
   ]
  },
  {
   "cell_type": "markdown",
   "id": "bf8bd3bf-3a3a-4bc4-b2a0-e5bf1a51902f",
   "metadata": {
    "cell_style": "split",
    "slideshow": {
     "slide_type": "-"
    }
   },
   "source": []
  },
  {
   "cell_type": "markdown",
   "id": "16fc0d49",
   "metadata": {
    "slideshow": {
     "slide_type": "slide"
    }
   },
   "source": [
    "## Basic maths operations\n",
    "***\n",
    "\n",
    "We can use Python and, specifically, Python through the Jupyter notebook interface as a fancy calculator."
   ]
  },
  {
   "cell_type": "code",
   "execution_count": null,
   "id": "5486519e",
   "metadata": {
    "cell_style": "center",
    "slideshow": {
     "slide_type": "-"
    }
   },
   "outputs": [],
   "source": []
  },
  {
   "cell_type": "markdown",
   "id": "24b73a2b",
   "metadata": {
    "slideshow": {
     "slide_type": "notes"
    }
   },
   "source": [
    "- Show calculation of the basic arithmetic operations: +, -, *, **, /, //\n",
    "- Start with integer values\n",
    "- Continue with floating point numbers\n",
    "- Show the only the last output is shown\n",
    "- Show that it can be suppressed with ;\n",
    "\n",
    "```2 + 3\n",
    "5 - 6\n",
    "4 * 4\n",
    "20/5\n",
    "4**2\n",
    "20/6\n",
    "13/4.5;\n",
    "```"
   ]
  },
  {
   "cell_type": "markdown",
   "id": "ca7b1e14",
   "metadata": {
    "slideshow": {
     "slide_type": "slide"
    }
   },
   "source": [
    "## Printing the results to the screen\n",
    "***\n",
    "\n",
    "- The previous slide showed that Jupyter prints only the last statement\n",
    "- What if you want to print intermediate expressions or outputs?"
   ]
  },
  {
   "cell_type": "code",
   "execution_count": null,
   "id": "07925d42",
   "metadata": {
    "cell_style": "center",
    "slideshow": {
     "slide_type": "-"
    }
   },
   "outputs": [],
   "source": []
  },
  {
   "cell_type": "markdown",
   "id": "0f9b317a",
   "metadata": {
    "slideshow": {
     "slide_type": "notes"
    }
   },
   "source": [
    "- print(\"Hello world!\")\n",
    "- Use the print and println statements\n",
    "- Use print with strings\n",
    "- Explain that you can use single or double quotes\n",
    "- Try to use sin and exp"
   ]
  },
  {
   "cell_type": "markdown",
   "id": "0ce67f53",
   "metadata": {
    "slideshow": {
     "slide_type": "slide"
    }
   },
   "source": [
    "## Importing modules to extend Pythons capabilities\n",
    "***\n",
    "\n",
    "- The previous example showed that Python doesn't know the sine and exponential function.\n",
    "- However, we can import modules to get more functionality."
   ]
  },
  {
   "cell_type": "code",
   "execution_count": null,
   "id": "2b69c4a8",
   "metadata": {
    "cell_style": "center",
    "slideshow": {
     "slide_type": "-"
    }
   },
   "outputs": [],
   "source": []
  },
  {
   "cell_type": "markdown",
   "id": "bedeeb02",
   "metadata": {
    "slideshow": {
     "slide_type": "notes"
    }
   },
   "source": [
    "- import numpy\n",
    "- Try to print(pi)\n",
    "- Discuss that you need to tell Python where to search for pi: numpy.pi\n",
    "- Introduce the alias np: import numpy as np\n",
    "- Print sine and exponential values\n",
    "- Print a more complex expression: print(np.cos(np.pi * 5))"
   ]
  },
  {
   "cell_type": "markdown",
   "id": "6a6bc511",
   "metadata": {
    "slideshow": {
     "slide_type": "slide"
    }
   },
   "source": [
    "## Variables\n",
    "***\n",
    "\n",
    "- In Python, all data is an object of a certain type.\n",
    "- We have seen integer and floating point numbers as well as strings.\n",
    "- Building objects from scratch all the time is not practical.\n",
    "- We can store objects in variables."
   ]
  },
  {
   "cell_type": "markdown",
   "id": "2b7d4fba",
   "metadata": {
    "slideshow": {
     "slide_type": "fragment"
    }
   },
   "source": [
    "- A variable is a label to a location in your computer's memory where an object is stored.\n",
    "- The variable points or refers to an object.\n",
    "- In most cases, writing the variable name returns the object."
   ]
  },
  {
   "cell_type": "markdown",
   "id": "8c9cc4ca",
   "metadata": {
    "slideshow": {
     "slide_type": "slide"
    }
   },
   "source": [
    "## Assigning variables\n",
    "***\n",
    "\n",
    "- The = sign is used to assign objects to variables.\n",
    "- The = sign does not mean mathematically equal."
   ]
  },
  {
   "cell_type": "code",
   "execution_count": null,
   "id": "385efebd",
   "metadata": {
    "cell_style": "center",
    "slideshow": {
     "slide_type": "-"
    }
   },
   "outputs": [],
   "source": []
  },
  {
   "cell_type": "code",
   "execution_count": null,
   "id": "ed9601d7",
   "metadata": {},
   "outputs": [],
   "source": []
  },
  {
   "cell_type": "markdown",
   "id": "6059d3dc",
   "metadata": {
    "slideshow": {
     "slide_type": "notes"
    }
   },
   "source": [
    "- Assign an object to a variable: c = 4\n",
    "- Nothing seems to happen because there is no output\n",
    "- Use the variable in the second cell\n",
    "- Explain what happens internally"
   ]
  },
  {
   "cell_type": "markdown",
   "id": "9d1a2ac6",
   "metadata": {
    "slideshow": {
     "slide_type": "slide"
    }
   },
   "source": [
    "## Data types\n",
    "***\n",
    "\n",
    "- We have seen that Python knows different objects, e.g. 4 and \"Hello world!\"\n",
    "- Python can tell us the type of an object."
   ]
  },
  {
   "cell_type": "code",
   "execution_count": null,
   "id": "ce5b43b0",
   "metadata": {
    "cell_style": "center",
    "slideshow": {
     "slide_type": "-"
    }
   },
   "outputs": [],
   "source": []
  },
  {
   "cell_type": "markdown",
   "id": "bbddec14",
   "metadata": {
    "slideshow": {
     "slide_type": "notes"
    }
   },
   "source": [
    "- Show the type of variables: type(c)\n",
    "- Use also on a float\n",
    "- Use also a string: my_string = \"This is a string.\""
   ]
  },
  {
   "cell_type": "markdown",
   "id": "fd25f4a3",
   "metadata": {
    "slideshow": {
     "slide_type": "slide"
    }
   },
   "source": [
    "## Common data types\n",
    "***\n",
    "\n",
    "We have already seen three data types:\n",
    "\n",
    "- *int*: integer numbers such as 4\n",
    "- *float*: floating point numbers such as 3.6 which are basically decimal numbers\n",
    "- *str*: strings such as \"I am another string.\""
   ]
  },
  {
   "cell_type": "markdown",
   "id": "bc127dbb",
   "metadata": {
    "cell_style": "center",
    "slideshow": {
     "slide_type": "fragment"
    }
   },
   "source": [
    "A further important type for conditional statements which will be introduced later is:\n",
    "\n",
    "- *bool*: a Boolean variable which can only have the values True or False"
   ]
  },
  {
   "cell_type": "code",
   "execution_count": null,
   "id": "8699575c",
   "metadata": {},
   "outputs": [],
   "source": []
  },
  {
   "cell_type": "markdown",
   "id": "8244ea39",
   "metadata": {
    "slideshow": {
     "slide_type": "notes"
    }
   },
   "source": [
    "- Show a Boolean variable\n",
    "- No quotes around True or False\n",
    "- Useful in the future when we are marking decisions\n"
   ]
  },
  {
   "cell_type": "markdown",
   "id": "05bc7cad",
   "metadata": {
    "slideshow": {
     "slide_type": "slide"
    }
   },
   "source": [
    "## Use comparison operators to make *bool* objects\n",
    "***\n",
    "\n",
    "We can construct *bool* objects by comparing other objects to each other."
   ]
  },
  {
   "cell_type": "code",
   "execution_count": null,
   "id": "f0db14f1",
   "metadata": {
    "cell_style": "center",
    "scrolled": true,
    "slideshow": {
     "slide_type": "-"
    }
   },
   "outputs": [],
   "source": []
  },
  {
   "cell_type": "markdown",
   "id": "1578184f",
   "metadata": {
    "slideshow": {
     "slide_type": "notes"
    }
   },
   "source": [
    "- Compare two integers m and n\n",
    "- Start with < and >, followed by ==, >=, <= and != \n",
    "- Assign a comparison to a bool variable: z = m < n\n",
    "\n",
    "```m = 4\n",
    "n = 6\n",
    "print(m < n)\n",
    "print(m > n)\n",
    "print(m == n)\n",
    "print(m != n)\n",
    "print(m <= n)\n",
    "print(m >= n)\n",
    "```"
   ]
  },
  {
   "cell_type": "markdown",
   "id": "5ba57f97",
   "metadata": {
    "slideshow": {
     "slide_type": "slide"
    }
   },
   "source": [
    "## Order of execution\n",
    "***\n",
    "\n",
    "- On the previous slide you might have noticed that the comparison was executed before the assignment.\n",
    "- When assigning a variable, the right hand side is evaluated first before saving the result in the variable on the left."
   ]
  },
  {
   "cell_type": "code",
   "execution_count": null,
   "id": "48091451",
   "metadata": {
    "cell_style": "center",
    "scrolled": true,
    "slideshow": {
     "slide_type": "-"
    }
   },
   "outputs": [],
   "source": []
  },
  {
   "cell_type": "markdown",
   "id": "9b4f9caf",
   "metadata": {
    "slideshow": {
     "slide_type": "notes"
    }
   },
   "source": [
    "- Explain the order of execution\n",
    "- Give an example with a calculation on the right: x = 4 + 2\n",
    "- Add a more complex example with cosine: y = np.cos(np.pi * 0.5)\n"
   ]
  },
  {
   "cell_type": "markdown",
   "id": "fc03950e",
   "metadata": {
    "slideshow": {
     "slide_type": "slide"
    }
   },
   "source": [
    "## Functions\n",
    "***\n",
    "\n",
    "- We've used functions from the numpy module: sin and exp\n",
    "- We can define our own functions to perform specific tasks.\n",
    "- This enables us to reuse the function instead of writing the complete code every time we need this specific task.\n",
    "\n",
    "For example, let's define a function which doubles a number and returns it:"
   ]
  },
  {
   "cell_type": "code",
   "execution_count": null,
   "id": "73ae5d5f",
   "metadata": {
    "cell_style": "center",
    "scrolled": true,
    "slideshow": {
     "slide_type": "-"
    }
   },
   "outputs": [],
   "source": []
  },
  {
   "cell_type": "markdown",
   "id": "5720d304",
   "metadata": {
    "slideshow": {
     "slide_type": "notes"
    }
   },
   "source": [
    "- Define a simple function\n",
    "\n",
    "```def double(x):\n",
    "    print(x * 2)\n",
    "double(5)```\n",
    "\n",
    "- Explain that indentation defines the scope"
   ]
  },
  {
   "cell_type": "markdown",
   "id": "1e3779cd",
   "metadata": {
    "slideshow": {
     "slide_type": "slide"
    }
   },
   "source": [
    "## Calculate the height of a ball thrown straight up\n",
    "***\n",
    "\n",
    "- We now have the tools to develop a simple Python programme to calculate the height of a ball thrown straight up into the air; see Section 1.2 in Programming for Computations – Python, Linge and Langtangen\n",
    "- From Newton's 2nd law and by assuming negligible air resistance we get the following mathematical model for the vertical position $y$ at time $t$\n",
    "\n",
    "$y = v_0 t - 0.5 g t^2$\n",
    "\n",
    "- $v_0$ is the initial upwards velocity in [m/s]\n",
    "- $g$ is the acceleration of gravity [m/s$^{-2}$] for which 9.81 m/s$^{-2}$ is a reasonable approximation"
   ]
  },
  {
   "cell_type": "markdown",
   "id": "6c6c9cfc",
   "metadata": {
    "slideshow": {
     "slide_type": "slide"
    }
   },
   "source": [
    "## Write a simple Python programme to calculate the height of a ball thrown up at time t\n",
    "***\n",
    "\n",
    "- Define the parameters $v_0 = 5$ m/s and $g = 9.81$ m/s$^{-2}$\n",
    "- Pick a time\n",
    "- Calculate and print $y$"
   ]
  },
  {
   "cell_type": "code",
   "execution_count": null,
   "id": "67c24b5b",
   "metadata": {},
   "outputs": [],
   "source": []
  },
  {
   "cell_type": "markdown",
   "id": "4c45b69e",
   "metadata": {
    "cell_style": "center",
    "slideshow": {
     "slide_type": "notes"
    }
   },
   "source": [
    "- Input the following programme\n",
    "\n",
    "```\n",
    "v0 = 5      # Initial velocity in [m/s]\n",
    "g = 9.81    # Acceleration of gravity in [m/s^2]\n",
    "t = 0.6     # Time in [s]\n",
    "\n",
    "y = v0 * t - 0.5 * g * t**2\n",
    "\n",
    "print(y)\n",
    "\n",
    "```\n",
    "\n",
    "- Discuss all parts"
   ]
  },
  {
   "cell_type": "markdown",
   "id": "0c7aac9b",
   "metadata": {
    "slideshow": {
     "slide_type": "slide"
    }
   },
   "source": [
    "## Rewrite the programme with a function for the vertical position calculation\n",
    "***\n",
    "\n",
    "- Wrap the calculation of $y$ into a function"
   ]
  },
  {
   "cell_type": "code",
   "execution_count": null,
   "id": "5ff70e7c",
   "metadata": {},
   "outputs": [],
   "source": []
  },
  {
   "cell_type": "markdown",
   "id": "1ac54d09",
   "metadata": {
    "cell_style": "center",
    "slideshow": {
     "slide_type": "notes"
    }
   },
   "source": [
    "- Rewrite the programme in the following way\n",
    "\n",
    "```\n",
    "def position(t, v0):\n",
    "    g = 9.81    # Acceleration of gravity in [m/s^2]\n",
    "    y = v0 * t - 0.5 * g * t**2\n",
    "    return y\n",
    "\n",
    "v0 = 5      # Initial velocity in [m/s]\n",
    "t = 0.6     # Time in [s]\n",
    "\n",
    "y = position(t, v0)\n",
    "\n",
    "print(y)\n",
    "\n",
    "```\n",
    "\n",
    "- Discuss all parts"
   ]
  },
  {
   "cell_type": "markdown",
   "id": "54b79504",
   "metadata": {
    "slideshow": {
     "slide_type": "slide"
    }
   },
   "source": [
    "## Plot the vertical position over time\n",
    "***"
   ]
  },
  {
   "cell_type": "code",
   "execution_count": null,
   "id": "9e05e6b4",
   "metadata": {},
   "outputs": [],
   "source": []
  },
  {
   "cell_type": "markdown",
   "id": "83f022ed",
   "metadata": {
    "cell_style": "center",
    "slideshow": {
     "slide_type": "notes"
    }
   },
   "source": [
    "- Add the following code for plotting\n",
    "\n",
    "```\n",
    "import numpy as np\n",
    "import matplotlib.pyplot as plt\n",
    "\n",
    "t = np.linspace(0, 1)\n",
    "\n",
    "plt.plot(t, position(t, 5), 'b', label='Simulation')\n",
    "plt.legend(loc='best')\n",
    "plt.xlabel('Time')\n",
    "plt.ylabel(\"Vertical position\")\n",
    "plt.grid()\n",
    "plt.show()\n",
    "\n",
    "```\n",
    "\n",
    "- Discuss all parts"
   ]
  },
  {
   "cell_type": "markdown",
   "id": "da6e3773",
   "metadata": {
    "slideshow": {
     "slide_type": "slide"
    }
   },
   "source": [
    "## Summary\n",
    "***\n",
    "\n",
    "- We introduced simple calcuations \n",
    "- Variables and data types\n",
    "- Printing to the screen\n",
    "- Importing further Python packages\n",
    "- Functions to perform specific tasks\n",
    "- Plotting of 2D figures"
   ]
  },
  {
   "cell_type": "markdown",
   "id": "2e372504",
   "metadata": {
    "slideshow": {
     "slide_type": "slide"
    }
   },
   "source": [
    "# The end\n",
    "***\n",
    "\n",
    "## Any questions?"
   ]
  }
 ],
 "metadata": {
  "@webio": {
   "lastCommId": null,
   "lastKernelId": null
  },
  "celltoolbar": "Slideshow",
  "jupytext": {
   "encoding": "# -*- coding: utf-8 -*-",
   "formats": "ipynb,py:percent"
  },
  "kernelspec": {
   "display_name": "Python 3 (ipykernel)",
   "language": "python",
   "name": "python3"
  },
  "language_info": {
   "codemirror_mode": {
    "name": "ipython",
    "version": 3
   },
   "file_extension": ".py",
   "mimetype": "text/x-python",
   "name": "python",
   "nbconvert_exporter": "python",
   "pygments_lexer": "ipython3",
   "version": "3.12.6"
  },
  "rise": {
   "enable_chalkboard": true
  }
 },
 "nbformat": 4,
 "nbformat_minor": 5
}
