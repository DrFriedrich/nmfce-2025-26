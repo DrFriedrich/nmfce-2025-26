{
 "cells": [
  {
   "cell_type": "markdown",
   "id": "7963c79a",
   "metadata": {},
   "source": [
    "## Polynomial Interpolation:"
   ]
  },
  {
   "cell_type": "code",
   "execution_count": null,
   "id": "e311c7c6",
   "metadata": {},
   "outputs": [],
   "source": [
    "import numpy as np\n",
    "import matplotlib.pyplot as plt"
   ]
  },
  {
   "cell_type": "code",
   "execution_count": null,
   "id": "d9e7c8a1",
   "metadata": {},
   "outputs": [],
   "source": [
    "def real_fun(x):\n",
    "    y = np.log(x)\n",
    "    return y"
   ]
  },
  {
   "cell_type": "markdown",
   "id": "fd28d038",
   "metadata": {},
   "source": [
    "\\begin{aligned}\n",
    "& \\text {data points  (x$_i$, y$_i$)}\\\\\n",
    "&\\begin{array}{c|cc}\n",
    "\\hline \n",
    "n & x_i & y_i = f(x_i) \\\\\n",
    "\\hline\n",
    "n=0 & 1.0 & 0.0 \\\\\n",
    "n=1 & 4.0 & 1.3863 \\\\\n",
    "n=2 & 6.0 & 1.7918 \\\\\n",
    "n=3 & 5.0 & 1.6094 \\\\\n",
    "\\hline\n",
    "\\end{array}\n",
    "\\end{aligned}"
   ]
  },
  {
   "cell_type": "code",
   "execution_count": null,
   "id": "d49d8dae",
   "metadata": {},
   "outputs": [],
   "source": [
    "x_i = [1.0, 4.0,    6.0   , 5.0]\n",
    "y_i = [0.0, 1.3863, 1.7918, 1.6094]"
   ]
  },
  {
   "cell_type": "markdown",
   "id": "ec6554fc",
   "metadata": {},
   "source": [
    "### Newton's interpolation:"
   ]
  },
  {
   "cell_type": "code",
   "execution_count": null,
   "id": "106e1f62",
   "metadata": {},
   "outputs": [],
   "source": [
    "def interpol_n_newton(x):\n",
    "    f_2nd_x = 0.4620981*(x-1) #- (0.0518731*(x-1)*(x-4)) +  (0.007865529*(x-1)*(x-4)*(x-6))\n",
    "    y_2nd   = f_2nd_x\n",
    "    return y_2nd"
   ]
  },
  {
   "cell_type": "markdown",
   "id": "c0761785",
   "metadata": {},
   "source": [
    "### Lagrange interpolation:"
   ]
  },
  {
   "cell_type": "code",
   "execution_count": null,
   "id": "a288fe2f",
   "metadata": {},
   "outputs": [],
   "source": [
    "def lagrangian_polynomial(x):\n",
    "    L_1 = ((x-1)*(x-6)/-6)\n",
    "    L_2 = ((x-1)*(x-4)/10)\n",
    "    Pn_x = (L_1*1.3863) + (L_2*1.7918)\n",
    "    yn_x = Pn_x\n",
    "    return  yn_x"
   ]
  },
  {
   "cell_type": "markdown",
   "id": "5138755f",
   "metadata": {},
   "source": [
    "### Polynomial interpolation:"
   ]
  },
  {
   "cell_type": "code",
   "execution_count": null,
   "id": "33d64180",
   "metadata": {},
   "outputs": [],
   "source": [
    "A = [[1,1,1],[1,4,16],[1,6,36]]\n",
    "B = [0.0,1.3863,1.7918]\n",
    "A_1 = np.linalg.inv(A)\n",
    "#----------condition number of A---------------\n",
    "k_number = np.linalg.norm(A)*np.linalg.norm(A_1)\n",
    "print(\"k_number\",k_number)\n",
    "X = np.dot(A_1,B)\n",
    "coeff = X\n",
    "print(X)\n",
    "def polynomial_int(coeff,x):\n",
    "    fun_x = coeff[0] + (coeff[1]*x) + (coeff[2]*x**2)\n",
    "    ypol = fun_x\n",
    "    return ypol"
   ]
  },
  {
   "cell_type": "markdown",
   "id": "1602626f",
   "metadata": {},
   "source": [
    "### polynomial fitting using Python:"
   ]
  },
  {
   "cell_type": "code",
   "execution_count": null,
   "id": "8ecf7b93",
   "metadata": {},
   "outputs": [],
   "source": [
    "# Best fitting for describing a curve , f(x), using Python\n",
    "# by using the numpy function \"polyfit\" : \n",
    "p1 = np.polyfit(x_i,y_i,2)\n",
    "ao = p1[2]\n",
    "#-----------------------\n",
    "a1 = p1[1]\n",
    "# ----------------------\n",
    "a2 = p1[0]\n",
    "# print(p1)\n",
    "p2 = np.poly1d(p1)"
   ]
  },
  {
   "cell_type": "code",
   "execution_count": null,
   "id": "647bf0b9",
   "metadata": {},
   "outputs": [],
   "source": [
    "xi=np.linspace(1.0,6.0,50)\n",
    "y_real = real_fun(xi)\n",
    "# print(y_real)\n",
    "y_interp = interpol_n_newton(xi)\n",
    "#print(y_interp)\n",
    "# y_lagrange = lagrangian_polynomial(xi)\n",
    "# print(y_lagrange)\n",
    "# y_polo = polynomial_int(coeff,xi)\n",
    "# print(y_polo)"
   ]
  },
  {
   "cell_type": "code",
   "execution_count": null,
   "id": "7ae7bb39",
   "metadata": {},
   "outputs": [],
   "source": [
    "plt.plot(xi,y_real,'b',xi,y_interp,'--k', x_i,y_i,'ko',)#, xi,y_lagrange,'+r',xi,y_polo,'g',xi, p2(xi),'m')\n",
    "plt.grid()\n",
    "plt.show()"
   ]
  },
  {
   "cell_type": "markdown",
   "id": "271bdca3",
   "metadata": {},
   "source": [
    "## Newton-Cotes Integration"
   ]
  },
  {
   "cell_type": "code",
   "execution_count": null,
   "id": "a2770e76",
   "metadata": {},
   "outputs": [],
   "source": [
    "#\n",
    "b =  10.0 # upper intregration limit\n",
    "a =  1.0  # lower  intregration limit\n",
    "npo = 20\n",
    "### interval (xi - xi-1): In trapezoidal method is the width of each trapezium \n",
    "Dx  = (b - a) / npo\n",
    "# -----------------------------------------------------------------------------\n",
    "j = 0\n",
    "I_appx = 0\n",
    "xoo = a\n",
    "xo =  a\n",
    "x_jg =[]\n",
    "y_jg =[]\n",
    "#------------------------------------------------------------------------------\n",
    "for i in range(npo):\n",
    "    j   = j + 1\n",
    "    #--- value of x; going forwad in incremental Dx\n",
    "    x_j = xoo + (j*Dx)\n",
    "    x_jg.append(x_j)\n",
    "    # ----------------------------------------------\n",
    "    # -- length of the base at xi\n",
    "    f_o = real_fun(xo)\n",
    "     # -- length of the base at xi+DX\n",
    "    f_j = real_fun(x_j)\n",
    "    y_jg.append(f_j)\n",
    "    #-----------------------------------------------\n",
    "    # -- Area of a trapezoid at one step j:\n",
    "    A_j = (f_j + f_o)*(Dx/2.0)\n",
    "    # ----------------------------------------------\n",
    "    I_appx  = I_appx + A_j # total sum of the \n",
    "    # ----------------------------------------------\n",
    "    xo = x_j\n",
    "\n",
    "print (\" Value of the Integral implementing Trapezoidal rule:\", I_appx , \"with Np=\",npo, \"number of points\")\n",
    "\n",
    "#print ( x_jg)\n",
    "baso = np.zeros(len(y_jg))\n",
    "\n",
    "def anal_Int_fun(xa,xb):\n",
    "    I = ((xb*np.log(xb))-(xa*np.log(xa))) - (xb-xa)\n",
    "    return I\n",
    "\n",
    "I_anal = anal_Int_fun(a,b)\n",
    "print (\" Value of the Integral calculated analytically:\", I_anal)\n",
    "\n",
    "xint    = np.linspace(1.0,10.0,50)\n",
    "y_real2 = real_fun(xint)\n",
    "plt.plot(xint,y_real2,'b',x_jg,y_jg,'ks' )\n",
    "for k in range (len(x_jg)):\n",
    "    plt.plot([x_jg[k], x_jg[k]], [y_jg[k], baso[k]], '--y')\n",
    "    \n",
    "plt.ylim(0.0, 3.0)\n",
    "plt.grid()\n",
    "plt.show()"
   ]
  },
  {
   "cell_type": "markdown",
   "id": "4bf19472",
   "metadata": {},
   "source": [
    "## Ordinary Differential Equations:"
   ]
  },
  {
   "cell_type": "code",
   "execution_count": null,
   "id": "501ee182",
   "metadata": {},
   "outputs": [],
   "source": [
    "a4= 1.0 \n",
    "a3= 8.5\n",
    "a2=-10\n",
    "a1= 4\n",
    "ao=-0.5\n",
    "A = [ao,a1,a2,a3,a4]"
   ]
  },
  {
   "cell_type": "code",
   "execution_count": null,
   "id": "24963272",
   "metadata": {},
   "outputs": [],
   "source": [
    "def poly_ode(A,t):\n",
    "    x_t   = np.polyval(A,t)\n",
    "    #-----------------------#\n",
    "    p1 = np.poly1d(A)\n",
    "    #-----------------------\n",
    "    p2 = np.polyder(p1)\n",
    "    print(p2)\n",
    "    #-----------------------\n",
    "    dx_dt   = np.polyval(p2,t)\n",
    "    return  x_t,dx_dt"
   ]
  },
  {
   "cell_type": "code",
   "execution_count": null,
   "id": "b30181a2",
   "metadata": {},
   "outputs": [],
   "source": [
    "t= np.linspace(0,4,50)\n",
    "x, dxdt = poly_ode(A,t)\n",
    "plt.plot(t,x,'-g')\n",
    "plt.grid()\n",
    "plt.show()\n",
    "# fig,ax = plt.subplots()\n",
    "# ax.plot(t,x,'-g')"
   ]
  },
  {
   "cell_type": "code",
   "execution_count": null,
   "id": "b8f5abf6",
   "metadata": {},
   "outputs": [],
   "source": [
    "# a4= 2.0\n",
    "# A = [ao,a1,a2,a3,a4]\n",
    "# x, dxdt = poly_ode(A,t)\n",
    "# ax.plot(t,x)\n",
    "# fig"
   ]
  },
  {
   "cell_type": "code",
   "execution_count": null,
   "id": "c3d703d1",
   "metadata": {},
   "outputs": [],
   "source": [
    "plt.plot(t,dxdt,'-b', t,np.zeros(len(t)),'k')\n",
    "plt.grid()\n",
    "plt.show()"
   ]
  },
  {
   "cell_type": "markdown",
   "id": "99ab3e2a",
   "metadata": {},
   "source": [
    "### Simple Euler's Method"
   ]
  },
  {
   "cell_type": "code",
   "execution_count": null,
   "id": "834a44ba",
   "metadata": {},
   "outputs": [],
   "source": [
    "do,d1,d2,d3= -2, 12, -20,  8.5\n",
    "D = [do,d1,d2,d3]\n",
    "\n",
    "def fun_euler(p2,t):\n",
    "    fob_x_t   = np.polyval(D,t)\n",
    "    return fob_x_t"
   ]
  },
  {
   "cell_type": "code",
   "execution_count": null,
   "id": "71a0ad3f",
   "metadata": {},
   "outputs": [],
   "source": [
    "to  = 0.0\n",
    "too = to\n",
    "xko = 1.0\n",
    "xkoo = xko\n",
    "a = 0.0\n",
    "b = 4.0\n",
    "N = 5\n",
    "dt = (b-a)/N\n",
    "\n",
    "\n",
    "te = np.linspace(a,b,N)\n",
    "\n",
    "x_g = np.zeros(len(te))\n",
    "t_g = np.zeros(len(te))\n",
    "\n",
    "for i in range(len(te)):\n",
    "    xk1 = xko + fun_euler(p2,to)*dt\n",
    "    x_g[i]=xk1\n",
    "    xko = xk1\n",
    "    to  = to + dt\n",
    "    t_g[i] = to\n",
    "\n",
    "x_g=np.insert(x_g,0, xkoo)\n",
    "t_g=np.insert(t_g,0, too)\n"
   ]
  },
  {
   "cell_type": "code",
   "execution_count": null,
   "id": "5e36e7cb",
   "metadata": {},
   "outputs": [],
   "source": [
    "plt.plot(t,x,'-g', t_g, x_g,'-ok')\n",
    "plt.grid()\n",
    "plt.show()"
   ]
  },
  {
   "cell_type": "markdown",
   "id": "85a2220a",
   "metadata": {},
   "source": [
    "### Euler and Heun's Method"
   ]
  },
  {
   "cell_type": "code",
   "execution_count": null,
   "id": "ea3c69b1",
   "metadata": {},
   "outputs": [],
   "source": [
    "# Using a simple euler to predict the next (k+1) value of dependent variable:\n",
    "# define the function to integrate : f(x,t)\n",
    "def fun_ode(x,t):\n",
    "    fobo = (4.0*np.exp(0.8*t)) - (0.5*x)\n",
    "    return fobo\n",
    "\n",
    "# Analytic solution of the ODE\n",
    "def anal_ode(t):\n",
    "    solve_1 = (4.0/1.3)*(np.exp(0.8*t) - np.exp(-0.5*t))\n",
    "    solve_2 = 2.0*np.exp(-0.5*t)\n",
    "    x_anal  = solve_1 + solve_2\n",
    "    return  x_anal\n",
    "\n",
    "\n",
    "\n",
    "# Initial condition:\n",
    "to = 0.0\n",
    "too = to\n",
    "xo = 2.0\n",
    "xoo = xo\n",
    "# step of size\n",
    "xa = 0.0\n",
    "xb = 4.0\n",
    "Np = 5\n",
    "xb = 4.0\n",
    "xa = 0.0\n",
    "dt = (xb - xa)/Np"
   ]
  },
  {
   "cell_type": "code",
   "execution_count": null,
   "id": "99c79c8d",
   "metadata": {
    "scrolled": true
   },
   "outputs": [],
   "source": [
    "\n",
    "plt.plot(too,xoo,'ko')\n",
    "while to < 4.0:\n",
    "    # predictor step:\n",
    "    x0_k1 = xo + (fun_ode(xo,to)*dt)\n",
    "    #-------------------------------\n",
    "    # corrector step:\n",
    "    def_average = (fun_ode(xo,to) + fun_ode(x0_k1,to+dt))/2\n",
    "    x_1 = xo + (def_average*dt)\n",
    "    #----------------- refresh value to carry out a forward prediction:\n",
    "    xo = x_1\n",
    "    to = to + dt\n",
    "    x_ty = anal_ode(to)\n",
    "    plt.plot(to,xo,'ko',to,x_ty,'r*')\n",
    "    \n",
    "\n",
    "plt.show()"
   ]
  },
  {
   "cell_type": "markdown",
   "id": "4d4cca56",
   "metadata": {},
   "source": [
    "### Classical Fourth-Order Runge-Kutta"
   ]
  },
  {
   "cell_type": "code",
   "execution_count": null,
   "id": "4e4dfbd5",
   "metadata": {},
   "outputs": [],
   "source": [
    "# Initial condition:\n",
    "to = 0.0\n",
    "too = to\n",
    "xo = 2.0\n",
    "xoo = xo\n",
    "xg =[]\n",
    "tg =[]\n",
    "x_analg =[]\n",
    "xg.append(xoo)\n",
    "tg.append(too)\n",
    "dt = 0.4\n",
    "while 1>0:\n",
    "    K1= fun_ode(xo,to)\n",
    "    #-----------------------\n",
    "    xk2 = xo + (0.5*K1*dt)\n",
    "    tk2 = to + (0.5*dt)\n",
    "    K2= fun_ode(xk2, tk2)\n",
    "    #-----------------------\n",
    "    xk3 = xo + (0.5*K2*dt)\n",
    "    tk3 = to + (0.5*dt)\n",
    "    K3= fun_ode(xk3, tk3)\n",
    "    #-----------------------\n",
    "    xk4 = xo + (K3*dt)\n",
    "    tk4 = to + dt\n",
    "    K4 =  fun_ode(xk4, tk4)\n",
    "    #-----------------------\n",
    "    x1   = xo + ((1/6)*(K1 + (2*K2) + (2*K3) + K4)*dt)\n",
    "    x_anal = anal_ode(to)\n",
    "    x_analg.append(x_anal)\n",
    "    # ---------------------\n",
    "    to = to + dt\n",
    "    if to > 4.0:\n",
    "        break\n",
    "    else:\n",
    "        xo = x1\n",
    "        xg.append(xo)\n",
    "        tg.append(to)\n",
    "        \n",
    "plt.plot(tg,x_analg,'b',tg,xg,'ko')\n",
    "plt.grid()\n",
    "plt.show()"
   ]
  },
  {
   "cell_type": "markdown",
   "id": "55af770f",
   "metadata": {},
   "source": [
    "### Application of Runge-Kutta methods to Chemical kinetics:\n",
    "\n",
    "Consider the following simple reaction network:\n",
    "\n",
    "$A \\underset{k_{-1}}{\\stackrel{k_1}{\\rightleftharpoons}} 2B $\n",
    "\n",
    "$B \\stackrel{k_2}{\\rightharpoonup} 2B $\n",
    "\n",
    "Suppose that $k_2$ >> $k_1$ ; The rate constants used in the simulation\n",
    "are$K_1 = k_{-1} = 1$ ; $k_2 = 100$ and the initial conditions are $ C_A(0) = 1; C_B(0), C_C(0)= 0 $.\n",
    "\n"
   ]
  },
  {
   "cell_type": "code",
   "execution_count": null,
   "id": "a71e20c2",
   "metadata": {},
   "outputs": [],
   "source": [
    "def reaction_rates(Coo,k1,k_1,k2):\n",
    "    #Coo = np.zeros(len(Coo)).tolist()\n",
    "    Ca = Coo[0]\n",
    "    Cb = Coo[1]\n",
    "    ra = -k1*Ca + k_1*Cb**2\n",
    "    rb = 2.0*k1*Ca - 2*k_1*Cb**2 - k2*Cb\n",
    "    rc = k2*Cb\n",
    "    rnx = [ra,rb,rc]\n",
    "    return rnx\n"
   ]
  },
  {
   "cell_type": "code",
   "execution_count": null,
   "id": "e1f21c85",
   "metadata": {},
   "outputs": [],
   "source": [
    "Cao, Cbo, Cco = 1.0, 0.0, 0.0\n",
    "k1, k_1 =1.0, 1.0 \n",
    "k2  = 100\n",
    "Coi = [Cao,Cbo,Cco]\n",
    "to  =  0\n",
    "tf  = 10\n",
    "Np  = 1000\n",
    "dt  = (tf - to) / Np\n",
    "t   = np.linspace(0,10,Np)\n",
    "compox = np.zeros((len(t),len(Coi)))\n",
    "for i in range(len(t)):\n",
    "#-----------------------------------\n",
    "    K1  = np.array(reaction_rates(Coi,k1,k_1,k2))\n",
    "    delta = 0.5*dt\n",
    "    K1pd  = delta*K1\n",
    "    Ck2   = Coi + K1pd\n",
    "    #---------------------------------------\n",
    "    K2   = np.array(reaction_rates(Ck2,k1,k_1,k2))\n",
    "    K2pd =  delta*K2\n",
    "    Ck3  = Coi + K2pd\n",
    "    #--------------------------------------\n",
    "    K3   = np.array(reaction_rates(Ck3,k1,k_1,k2))\n",
    "    K3pd = dt*K3\n",
    "    Ck4  = Coi + K3pd\n",
    "    #------------------------------------------\n",
    "    K4  = np.array(reaction_rates(Ck4,k1,k_1,k2))\n",
    "    C1i = Coi + ((1/6)*(K1 + (2*K2) + (2*K3) + K4)*dt)\n",
    "    compox [i][:] = C1i\n",
    "    Coi = C1i\n",
    "\n",
    "\n",
    "\n",
    "new_row = np.array([Cao,Cbo,Cco])\n",
    "t = np.insert(t, 0, 0)\n",
    "# Use np.column_stack to add the column\n",
    "compox = np.insert(compox, 0, new_row, axis=0)\n",
    "CA = compox[:,0]\n",
    "CB = compox[:,1]\n",
    "CC = compox[:,2]\n",
    "plt.plot(t,CA,'g',t,CB,'r',t,CC,'b')\n",
    "plt.legend([\"C$_A$\", \"C$_B$\", \"C$_C$\"])\n",
    "plt.xlim(0.0, 10)\n",
    "plt.xlabel('$\\it{t}$  [s]')\n",
    "plt.grid()\n",
    "plt.show()\n"
   ]
  },
  {
   "cell_type": "code",
   "execution_count": null,
   "id": "bdc69b40-518f-424e-8ae4-717025fe69d9",
   "metadata": {},
   "outputs": [],
   "source": []
  }
 ],
 "metadata": {
  "kernelspec": {
   "display_name": "Python 3 (ipykernel)",
   "language": "python",
   "name": "python3"
  },
  "language_info": {
   "codemirror_mode": {
    "name": "ipython",
    "version": 3
   },
   "file_extension": ".py",
   "mimetype": "text/x-python",
   "name": "python",
   "nbconvert_exporter": "python",
   "pygments_lexer": "ipython3",
   "version": "3.12.6"
  }
 },
 "nbformat": 4,
 "nbformat_minor": 5
}
