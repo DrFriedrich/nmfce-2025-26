{
 "cells": [
  {
   "cell_type": "markdown",
   "id": "579dc4bb",
   "metadata": {
    "cell_style": "center",
    "slideshow": {
     "slide_type": "slide"
    }
   },
   "source": [
    "# Lecture W02-L1: Introduction to Python - continued\n",
    "***\n",
    "\n",
    "Numerical Methods for Chemical Engineers (PGEE11169)  \n",
    "Semester 1\n",
    "\n",
    "Nasser Afify \n",
    "\n",
    "School of Engineering  \n",
    "University of Edinburgh\n",
    "\n",
    "***\n",
    "<img src=\"figures/UoE_Stacked_Logo.png\" alt=\"Logo of the University of Edinburgh\"/>"
   ]
  },
  {
   "cell_type": "markdown",
   "id": "80f879b4",
   "metadata": {
    "slideshow": {
     "slide_type": "slide"
    }
   },
   "source": [
    "## Lecture overview\n",
    "***\n",
    "\n",
    "1. Recap\n",
    "1. Lists\n",
    "1. Loops\n",
    "1. numpy arrays\n",
    "1. Timing\n",
    "1. Conditional execution\n",
    "1. Tests"
   ]
  },
  {
   "cell_type": "markdown",
   "id": "0b89206e",
   "metadata": {
    "slideshow": {
     "slide_type": "slide"
    }
   },
   "source": [
    "## Recap\n",
    "***\n",
    "\n",
    "We handled a number of topics last week:\n",
    "- Basic maths operations\n",
    "- Printing \n",
    "- Variables and data types\n",
    "- Functions\n",
    "- Importing modules to extend Pythons capabilities"
   ]
  },
  {
   "cell_type": "code",
   "execution_count": null,
   "id": "5dccd947",
   "metadata": {
    "slideshow": {
     "slide_type": "-"
    }
   },
   "outputs": [],
   "source": []
  },
  {
   "cell_type": "markdown",
   "id": "2e969dcc",
   "metadata": {
    "slideshow": {
     "slide_type": "notes"
    }
   },
   "source": [
    "```\n",
    "import numpy as np\n",
    "\n",
    "def circle_area(radius):\n",
    "    pi = np.pi\n",
    "    area = pi * radius**2\n",
    "    return area\n",
    "\n",
    "r = 1.2\n",
    "print(circle_area(r))\n",
    "```"
   ]
  },
  {
   "cell_type": "markdown",
   "id": "21343fc4",
   "metadata": {
    "slideshow": {
     "slide_type": "slide"
    }
   },
   "source": [
    "## Lists\n",
    "***\n",
    "\n",
    "We have encountered `int`, `float`, `str`, `bool` in last week's lecture.\n",
    "\n",
    "Python also has objects which can *contain* several other objects inside them -- they're called **containers**.\n",
    "\n",
    "This week we are covering **lists**."
   ]
  },
  {
   "cell_type": "code",
   "execution_count": null,
   "id": "ed4fb8fb",
   "metadata": {
    "slideshow": {
     "slide_type": "-"
    }
   },
   "outputs": [],
   "source": []
  },
  {
   "cell_type": "markdown",
   "id": "f843b073",
   "metadata": {
    "slideshow": {
     "slide_type": "notes"
    }
   },
   "source": [
    "- Define a list ```a = [1, 2, 5, 7, 10, 9]```\n",
    "- Combine a number of items in a container\n",
    "- Put items separated by commas inside square brackets\n",
    "- You can put pretty much any thing into lists\n",
    "- Even other lists\n",
    "- ```diverse_list = ['hello', 'world', a, [True, 1], [False, 0], 1.2, 4]```\n",
    "- ```type(diverse_list)```"
   ]
  },
  {
   "cell_type": "markdown",
   "id": "88652215",
   "metadata": {
    "slideshow": {
     "slide_type": "slide"
    }
   },
   "source": [
    "### Useful tools for lists\n",
    "***\n",
    "\n",
    "- Getting the length of a list: `len`\n",
    "- Add an element to the end of a list: `append`"
   ]
  },
  {
   "cell_type": "code",
   "execution_count": null,
   "id": "cdfc1c07",
   "metadata": {},
   "outputs": [],
   "source": []
  },
  {
   "cell_type": "markdown",
   "id": "f862f8e3",
   "metadata": {
    "slideshow": {
     "slide_type": "notes"
    }
   },
   "source": [
    "- ```print(len(diverse_list))```\n",
    "- ```diverse_list.append(\"a new last element\")```\n",
    "- ```print(diverse_list)```"
   ]
  },
  {
   "cell_type": "markdown",
   "id": "d27f1340",
   "metadata": {
    "slideshow": {
     "slide_type": "slide"
    }
   },
   "source": [
    "### Getting specific elements of a list\n",
    "***\n",
    "\n",
    "How can we get the items from the list?\n",
    "- Lists are labelled by index\n",
    "- In Python the indexing starts at 0"
   ]
  },
  {
   "cell_type": "code",
   "execution_count": null,
   "id": "b0a60e9c",
   "metadata": {},
   "outputs": [],
   "source": []
  },
  {
   "cell_type": "markdown",
   "id": "da05040d",
   "metadata": {
    "slideshow": {
     "slide_type": "notes"
    }
   },
   "source": [
    "- List indices start at 0\n",
    "- To get the first element we use: ```a[0]```\n",
    "- To get the last element we use: ```a[-1]```\n",
    "- Get some elements from a `diverse_list'\n",
    "- ```print(diverse_list[3])```\n",
    "- ```print(type(diverse_list[3]))```\n",
    "- ```print(diverse_list[3][1])```\n"
   ]
  },
  {
   "cell_type": "markdown",
   "id": "eb1ab7b1",
   "metadata": {
    "slideshow": {
     "slide_type": "slide"
    }
   },
   "source": [
    "### List slicing\n",
    "***\n",
    "\n",
    "If we want more than just one element, we can get a **slice** of the list.\n",
    "\n",
    "- `my_list[start:stop]` gets all elements from position `start` to `stop-1`.\n",
    "- `my_list[start:stop:step]` gets every `step`th element from position `start` to `stop-1`."
   ]
  },
  {
   "cell_type": "code",
   "execution_count": null,
   "id": "0d74c5aa",
   "metadata": {},
   "outputs": [],
   "source": []
  },
  {
   "cell_type": "markdown",
   "id": "0713b2f5",
   "metadata": {
    "slideshow": {
     "slide_type": "notes"
    }
   },
   "source": [
    "```\n",
    "a_list = ['zero', 'one', 'two', 'three', 'four', 'five', 'six', 'seven', 'eight', 'nine', 'ten', 'eleven']\n",
    "print(a_list[3:8])\n",
    "print(a_list[1:-2:3])\n",
    "```"
   ]
  },
  {
   "cell_type": "markdown",
   "id": "d086f160",
   "metadata": {
    "slideshow": {
     "slide_type": "slide"
    }
   },
   "source": [
    "## How to repeat commands a number of times\n",
    "***\n",
    "\n",
    "Consider the list `a_list` from earlier. Let's say we want to capitalise each word in the list -- there's a function for that: [`str.capitalize()`](https://docs.python.org/3/library/stdtypes.html#str.capitalize)."
   ]
  },
  {
   "cell_type": "code",
   "execution_count": null,
   "id": "983d7329",
   "metadata": {},
   "outputs": [],
   "source": []
  },
  {
   "cell_type": "markdown",
   "id": "f47b2cd7",
   "metadata": {
    "slideshow": {
     "slide_type": "notes"
    }
   },
   "source": [
    "```\n",
    "a_list = ['zero', 'one', 'two', 'three', 'four', 'five',\n",
    "           'six', 'seven', 'eight', 'nine', 'ten', 'eleven']\n",
    "\n",
    "a_list_cap = []\n",
    "a_list_cap.append(a_list[0].capitalize())\n",
    "a_list_cap.append(a_list[1].capitalize())\n",
    "a_list_cap.append(a_list[2].capitalize())\n",
    "a_list_cap.append(a_list[3].capitalize())\n",
    "print(a_list_cap)\n",
    "```"
   ]
  },
  {
   "cell_type": "markdown",
   "id": "7d0a8c18",
   "metadata": {
    "slideshow": {
     "slide_type": "slide"
    }
   },
   "source": [
    "## `for` loop\n",
    "***\n",
    "\n",
    "We can use a loop to repeat a set of commands on a number of items."
   ]
  },
  {
   "cell_type": "code",
   "execution_count": null,
   "id": "c2c6975c",
   "metadata": {},
   "outputs": [],
   "source": []
  },
  {
   "cell_type": "markdown",
   "id": "44e8f7b4",
   "metadata": {
    "slideshow": {
     "slide_type": "notes"
    }
   },
   "source": [
    "- Discuss for loop set up\n",
    "- Discuss indentation\n",
    "- Put the print inside the loop\n",
    "\n",
    "```\n",
    "a_list = ['zero', 'one', 'two', 'three', 'four', 'five',\n",
    "           'six', 'seven', 'eight', 'nine', 'ten', 'eleven']\n",
    "\n",
    "a_list_cap = []\n",
    "for number in a_list:\n",
    "    a_list_cap.append(number.capitalize())\n",
    "    \n",
    "print(a_list_cap)\n",
    "```"
   ]
  },
  {
   "cell_type": "markdown",
   "id": "0a26584e",
   "metadata": {
    "slideshow": {
     "slide_type": "slide"
    }
   },
   "source": [
    "### What if I don't already have a list?\n",
    "***\n",
    "\n",
    "Loops are useful for maths, for anything that is an *iterative* process.\n",
    "\n",
    "Example: compute and display the $n$th element of the Fibonacci sequence, starting with $x_0 = x_1 = 1$."
   ]
  },
  {
   "cell_type": "code",
   "execution_count": null,
   "id": "ab6b99bd",
   "metadata": {},
   "outputs": [],
   "source": []
  },
  {
   "cell_type": "markdown",
   "id": "bce1dc4c",
   "metadata": {
    "slideshow": {
     "slide_type": "notes"
    }
   },
   "source": [
    "- Discuss the range function\n",
    "\n",
    "```\n",
    "x = [1, 1]\n",
    "n = 20\n",
    "\n",
    "for i in range(2, n+1):\n",
    "    x.append(x[i-2] + x[i-1])\n",
    "\n",
    "print(x[-1])\n",
    "```"
   ]
  },
  {
   "cell_type": "markdown",
   "id": "f99dba6e",
   "metadata": {
    "slideshow": {
     "slide_type": "slide"
    }
   },
   "source": [
    "## `while` loop\n",
    "***\n",
    "\n",
    "\n",
    "`while` loops continue looping *as long as* a certain condition is `True`."
   ]
  },
  {
   "cell_type": "code",
   "execution_count": null,
   "id": "757cffda",
   "metadata": {},
   "outputs": [],
   "source": []
  },
  {
   "cell_type": "markdown",
   "id": "6d08ff38",
   "metadata": {
    "slideshow": {
     "slide_type": "notes"
    }
   },
   "source": [
    "- Discuss the conditionals\n",
    "\n",
    "```\n",
    "def GCD(m, n):\n",
    "    '''\n",
    "    Returns the greatest common divisor of integers m and n.\n",
    "    '''\n",
    "    d = min(m, n)\n",
    "    while m % d != 0 or n % d != 0:\n",
    "        d = d - 1\n",
    "    return d\n",
    "\n",
    "print(GCD(1, 40))\n",
    "```"
   ]
  },
  {
   "cell_type": "markdown",
   "id": "f91d5fb3",
   "metadata": {
    "slideshow": {
     "slide_type": "slide"
    }
   },
   "source": [
    "## numpy arrays\n",
    "***\n",
    "\n",
    "- Lists can be very slow for numerical computations\n",
    "- Unlike a Python list, all elements in a numpy arrays must be the same data type\n",
    "- This improves the speed of mathematical operations\n",
    "- There are optimised numpy functions for many common mathematical operations on numpy arrays"
   ]
  },
  {
   "cell_type": "code",
   "execution_count": null,
   "id": "928c4764",
   "metadata": {},
   "outputs": [],
   "source": []
  },
  {
   "cell_type": "markdown",
   "id": "b7fd2591",
   "metadata": {
    "slideshow": {
     "slide_type": "notes"
    }
   },
   "source": [
    "- Define an array of zeros and ones\n",
    "\n",
    "```\n",
    "import numpy as np\n",
    "A = np.array([1, 2, 3])\n",
    "print(\"A = \", A)\n",
    "print(\"type(A) = \", type(A))\n",
    "\n",
    "AA = np.array([[1, 2, 3], [4, 5, 6]])\n",
    "print(\"AA = \", AA)\n",
    "print(\"type(AA) = \", type(AA))\n",
    "\n",
    "z = np.zeros(4)\n",
    "print(\"z = \", z)\n",
    "zz = np.zeros([4,3])\n",
    "print(\"zz = \", zz)\n",
    "o = np.ones([2,5])\n",
    "print(\"o = \", o)\n",
    "```"
   ]
  },
  {
   "cell_type": "markdown",
   "id": "b8afbd91",
   "metadata": {
    "slideshow": {
     "slide_type": "slide"
    }
   },
   "source": [
    "## Timing of execution\n",
    "***\n",
    "\n",
    "- I just stated previously that lists are slow. \n",
    "- Let's find out how quick lists and numpy arrays are in comparison.\n",
    "- We use the Python package `time` to measure the execution time of two loops."
   ]
  },
  {
   "cell_type": "code",
   "execution_count": null,
   "id": "fda92152",
   "metadata": {},
   "outputs": [],
   "source": []
  },
  {
   "cell_type": "markdown",
   "id": "3a5ed486",
   "metadata": {
    "slideshow": {
     "slide_type": "notes"
    }
   },
   "source": [
    "- Import the `time` package\n",
    "- Sum a large array of values\n",
    "\n",
    "```\n",
    "import time\n",
    "import numpy as np\n",
    "\n",
    "N = 1000000\n",
    "\n",
    "def sum_values(x):\n",
    "    total = 0.0\n",
    "    for i in x:\n",
    "        total = total + np.sin(i)\n",
    "    return total\n",
    "\n",
    "x_array = np.arange(N)\n",
    "\n",
    "start_time = time.time()\n",
    "total_array = sum_values(x_array)\n",
    "print(\"Return value = \", total_array)\n",
    "print(\"---Total computational time %s seconds ---\" % (time.time() - start_time))\n",
    "```"
   ]
  },
  {
   "cell_type": "markdown",
   "id": "a36f9847",
   "metadata": {
    "slideshow": {
     "slide_type": "slide"
    }
   },
   "source": [
    "## Conditional execution\n",
    "***\n",
    "\n",
    "- In many programmes we need to make decisions based on the state of the system\n",
    "- For example, we might apply different numerical methods for positive or negative values"
   ]
  },
  {
   "cell_type": "code",
   "execution_count": null,
   "id": "af74a40e",
   "metadata": {},
   "outputs": [],
   "source": []
  },
  {
   "cell_type": "markdown",
   "id": "5540be62",
   "metadata": {
    "slideshow": {
     "slide_type": "notes"
    }
   },
   "source": [
    "- Check square root of positive and negative numbers\n",
    "- Add a `if` statement to check for the sign\n",
    "\n",
    "```\n",
    "import numpy as np\n",
    "number = -1\n",
    "\n",
    "def calc_square_root(number):\n",
    "    if number > 0:\n",
    "        square_root = np.sqrt(number)\n",
    "    elif number == 0:\n",
    "        square_root = 0\n",
    "    else:\n",
    "        square_root = 1j * np.sqrt(-number)\n",
    "    return square_root\n",
    "\n",
    "print(\"The square root of\", number, \"is\", calc_square_root(number))\n",
    "\n",
    "# Define some test before writing the function\n",
    "assert calc_square_root(-1) == 1j, \"The square root of -1 should be 1j\"\n",
    "assert calc_square_root(-4)**2 == -4, \"The square of the square root of a number should be the number again\"\n",
    "```"
   ]
  },
  {
   "cell_type": "markdown",
   "id": "bd69005b",
   "metadata": {
    "slideshow": {
     "slide_type": "slide"
    }
   },
   "source": [
    "## Tests\n",
    "***\n",
    "\n",
    "- It is crucial to test programmes so that you are sure they do what they should do.\n",
    "- Validate that the model is an accurate representation of reality.\n",
    "- Verify that you have implemented it correctly\n",
    "- We are introducing `assert`\n",
    "- Other checks such as unit testing and exception handling will be discussed later"
   ]
  },
  {
   "cell_type": "code",
   "execution_count": null,
   "id": "c9bb9306",
   "metadata": {},
   "outputs": [],
   "source": []
  },
  {
   "cell_type": "markdown",
   "id": "0f80de31",
   "metadata": {
    "slideshow": {
     "slide_type": "notes"
    }
   },
   "source": [
    "- We can use the `assert` command to check for errors\n",
    "\n",
    "```\n",
    "assert True\n",
    "#assert False\n",
    "\n",
    "x = \"goodbye\"\n",
    "\n",
    "#if condition returns False, AssertionError is raised:\n",
    "assert x == \"hello\", \"x should be 'hello'\"\n",
    "\n",
    "x = 1\n",
    "\n",
    "assert x == 1\n",
    "```"
   ]
  },
  {
   "cell_type": "markdown",
   "id": "7b45941d",
   "metadata": {
    "slideshow": {
     "slide_type": "slide"
    }
   },
   "source": [
    "## Summary\n",
    "***\n",
    "\n",
    "We discussed\n",
    "- Lists and numpy arrays\n",
    "- `for` and `while` loops\n",
    "- Conditional execution\n",
    "- Timing of code\n",
    "- Assertion to check that a condition is `True`"
   ]
  },
  {
   "cell_type": "markdown",
   "id": "05e50883",
   "metadata": {
    "slideshow": {
     "slide_type": "slide"
    }
   },
   "source": [
    "# The end\n",
    "***\n",
    "\n",
    "## Any questions?"
   ]
  }
 ],
 "metadata": {
  "celltoolbar": "Slideshow",
  "jupytext": {
   "formats": "ipynb,py:percent"
  },
  "kernelspec": {
   "display_name": "Python 3 (ipykernel)",
   "language": "python",
   "name": "python3"
  },
  "language_info": {
   "codemirror_mode": {
    "name": "ipython",
    "version": 3
   },
   "file_extension": ".py",
   "mimetype": "text/x-python",
   "name": "python",
   "nbconvert_exporter": "python",
   "pygments_lexer": "ipython3",
   "version": "3.9.7"
  },
  "rise": {
   "enable_chalkboard": true
  }
 },
 "nbformat": 4,
 "nbformat_minor": 5
}
