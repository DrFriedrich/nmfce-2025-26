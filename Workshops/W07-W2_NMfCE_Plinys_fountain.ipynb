{
 "cells": [
  {
   "cell_type": "markdown",
   "id": "96516d6e-f915-434c-9da7-f73ddf13d1a6",
   "metadata": {},
   "source": [
    "# W07-W2: Pliny's intermittent fountain\n",
    "\n",
    "---\n",
    "\n",
    "Example from *Applied Numerical Methods with Matlab, S. C. Chapra*.\n",
    "\n",
    "The Roman natural philosopher, Pliny the Elder, purportedly had an intermittent fountain in his garden. As in the following figure, water enters a cylindrical tank at a constant flow rate $Q_{in}$ and fills until the water reaches $y_{high}$. At this point, water siphons out of the tank through a circular discharge pipe, producing a fountain at the pipe's exit. The fountain runs until the water level decreases to $y_{low}$, whereupon the siphon fills with air and the fountain stops. The cycle then repeats as the tank fills unit the water reaches $y_{high}$, and the fountain flows again.\n",
    "\n",
    "<img src=\"figures/chapra_21_11.png\" alt=\"Sketch of Pliny's fountain\" width=\"400\"/>\n",
    "\n",
    "When the siphon is running, the outflow $Q_{out}$ can be computed with the following formula based on Torricelli's law\n",
    "$$\n",
    "Q_{out} = C\\sqrt{2gy}\\pi r^2\n",
    "$$"
   ]
  },
  {
   "cell_type": "markdown",
   "id": "96b0c1be-fb50-4d33-b17a-94f5aa799548",
   "metadata": {},
   "source": [
    "#### Displaying solutions\n",
    "\n",
    "Solutions will be released after the workshop, as a new `.txt` file in the same GitHub repository. After pulling the file to Noteable, **run the following cell** to create clickable buttons under each exercise, which will allow you to reveal the solutions."
   ]
  },
  {
   "cell_type": "code",
   "execution_count": null,
   "id": "ed20abc2-8b18-4eb9-bd93-ca40620beef0",
   "metadata": {},
   "outputs": [],
   "source": [
    "%run scripts/create_widgets.py W07-W2"
   ]
  },
  {
   "cell_type": "markdown",
   "id": "0ebaf17e-c9eb-481b-9f96-fe9a917abbce",
   "metadata": {},
   "source": [
    "## Part a)\n",
    "\n",
    "From the mass balance derive a differential equation that describes the water height in the tank. To simplify the problem you can neglect the volume of water in the outflow pipe."
   ]
  },
  {
   "cell_type": "markdown",
   "id": "c5457df8-e1fd-48f0-897c-a6cc69a098b4",
   "metadata": {},
   "source": []
  },
  {
   "cell_type": "code",
   "execution_count": null,
   "id": "616ffee2-640d-4c99-9368-57e66e56aff0",
   "metadata": {},
   "outputs": [],
   "source": [
    "%run scripts/show_solutions.py W07-W2_parta"
   ]
  },
  {
   "cell_type": "markdown",
   "id": "2e3f2349-dc2c-4a13-8b32-ad3182507781",
   "metadata": {},
   "source": [
    "## Part b)\n",
    "\n",
    "Write a function that implements the differential equation for the water level. Define the outflow depending on the value of the siphon. You might want to use a `global` variable for this. Here is a link to more information about [global variables](https://www.w3schools.com/python/python_variables_global.asp)."
   ]
  },
  {
   "cell_type": "code",
   "execution_count": null,
   "id": "4d0b8f88-81b7-4409-802a-f04b740f86f0",
   "metadata": {},
   "outputs": [],
   "source": [
    "import numpy as np\n",
    "def Pliny(t, y, radius_tank, radius_pipe, y_low, y_high, C, Qin):\n",
    "    ''' Function describing the ODE for the water height in the tank\n",
    "    '''\n",
    "    pass"
   ]
  },
  {
   "cell_type": "code",
   "execution_count": null,
   "id": "a651123a-1fa6-45dd-889c-aa3568dc5764",
   "metadata": {},
   "outputs": [],
   "source": [
    "%run scripts/show_solutions.py W07-W2_partb"
   ]
  },
  {
   "cell_type": "markdown",
   "id": "d21c2403-fb1e-4637-a37b-30098400ade1",
   "metadata": {},
   "source": [
    "Here the siphon variable $s$ should be defined as a `global` variable so that the value can be maintained between function calls. While the use of global variables is discouraged because it will lead to difficult to maintain programs and can lead to very difficult to track bugs, it is the easiest way to deal with the siphon variable in the present context.\n",
    "\n",
    "The following cell can be used to test your implementation."
   ]
  },
  {
   "cell_type": "code",
   "execution_count": null,
   "id": "3520649d-a5b4-4f9a-a392-2027fba8f44d",
   "metadata": {},
   "outputs": [],
   "source": [
    "# Parameters\n",
    "radius_tank = 0.05      # Tank radius [m]\n",
    "radius_pipe = 0.007     # Pipe radius [m]\n",
    "y_low = 0.025           # Lower water limit [m]\n",
    "y_high = 0.1            # Upper water limit [m]\n",
    "C = 0.6                 # Pipe flow parameter\n",
    "Qin = 50e-6             # Water inflow [m^3/s]\n",
    "\n",
    "siphon = 0\n",
    "\n",
    "np.testing.assert_almost_equal(Pliny(0, 0, radius_tank, radius_pipe, y_low, y_high, C, Qin), 0.006366, decimal=3)\n",
    "np.testing.assert_almost_equal(Pliny(0, 1, radius_tank, radius_pipe, y_low, y_high, C, Qin), -0.0457240, decimal=3)"
   ]
  },
  {
   "cell_type": "markdown",
   "id": "3f11c121-641e-4858-b28b-dd07c154c5ed",
   "metadata": {},
   "source": [
    "## Part c)\n",
    "\n",
    "Use `scipy.integrate.solve_ivp` to solve the mass balance for the water level for 100 seconds starting with an initially empty tank. Start with the default solver and plot the water level over time.\n",
    "\n",
    "- [scipy.integrate.solve_ivp](https://docs.scipy.org/doc/scipy/reference/generated/scipy.integrate.solve_ivp.html) documentation"
   ]
  },
  {
   "cell_type": "code",
   "execution_count": null,
   "id": "e013e605-e417-4c55-acd3-9c680237f0ad",
   "metadata": {},
   "outputs": [],
   "source": []
  },
  {
   "cell_type": "code",
   "execution_count": null,
   "id": "4cef92e6-4989-4f17-bbbd-2bf893aafef2",
   "metadata": {},
   "outputs": [],
   "source": [
    "%run scripts/show_solutions.py W07-W2_partc"
   ]
  },
  {
   "cell_type": "markdown",
   "id": "40d4deb4-98ef-47dc-8da4-72bf39784dd8",
   "metadata": {},
   "source": [
    "## Part d)\n",
    "\n",
    "Analyse the solution behaviour and compare it to the behaviour expected by the fountain."
   ]
  },
  {
   "cell_type": "markdown",
   "id": "41fc93e1-0b87-4a88-ab8e-c5fa5aa7f7af",
   "metadata": {},
   "source": []
  },
  {
   "cell_type": "code",
   "execution_count": null,
   "id": "81b90451-b27a-49f3-9f0e-8be4c3138bfc",
   "metadata": {},
   "outputs": [],
   "source": [
    "%run scripts/show_solutions.py W07-W2_partd"
   ]
  },
  {
   "cell_type": "markdown",
   "id": "83ad8ba0-9d89-401d-a1e4-2d8890aec9fe",
   "metadata": {},
   "source": [
    "## Part e) \n",
    "\n",
    "Now you can try the ODE solvers for stiff systems but you will discover that the solution doesn't improve by much. The next thing to try would be a decrease in the integration tolerances. This will produce slightly better results but you need very strict tolerances to get close to the expected behaviour.\n",
    "\n",
    "This difficulty in integrating the equation for Pliny's fountain stems from the fact that the ODE is discontinuous when the siphon switches on or off. For example, when the tank is filling the change in water height depends only on the constant inflow. However, once the water height reaches $y_{high}$ the derivative changes immediately from a positive value to a negative one. While the adaptive step size routines from the default solver handle continuous functions very well, they often struggle with discontinuities. \n",
    "\n",
    "Look at the documentation for `scipy.integrate.solve_ivp` and try the following things:\n",
    "1. Swap the default solver for the implicit solver `LSODA`\n",
    "2. Tighten the integration tolerances\n",
    "3. Set a max step size"
   ]
  },
  {
   "cell_type": "code",
   "execution_count": null,
   "id": "70c41c86-a79b-436a-8cb7-28f2abca4b4d",
   "metadata": {},
   "outputs": [],
   "source": []
  },
  {
   "cell_type": "code",
   "execution_count": null,
   "id": "752d099a-625d-40a6-9a92-2d422448a92e",
   "metadata": {},
   "outputs": [],
   "source": [
    "%run scripts/show_solutions.py W07-W2_parte"
   ]
  },
  {
   "cell_type": "markdown",
   "id": "acedc225-2107-4ea2-bf04-9c071443b516",
   "metadata": {},
   "source": [
    "There are a few ways to deal with such discontinuities. One would be to monitor the derivative for a change of sign and to integrate up to the point where the sign changes. This can be done with the SUNDIALS suite of ODE/DAE solvers. The second and in this case arguably simpler method, is to use an integrator with a constant and small step size. The code included above also uses a max step size of $\\Delta t = 0.1$. The plot shows that this integrator produces exactly the expected profile of water heights.\n",
    "\n",
    "**Take home message:** Don't blindly trust the output of a piece of software. Here the solution is not crashing nor is it producing results which are not possible, e.g. negative water levels, but the solution was nevertheless wrong. So always examine the output with a critical mind and use your engineering knowledge and experience. Also, sometimes the simpler schemes are better than more complex ones. "
   ]
  },
  {
   "cell_type": "code",
   "execution_count": null,
   "id": "e6028cd9-cb6b-4894-ae7b-2dbe44766b58",
   "metadata": {},
   "outputs": [],
   "source": []
  }
 ],
 "metadata": {
  "kernelspec": {
   "display_name": "Python 3 (ipykernel)",
   "language": "python",
   "name": "python3"
  },
  "language_info": {
   "codemirror_mode": {
    "name": "ipython",
    "version": 3
   },
   "file_extension": ".py",
   "mimetype": "text/x-python",
   "name": "python",
   "nbconvert_exporter": "python",
   "pygments_lexer": "ipython3",
   "version": "3.12.6"
  }
 },
 "nbformat": 4,
 "nbformat_minor": 5
}
