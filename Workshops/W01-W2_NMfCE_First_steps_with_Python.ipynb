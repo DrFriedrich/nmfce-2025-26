{
 "cells": [
  {
   "cell_type": "markdown",
   "metadata": {},
   "source": [
    "# Week 1 worksheet 2: First steps with Python and Jupyter\n",
    "\n",
    "Working on a single computer in a physical computer lab"
   ]
  },
  {
   "cell_type": "markdown",
   "metadata": {},
   "source": [
    "### Let's start coding!\n",
    "\n",
    "- **Driver:** When you code something, explain what you are doing out loud.\n",
    "- **Navigator**: Help the driver by reading these instructions to them, so they don't have to keep coming back here to read them all the time.\n",
    "\n",
    "*If this doesn't work, please call a tutor.*\n",
    "\n",
    "#### Driver & navigator:\n",
    "\n",
    "Discuss together to figure out how the `print()` command works here. Driver, you can try to remove the `f` in front of the quote `'`, and run the code again to see what happens; you can also try changing what's inside the `{}`. Navigator, you can consult the documentation [here](https://docs.python.org/3/tutorial/inputoutput.html#formatted-string-literals) and explain it to your driver."
   ]
  },
  {
   "cell_type": "code",
   "execution_count": null,
   "metadata": {},
   "outputs": [],
   "source": [
    "name = 'Josephine'\n",
    "age = 36"
   ]
  },
  {
   "cell_type": "code",
   "execution_count": null,
   "metadata": {},
   "outputs": [],
   "source": [
    "print(f'Hi, my name is {name}, and I am {age} years old.')"
   ]
  },
  {
   "cell_type": "markdown",
   "metadata": {},
   "source": [
    "\n",
    "\n",
    "#### Driver:\n",
    "\n",
    "- Change the variables `name` and `age` to reflect your own name and age.\n",
    "\n",
    "- Create a new variable called `birthday`, a *string* which indicates when is your birthday. For example, if your birthday is this Sunday, `birthday` could be `'27th September'`.\n",
    "\n",
    "- Then, after the `print()` command, add another line to print a sentence which says when is your birthday. Run all the code again, and check that it worked. If it doesn't work, ask your navigator to help you find the error.\n",
    "\n",
    "Now, you are going to save your changes and hand over control to the Navigator. Swap places with the Navigator.\n",
    "\n",
    "#### Navigator:\n",
    "\n",
    "Take control of the keyboard and mouse.\n"
   ]
  },
  {
   "cell_type": "markdown",
   "metadata": {},
   "source": [
    "### Time to switch roles!\n",
    "\n",
    "Navigator, you are now the **driver**, and vice versa.\n",
    "\n",
    "- **(New) driver**: Explain what you do out loud for your navigator to follow more easily.\n",
    "- **(New) navigator**: You are now in charge of reading the instructions for your driver, observing what they do, and helping them when necessary.\n",
    "\n",
    "#### Driver:\n",
    "\n",
    "Continue to work on the notebook the previous Driver has been working on.\n",
    "\n",
    "- Run the code yourself to check that it still works. (It should!)\n",
    "\n",
    "- Change the values of `name`, `age`, and `birthday` to your own name, age, and birthday.\n",
    "\n",
    "- Delete the line that prints when your birthday is.\n",
    "\n",
    "- Write a new line to print a sentence which says that you will be one year older on your birthday. For instance, with the example values that were in the code at the beginning of the workshop, that could be something like:\n",
    "\n",
    "> On the 27th October, I will be 37 years old.\n",
    "\n",
    "The date and age should correspond to your own, and you are not allowed to type them or copy/paste them explicitly into the `print()` command. Run the code and check that it works.\n",
    "\n",
    "#### Navigator:\n",
    "\n",
    "Help your driver figure out how to do this. You can also look at the documentation [here](https://docs.python.org/3/tutorial/inputoutput.html#formatted-string-literals). If the code doesn't work the first time, help the driver to find the error.\n",
    "\n",
    "#### Driver:\n",
    "\n",
    "Save the file."
   ]
  },
  {
   "cell_type": "markdown",
   "metadata": {},
   "source": [
    "## Victory!\n",
    "\n",
    "Well done -- you now know how to pair-program and how to work collaboratively.\n",
    "\n",
    "If you still have time before the end of the workshop, then please continue working like this together. You can change roles again now (don't forget to change who shares their screen), and continue adding and changing things to the code. **Don't forget to switch roles** at least a couple more times.\n",
    "\n",
    "Here are some suggestions:\n",
    "\n",
    "- Instead of changing the values of `name`, `age`, and `birthday`, change the variable names to e.g. `name_1`, `age_1`, and `birthday_1`, and add 3 new variables `name_2`, `age_2`, and `birthday_2`, so that both your names, ages, and birthdays are kept in memory. Add another command to print that information for both of you.\n",
    "\n",
    "- Using **comparison operators** (you can't type 'True' or 'False' yourself), try to print the following:\n",
    "\n",
    "> Is <person 1> younger than <person 2>? <True/False>\n",
    "\n",
    "where <person 1> and <person 2> are your respective names, and <True/False> is either `True` or `False` (the Boolean value) depending on your ages. Again, no typing names or ages in the `print()` command!\n",
    "\n",
    "- Create more variables to print information about yourselves to get to know each other a little better: where you are from, where you are currently located and what time it is there, what courses you are taking this semester... It's a bit like having a conversation using exclusively `print()` commands.\n",
    "\n",
    "- You can also create a new Python notebook: on the main Noteable screen press \"New\" -> \"Python 3\". You can later give it a name under \"File\" -> \"Rename\". Write some code in it and run it. You could create a new script like this to work together on one of the tutorial worksheet problems, for example."
   ]
  },
  {
   "cell_type": "markdown",
   "metadata": {},
   "source": [
    "## Useful tips\n",
    "\n",
    "- If you can't decide who should be the driver first, pick the person who is currently closest to the North Pole.\n",
    "- Throughout a pair programming session, the driver and the navigator should **communicate** as much as possible. For example, when typing code, the driver can explain what they want to do, talk through their thought process, ask the navigator for help; the navigator can provide feedback on the code, ask the driver to do something differently, spot mistakes and suggest corrections, consult the documentation (or other notes)..."
   ]
  },
  {
   "cell_type": "code",
   "execution_count": null,
   "metadata": {},
   "outputs": [],
   "source": []
  }
 ],
 "metadata": {
  "kernelspec": {
   "display_name": "Python 3 (ipykernel)",
   "language": "python",
   "name": "python3"
  },
  "language_info": {
   "codemirror_mode": {
    "name": "ipython",
    "version": 3
   },
   "file_extension": ".py",
   "mimetype": "text/x-python",
   "name": "python",
   "nbconvert_exporter": "python",
   "pygments_lexer": "ipython3",
   "version": "3.9.7"
  }
 },
 "nbformat": 4,
 "nbformat_minor": 4
}
