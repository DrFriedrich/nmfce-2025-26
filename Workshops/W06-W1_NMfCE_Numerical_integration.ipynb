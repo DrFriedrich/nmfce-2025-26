{
 "cells": [
  {
   "cell_type": "markdown",
   "metadata": {},
   "source": [
    "# Week 6 worksheet 1: Introduction to numerical integration\n",
    "\n",
    "This notebook is modified from one created by Charlotte Desvages.\n",
    "\n",
    "This week, we investigate numerical methods to estimate integrals.\n",
    "\n",
    "The best way to learn programming is to write code. Don't hesitate to edit the code in the example cells, or add your own code, to test your understanding. You will find practice exercises throughout the notebook, denoted by 🚩 ***Exercise $x$:***.\n",
    "\n",
    "#### Displaying solutions\n",
    "\n",
    "Solutions will be released one week after the worksheets are released, as a new `.txt` file in the same GitHub repository. After pulling the file to your workspace, run the following cell to create clickable buttons under each exercise, which will allow you to reveal the solutions."
   ]
  },
  {
   "cell_type": "code",
   "execution_count": null,
   "metadata": {
    "tags": []
   },
   "outputs": [],
   "source": [
    "%run scripts/create_widgets.py W06-W1"
   ]
  },
  {
   "cell_type": "markdown",
   "metadata": {},
   "source": [
    "## Numerical integration\n",
    "\n",
    "🚩 *Recommended reading:* Section 3.3 in **ASC**\n",
    "\n",
    "Numerical integration is the process of computing an approximation of a definite integral, using a particular *scheme*. There are many different ways we could go about this, but in general, we want to approximate an integral using a **weighted sum** which is easy to compute:\n",
    "\n",
    "$$\n",
    "\\int_a^b f(x) \\ dx \\approx \\sum_{k=0}^{N-1} w_k f(x_k),\n",
    "$$\n",
    "\n",
    "where\n",
    "- $x_k \\in [a, b]$ are **nodes**, i.e. a finite number of points chosen in the integration interval,\n",
    "- $w_k \\in \\mathbb{R}$ are **weights** (coefficients) chosen appropriately.\n",
    "\n",
    "The choice of nodes and weights differentiates one numerical integration method from another, and different choices lead to different *degrees of precision*. We will see more about this next week.\n",
    "\n",
    "### Riemann sums\n",
    "\n",
    "You probably already know a numerical integration method -- the Riemann sum. Run the code cell below to display a figure (it uses [`matplotlib.patches.Rectangle()`](https://matplotlib.org/api/_as_gen/matplotlib.patches.Rectangle.html)):\n",
    "\n",
    "*Remark:* The first command `%matplotlib notebook` is a notebook-wide setting, which allows to generate **dynamic plots** inside the Jupyter notebook, which we can e.g. zoom into or further modify. (We can toggle back to the default behaviour using the command `%matplotlib inline`, where all plots are \"printed\" for good when they are created, and cannot be further modified.)\n",
    "\n",
    "Once you are finished with the plot you, you should click on the 'Stop interaction' blue button in the plot above."
   ]
  },
  {
   "cell_type": "code",
   "execution_count": null,
   "metadata": {},
   "outputs": [],
   "source": [
    "%matplotlib notebook\n",
    "import matplotlib.pyplot as plt\n",
    "import matplotlib.patches as patches\n",
    "import numpy as np\n",
    "\n",
    "def f(x):\n",
    "    return np.exp(-x**2)\n",
    "\n",
    "# Create an x-axis with 100 points and estimate the function\n",
    "a, b = 0, 3\n",
    "x_plot = np.linspace(a, b, 100)\n",
    "f_plot = f(x_plot)\n",
    "\n",
    "# Create the nodes\n",
    "N = 10\n",
    "x_node = np.linspace(a, b, N+1)\n",
    "f_node = f(x_node)\n",
    "\n",
    "# Plot the function\n",
    "fig, ax = plt.subplots(1, 2, figsize=(9, 3))\n",
    "\n",
    "ax[0].plot(x_plot, f_plot, 'k-')\n",
    "ax[1].plot(x_plot, f_plot, 'k-')\n",
    "\n",
    "# Plot the rectangles for left and right sums\n",
    "h = (b - a) / N\n",
    "for k in range(N):\n",
    "    rect = patches.Rectangle((x_node[k], 0), h, f_node[k], edgecolor='k')\n",
    "    ax[0].add_patch(rect)\n",
    "    \n",
    "    rect = patches.Rectangle((x_node[k], 0), h, f_node[k+1], edgecolor='k')\n",
    "    ax[1].add_patch(rect)\n",
    "    \n",
    "    \n",
    "# Plot the nodes\n",
    "ax[0].plot(x_node[:-1], f_node[:-1], 'rx')\n",
    "ax[1].plot(x_node[1:], f_node[1:], 'rx')\n",
    "\n",
    "# Label the plots\n",
    "ax[0].set_xlabel(r'$x$')\n",
    "ax[1].set_xlabel(r'$x$')\n",
    "ax[0].set_ylabel(r'$f(x)$')\n",
    "\n",
    "ax[0].set_title('Left Riemann sum')\n",
    "ax[1].set_title('Right Riemann sum')\n",
    "\n",
    "plt.show()"
   ]
  },
  {
   "cell_type": "markdown",
   "metadata": {},
   "source": [
    "We can estimate the integral of $f(x)$ by calculating the area shaded in blue. Here, we subdivide the interval $[a, b]$ into $N$ partitions of equal width $h$:\n",
    "\n",
    "$$\n",
    "h = \\frac{b-a}{N}\n",
    "$$\n",
    "\n",
    "The **nodes** are the end points of these sub-intervals, and here the **weights** are simply $h$, the width of each interval. The integral of $f(x)$ between $a$ and $b$ can then be estimated as:\n",
    "\n",
    "$$\n",
    "\\begin{align}\n",
    "\\int_a^b f(x) \\ dx &\\approx \\sum_{k=0}^{N-1} h \\ f(x_k), \\quad & \\text{left Riemann sum} \\\\\n",
    "\\int_a^b f(x) \\ dx &\\approx \\sum_{k=1}^N h \\ f(x_k), \\quad & \\text{right Riemann sum}\n",
    "\\end{align}\n",
    "$$\n",
    "\n",
    "where the $N+1$ nodes $x_k$ are given by $x_k = a + kh$, with $k = 0, 1, \\dots, N$. With this choice of nodes and weights, each element of the sum is simply the area of one blue rectangle."
   ]
  },
  {
   "cell_type": "code",
   "execution_count": null,
   "metadata": {},
   "outputs": [],
   "source": [
    "from math import erf\n",
    "import numpy as np\n",
    "\n",
    "# Estimate the integral\n",
    "left_I = np.sum(h * f_node[:-1])\n",
    "right_I = np.sum(h * f_node[1:])\n",
    "\n",
    "# Exact value\n",
    "I_exact = np.sqrt(np.pi) / 2 * (erf(b) - erf(a))\n",
    "\n",
    "print(f'The exact integral is {I_exact:.3f}.\\n')\n",
    "print(f'The left Riemann sum is {left_I:.3f}.\\n')\n",
    "print(f'The right Riemann sum is {right_I:.3f}.\\n')"
   ]
  },
  {
   "cell_type": "markdown",
   "metadata": {},
   "source": [
    "---\n",
    "🚩 ***Exercise 1:*** Using the Riemann sum methods above, estimate the value of the integral using different values of $N$. How does the accuracy change with $N$?\n",
    "\n",
    "*Hint:* plot $\\log(N)$ vs. $\\log(\\text{error})$. You may wish to use e.g. [`np.polyfit()`](https://numpy.org/doc/stable/reference/generated/numpy.polyfit.html) or [`scipy.stats.linregress()`](https://docs.scipy.org/doc/scipy/reference/generated/scipy.stats.linregress.html)."
   ]
  },
  {
   "cell_type": "code",
   "execution_count": null,
   "metadata": {},
   "outputs": [],
   "source": []
  },
  {
   "cell_type": "code",
   "execution_count": null,
   "metadata": {
    "tags": [
     "solution_cell"
    ]
   },
   "outputs": [],
   "source": [
    "%run scripts/show_solutions.py W06-W1_ex1"
   ]
  },
  {
   "cell_type": "markdown",
   "metadata": {},
   "source": [
    "---\n",
    "### The midpoint rule\n",
    "\n",
    "The midpoint rule is similar to the Riemann sums, but the nodes are taken as the **midpoint** of each partition instead of one of the extremities:\n",
    "\n",
    "$$\n",
    "\\int_a^b f(x) \\ dx \\approx \\sum_{k=0}^{N-1} h \\ f(x_k),\n",
    "$$\n",
    "\n",
    "where the nodes $x_k$ are given by $x_k = a + \\left(k + \\frac{1}{2}\\right)h$, with $k = 0, 1, \\dots, N-1$."
   ]
  },
  {
   "cell_type": "code",
   "execution_count": null,
   "metadata": {},
   "outputs": [],
   "source": [
    "def f(x):\n",
    "    return np.exp(-x**2)\n",
    "\n",
    "# Create an x-axis with 100 points and estimate the function\n",
    "a, b = 0, 3\n",
    "x_plot = np.linspace(a, b, 100)\n",
    "f_plot = f(x_plot)\n",
    "\n",
    "# Create the nodes\n",
    "N = 10\n",
    "h = (b - a) / N\n",
    "x_node = np.linspace(a + 0.5*h, b, N)\n",
    "f_node = f(x_node)\n",
    "\n",
    "# Plot the function\n",
    "fig, ax = plt.subplots(figsize=(5, 3))\n",
    "ax.plot(x_plot, f_plot, 'k-')\n",
    "\n",
    "# Plot the rectangles\n",
    "for k in range(N):\n",
    "    rect = patches.Rectangle((x_node[k] - 0.5*h, 0), h, f_node[k], edgecolor='k')\n",
    "    ax.add_patch(rect)\n",
    "\n",
    "# Plot the nodes\n",
    "ax.plot(x_node, f_node, 'rx')\n",
    "\n",
    "# Label the plots\n",
    "ax.set_xlabel(r'$x$')\n",
    "ax.set_ylabel(r'$f(x)$')\n",
    "ax.set_title('Midpoint rule')\n",
    "\n",
    "plt.show()\n",
    "\n",
    "# Estimate the integral\n",
    "midpoint_I = np.sum(h * f_node)\n",
    "\n",
    "# Exact value\n",
    "I_exact = np.sqrt(np.pi) / 2 * (erf(b) - erf(a))\n",
    "\n",
    "print(f'The exact integral is {I_exact:.3f}.\\n')\n",
    "print(f'The estimated integral using the midpoint rule is {midpoint_I:.3f}.\\n')"
   ]
  },
  {
   "cell_type": "markdown",
   "metadata": {},
   "source": [
    "---\n",
    "🚩 ***Exercise 2:*** Using the midpoint rule method above, estimate the value of the integral using different values of $N$. How does the accuracy change with $N$?"
   ]
  },
  {
   "cell_type": "code",
   "execution_count": null,
   "metadata": {},
   "outputs": [],
   "source": []
  },
  {
   "cell_type": "code",
   "execution_count": null,
   "metadata": {
    "tags": [
     "solution_cell"
    ]
   },
   "outputs": [],
   "source": [
    "%run scripts/show_solutions.py W06-W1_ex2"
   ]
  },
  {
   "cell_type": "markdown",
   "metadata": {},
   "source": [
    "---\n",
    "### The trapezoid rule\n",
    "\n",
    "The trapezoid rule also uses partitions of equal width, but instead of approximating the integral as the area of rectangles, it uses trapezoids -- the function is interpolated linearly between the nodes.\n",
    "\n",
    "$$\n",
    "\\int_a^b f(x) \\ dx \\approx \\sum_{k=0}^{N-1} h\\frac{\\left(f(x_k) + f(x_{k+1})\\right)}{2} ,\n",
    "$$\n",
    "\n",
    "where the nodes $x_k$ are given by $x_k = a +kh$, with $k = 0, 1, \\dots, N$."
   ]
  },
  {
   "cell_type": "code",
   "execution_count": null,
   "metadata": {},
   "outputs": [],
   "source": [
    "def f(x):\n",
    "    return np.exp(-x**2)\n",
    "\n",
    "# Create an x-axis with 100 points and estimate the function\n",
    "a, b = 0, 3\n",
    "x_plot = np.linspace(a, b, 100)\n",
    "f_plot = f(x_plot)\n",
    "\n",
    "# Create the nodes\n",
    "N = 6\n",
    "h = (b - a) / N\n",
    "x_node = np.linspace(a, b, N + 1)\n",
    "f_node = f(x_node)\n",
    "\n",
    "# Plot the function\n",
    "fig, ax = plt.subplots(figsize=(5, 3))\n",
    "ax.plot(x_plot, f_plot, 'k-')\n",
    "\n",
    "# Plot the trapezoids\n",
    "for k in range(N):\n",
    "    verts = [[x_node[k], 0], [x_node[k+1], 0],\n",
    "             [x_node[k+1], f_node[k+1]], [x_node[k], f_node[k]]]\n",
    "    trapz = patches.Polygon(verts, h, edgecolor='k')\n",
    "    ax.add_patch(trapz)\n",
    "\n",
    "# Plot the nodes\n",
    "ax.plot(x_node, f_node, 'rx')\n",
    "\n",
    "# Label the plots\n",
    "ax.set_xlabel(r'$x$')\n",
    "ax.set_ylabel(r'$f(x)$')\n",
    "ax.set_title('Trapezoid rule')\n",
    "\n",
    "plt.show()\n",
    "\n",
    "# Estimate the integral\n",
    "midpoint_I = np.sum(0.5 * h * (f_node[:-1] + f_node[1:]))\n",
    "\n",
    "# Exact value\n",
    "I_exact = np.sqrt(np.pi) / 2 * (erf(b) - erf(a))\n",
    "\n",
    "print(f'The exact integral is {I_exact:.3f}.\\n')\n",
    "print(f'The estimated integral using the midpoint rule is {midpoint_I:.3f}.\\n')"
   ]
  },
  {
   "cell_type": "markdown",
   "metadata": {},
   "source": [
    "---\n",
    "🚩 ***Exercise 3:*** Using the trapezoid rule method above, estimate the value of the integral using different values of $N$. How does the accuracy change with $N$?"
   ]
  },
  {
   "cell_type": "code",
   "execution_count": null,
   "metadata": {},
   "outputs": [],
   "source": []
  },
  {
   "cell_type": "code",
   "execution_count": null,
   "metadata": {
    "tags": [
     "solution_cell"
    ]
   },
   "outputs": [],
   "source": [
    "%run scripts/show_solutions.py W06-W1_ex3"
   ]
  },
  {
   "cell_type": "code",
   "execution_count": null,
   "metadata": {},
   "outputs": [],
   "source": []
  }
 ],
 "metadata": {
  "celltoolbar": "Tags",
  "kernelspec": {
   "display_name": "Python 3 (ipykernel)",
   "language": "python",
   "name": "python3"
  },
  "language_info": {
   "codemirror_mode": {
    "name": "ipython",
    "version": 3
   },
   "file_extension": ".py",
   "mimetype": "text/x-python",
   "name": "python",
   "nbconvert_exporter": "python",
   "pygments_lexer": "ipython3",
   "version": "3.12.6"
  }
 },
 "nbformat": 4,
 "nbformat_minor": 4
}
