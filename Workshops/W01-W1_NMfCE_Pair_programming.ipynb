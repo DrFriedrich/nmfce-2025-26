{
 "cells": [
  {
   "cell_type": "markdown",
   "metadata": {},
   "source": [
    "# Week 1 worksheet 1: Pair programming\n"
   ]
  },
  {
   "cell_type": "markdown",
   "metadata": {},
   "source": [
    "## What is pair programming?\n",
    "\n",
    "During the workshops you will work in pairs on the programming tasks, using a method called pair programming. It's a collaboration technique very popular in programming and part of the Agile Programming manifesto. Basically almost everything good in programming came out of the Agile Programming manifesto.\n",
    "\n",
    "__How does pair programming work__\n",
    "\n",
    "In Pair Programming there are two roles: Driver and Navigator. You and your partner will take turns driving, and will change every 10-15 minutes.\n",
    "\n",
    "- Driver: Person who types on the keyboard and uses the mouse. You write in the notebook\n",
    "    - You will have the code opened in front of you and will be sharing your screen.\n",
    "    - Your job is to think out loud as you read the notes and solve the exercises.\n",
    "    - Your job is to talk the navigator through solving the puzzles.\n",
    "    - As you describe things, to them you will both find out if you understand it all correctly.\n",
    "- Navigator: Person who asks questions, points out improvements and helps the driver\n",
    "    - You are viewing the driver's screen and asking questions, making sure that you both understand what the notes are saying.\n",
    "    \n",
    "This methid feels a bit weird on the beginning, but you will really get used to it. It has been used in programming, but also editing text, drawing and other types of pair work. The basic principle is: One person 'holds the pen' and the other person 'asks questions', and then you swap.\n",
    "\n",
    "This notebook will explain how to setup the remote pair programming workspace, instruct you on how to work together and encourage you to try the roles of driver and navigator.\n",
    "\n",
    "The tasks in this workshop contain detailed instructions about what to do and when, so you can have a better idea of how this works in practice. There will be less and less scaffolding in future workshops -- it will feel more natural after you've done it a few times. During pair programming workshops, we will typically ask you to switch roles every 15 minutes or so, to make sure that both you and your partner take both roles at least once."
   ]
  },
  {
   "cell_type": "code",
   "execution_count": null,
   "metadata": {},
   "outputs": [],
   "source": [
    "# fill in your names below.\n",
    "\n",
    "# first just to check in, one of you is the driver (you see this on your own screen, and you are screen-sharing)\n",
    "driver_name = \"\"\n",
    "\n",
    "# and one of you is the navigator, you are seeing this, but cannot type. Driver will need to type your name\n",
    "navigator_name = \"\"\n",
    "\n",
    "# now run this cell (Shift + Enter)\n",
    "print(\"Driver is \" + driver_name + \"and Navigator is\" + navigator_name)\n",
    "\n",
    "# when you're done typing Save this notebook with Fine > Save and Checkpoint (Ctro + S or Cmd + S)"
   ]
  },
  {
   "cell_type": "markdown",
   "metadata": {},
   "source": [
    "### Pair Programming in a computer lab\n",
    "\n",
    "If we were sitting side by side **in a physical computer lab**, you would:\n",
    "\n",
    "- work on one computer, sitting side-by-side, looking at one screen\n",
    "- driver would use the keyboard and mouse\n",
    "- navigator would ask questions, maybe look at notes\n",
    "- pass the keyboard and mose to each other, every 15 minutes\n",
    "\n",
    "Most of the time one of you reads or types much faster than the other one. Or maybe you already grasped a concept that your partner is still digesting. Working together like this is your opportunity to help each other, but also to **understand things better, because you had to explain them to someone**. This is called \"Rubber Ducking\" and is explained more in one of the linked videos on Learn.\n",
    "\n",
    "In this lab we will try to do this at least once, so you know what we are talking about:"
   ]
  },
  {
   "cell_type": "markdown",
   "metadata": {},
   "source": [
    "### In this short lab:\n",
    "\n",
    "1. You already decided who is the first driver, it's the person whose screen you are viewing right now.\n",
    "2. It probably took you 10 minutes to read the above section, so it is time to switch. (I will describe below exactly how to switch using Noteable notebooks).\n",
    "3. Continue going through this notebook with the other person being the new Driver.\n",
    "\n",
    "* It is customary to have a short debrief as you switch, and ask questions like: \"How was this for you? Am I going too quickly? How do you like it when I ask you questions? How do you feel?\"\n",
    "\n",
    "4. If you completed this notebook and still have time, open one of the other code notebooks for this course, and start going through it with your partner."
   ]
  },
  {
   "cell_type": "markdown",
   "metadata": {},
   "source": [
    "#### What I would like you to do in a minute to finish this lab (first read it).\n",
    "    \n",
    "- Person 1 (first driver): Save your notebook and swap positions with Person 2.\n",
    "- Person 2 (you were the navigator, but you are now becoming second driver): Take control of the keyboard and mouse.\n",
    "- Person 2: Edit your names above to add also your surnames\n",
    "- Person 2: Save the notebook and swap positions with Person 1.\n",
    "- Person 1 (becoming the driver again): Read the tip below and share the notebook.\n",
    "\n",
    "OK, now go and do it. Good luck."
   ]
  },
  {
   "cell_type": "markdown",
   "metadata": {},
   "source": [
    "### Extra tip: To download and upload files\n",
    "\n",
    "To actually share the file (not just share access to it), you have to download it which can be done through File > Download, and upload it in the Noteable file list (you'll need to click upload on the m, and the clock dark-blue upload button again.)"
   ]
  },
  {
   "cell_type": "code",
   "execution_count": null,
   "metadata": {},
   "outputs": [],
   "source": []
  }
 ],
 "metadata": {
  "kernelspec": {
   "display_name": "Python 3 (ipykernel)",
   "language": "python",
   "name": "python3"
  },
  "language_info": {
   "codemirror_mode": {
    "name": "ipython",
    "version": 3
   },
   "file_extension": ".py",
   "mimetype": "text/x-python",
   "name": "python",
   "nbconvert_exporter": "python",
   "pygments_lexer": "ipython3",
   "version": "3.12.6"
  }
 },
 "nbformat": 4,
 "nbformat_minor": 4
}
